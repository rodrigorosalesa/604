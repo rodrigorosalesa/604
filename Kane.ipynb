{
 "cells": [
  {
   "cell_type": "code",
   "execution_count": 26,
   "id": "36169d0f-90bf-4aa3-a1c1-6cbe89824720",
   "metadata": {},
   "outputs": [
    {
     "data": {
      "text/html": [
       "<div>\n",
       "<style scoped>\n",
       "    .dataframe tbody tr th:only-of-type {\n",
       "        vertical-align: middle;\n",
       "    }\n",
       "\n",
       "    .dataframe tbody tr th {\n",
       "        vertical-align: top;\n",
       "    }\n",
       "\n",
       "    .dataframe thead th {\n",
       "        text-align: right;\n",
       "    }\n",
       "</style>\n",
       "<table border=\"1\" class=\"dataframe\">\n",
       "  <thead>\n",
       "    <tr style=\"text-align: right;\">\n",
       "      <th></th>\n",
       "      <th>iso_code</th>\n",
       "      <th>continent</th>\n",
       "      <th>location</th>\n",
       "      <th>date</th>\n",
       "      <th>total_cases</th>\n",
       "      <th>new_cases</th>\n",
       "      <th>new_cases_smoothed</th>\n",
       "      <th>total_deaths</th>\n",
       "      <th>new_deaths</th>\n",
       "      <th>new_deaths_smoothed</th>\n",
       "      <th>...</th>\n",
       "      <th>male_smokers</th>\n",
       "      <th>handwashing_facilities</th>\n",
       "      <th>hospital_beds_per_thousand</th>\n",
       "      <th>life_expectancy</th>\n",
       "      <th>human_development_index</th>\n",
       "      <th>population</th>\n",
       "      <th>excess_mortality_cumulative_absolute</th>\n",
       "      <th>excess_mortality_cumulative</th>\n",
       "      <th>excess_mortality</th>\n",
       "      <th>excess_mortality_cumulative_per_million</th>\n",
       "    </tr>\n",
       "  </thead>\n",
       "  <tbody>\n",
       "    <tr>\n",
       "      <th>0</th>\n",
       "      <td>ARG</td>\n",
       "      <td>South America</td>\n",
       "      <td>Argentina</td>\n",
       "      <td>2020-01-01 0:00</td>\n",
       "      <td>0</td>\n",
       "      <td>0</td>\n",
       "      <td>0.0</td>\n",
       "      <td>0</td>\n",
       "      <td>0</td>\n",
       "      <td>0.0</td>\n",
       "      <td>...</td>\n",
       "      <td>27.7</td>\n",
       "      <td>0.0</td>\n",
       "      <td>5.0</td>\n",
       "      <td>76.67</td>\n",
       "      <td>0.845</td>\n",
       "      <td>45276780</td>\n",
       "      <td>0.0</td>\n",
       "      <td>0.0</td>\n",
       "      <td>0.0</td>\n",
       "      <td>0.0</td>\n",
       "    </tr>\n",
       "    <tr>\n",
       "      <th>1</th>\n",
       "      <td>ARG</td>\n",
       "      <td>South America</td>\n",
       "      <td>Argentina</td>\n",
       "      <td>2020-01-02 0:00</td>\n",
       "      <td>0</td>\n",
       "      <td>0</td>\n",
       "      <td>0.0</td>\n",
       "      <td>0</td>\n",
       "      <td>0</td>\n",
       "      <td>0.0</td>\n",
       "      <td>...</td>\n",
       "      <td>27.7</td>\n",
       "      <td>0.0</td>\n",
       "      <td>5.0</td>\n",
       "      <td>76.67</td>\n",
       "      <td>0.845</td>\n",
       "      <td>45276780</td>\n",
       "      <td>0.0</td>\n",
       "      <td>0.0</td>\n",
       "      <td>0.0</td>\n",
       "      <td>0.0</td>\n",
       "    </tr>\n",
       "    <tr>\n",
       "      <th>2</th>\n",
       "      <td>ARG</td>\n",
       "      <td>South America</td>\n",
       "      <td>Argentina</td>\n",
       "      <td>2020-01-03 0:00</td>\n",
       "      <td>0</td>\n",
       "      <td>0</td>\n",
       "      <td>0.0</td>\n",
       "      <td>0</td>\n",
       "      <td>0</td>\n",
       "      <td>0.0</td>\n",
       "      <td>...</td>\n",
       "      <td>27.7</td>\n",
       "      <td>0.0</td>\n",
       "      <td>5.0</td>\n",
       "      <td>76.67</td>\n",
       "      <td>0.845</td>\n",
       "      <td>45276780</td>\n",
       "      <td>0.0</td>\n",
       "      <td>0.0</td>\n",
       "      <td>0.0</td>\n",
       "      <td>0.0</td>\n",
       "    </tr>\n",
       "    <tr>\n",
       "      <th>3</th>\n",
       "      <td>ARG</td>\n",
       "      <td>South America</td>\n",
       "      <td>Argentina</td>\n",
       "      <td>2020-01-04 0:00</td>\n",
       "      <td>0</td>\n",
       "      <td>0</td>\n",
       "      <td>0.0</td>\n",
       "      <td>0</td>\n",
       "      <td>0</td>\n",
       "      <td>0.0</td>\n",
       "      <td>...</td>\n",
       "      <td>27.7</td>\n",
       "      <td>0.0</td>\n",
       "      <td>5.0</td>\n",
       "      <td>76.67</td>\n",
       "      <td>0.845</td>\n",
       "      <td>45276780</td>\n",
       "      <td>0.0</td>\n",
       "      <td>0.0</td>\n",
       "      <td>0.0</td>\n",
       "      <td>0.0</td>\n",
       "    </tr>\n",
       "    <tr>\n",
       "      <th>4</th>\n",
       "      <td>ARG</td>\n",
       "      <td>South America</td>\n",
       "      <td>Argentina</td>\n",
       "      <td>2020-01-05 0:00</td>\n",
       "      <td>0</td>\n",
       "      <td>0</td>\n",
       "      <td>0.0</td>\n",
       "      <td>0</td>\n",
       "      <td>0</td>\n",
       "      <td>0.0</td>\n",
       "      <td>...</td>\n",
       "      <td>27.7</td>\n",
       "      <td>0.0</td>\n",
       "      <td>5.0</td>\n",
       "      <td>76.67</td>\n",
       "      <td>0.845</td>\n",
       "      <td>45276780</td>\n",
       "      <td>0.0</td>\n",
       "      <td>0.0</td>\n",
       "      <td>0.0</td>\n",
       "      <td>0.0</td>\n",
       "    </tr>\n",
       "  </tbody>\n",
       "</table>\n",
       "<p>5 rows × 67 columns</p>\n",
       "</div>"
      ],
      "text/plain": [
       "  iso_code      continent   location             date  total_cases  new_cases  \\\n",
       "0      ARG  South America  Argentina  2020-01-01 0:00            0          0   \n",
       "1      ARG  South America  Argentina  2020-01-02 0:00            0          0   \n",
       "2      ARG  South America  Argentina  2020-01-03 0:00            0          0   \n",
       "3      ARG  South America  Argentina  2020-01-04 0:00            0          0   \n",
       "4      ARG  South America  Argentina  2020-01-05 0:00            0          0   \n",
       "\n",
       "   new_cases_smoothed  total_deaths  new_deaths  new_deaths_smoothed  ...  \\\n",
       "0                 0.0             0           0                  0.0  ...   \n",
       "1                 0.0             0           0                  0.0  ...   \n",
       "2                 0.0             0           0                  0.0  ...   \n",
       "3                 0.0             0           0                  0.0  ...   \n",
       "4                 0.0             0           0                  0.0  ...   \n",
       "\n",
       "   male_smokers  handwashing_facilities  hospital_beds_per_thousand  \\\n",
       "0          27.7                     0.0                         5.0   \n",
       "1          27.7                     0.0                         5.0   \n",
       "2          27.7                     0.0                         5.0   \n",
       "3          27.7                     0.0                         5.0   \n",
       "4          27.7                     0.0                         5.0   \n",
       "\n",
       "   life_expectancy  human_development_index  population  \\\n",
       "0            76.67                    0.845    45276780   \n",
       "1            76.67                    0.845    45276780   \n",
       "2            76.67                    0.845    45276780   \n",
       "3            76.67                    0.845    45276780   \n",
       "4            76.67                    0.845    45276780   \n",
       "\n",
       "   excess_mortality_cumulative_absolute  excess_mortality_cumulative  \\\n",
       "0                                   0.0                          0.0   \n",
       "1                                   0.0                          0.0   \n",
       "2                                   0.0                          0.0   \n",
       "3                                   0.0                          0.0   \n",
       "4                                   0.0                          0.0   \n",
       "\n",
       "   excess_mortality  excess_mortality_cumulative_per_million  \n",
       "0               0.0                                      0.0  \n",
       "1               0.0                                      0.0  \n",
       "2               0.0                                      0.0  \n",
       "3               0.0                                      0.0  \n",
       "4               0.0                                      0.0  \n",
       "\n",
       "[5 rows x 67 columns]"
      ]
     },
     "execution_count": 26,
     "metadata": {},
     "output_type": "execute_result"
    }
   ],
   "source": [
    "# Importing Pandas\n",
    "import pandas as pd\n",
    "import plotly.express as px\n",
    "import seaborn as sns\n",
    "import numpy as np\n",
    "import matplotlib.pyplot as plt\n",
    "# Reading csv as dataframe\n",
    "g20_index_data = pd.read_csv(\"UNION.csv\")\n",
    "g20_covid = pd.read_csv(\"g20_covid.csv\")\n",
    "g20_index_data.head()\n",
    "g20_covid.head()"
   ]
  },
  {
   "cell_type": "code",
   "execution_count": 27,
   "id": "76b8d9ae-fdf0-4440-a75d-e10d7c6d4faa",
   "metadata": {},
   "outputs": [
    {
     "data": {
      "text/plain": [
       "date          0\n",
       "Country       0\n",
       "USD        2198\n",
       "dtype: int64"
      ]
     },
     "execution_count": 27,
     "metadata": {},
     "output_type": "execute_result"
    }
   ],
   "source": [
    "g20_index_data['USD'] = g20_index_data['USD'].replace(0, None)\n",
    "\n",
    "g20_index_data.isna().sum()"
   ]
  },
  {
   "cell_type": "code",
   "execution_count": 28,
   "id": "6ad57353-c6a0-49e0-9bbf-0ad3f8d6ad59",
   "metadata": {},
   "outputs": [
    {
     "data": {
      "text/html": [
       "<div>\n",
       "<style scoped>\n",
       "    .dataframe tbody tr th:only-of-type {\n",
       "        vertical-align: middle;\n",
       "    }\n",
       "\n",
       "    .dataframe tbody tr th {\n",
       "        vertical-align: top;\n",
       "    }\n",
       "\n",
       "    .dataframe thead th {\n",
       "        text-align: right;\n",
       "    }\n",
       "</style>\n",
       "<table border=\"1\" class=\"dataframe\">\n",
       "  <thead>\n",
       "    <tr style=\"text-align: right;\">\n",
       "      <th></th>\n",
       "      <th>date</th>\n",
       "      <th>Country</th>\n",
       "      <th>USD</th>\n",
       "    </tr>\n",
       "  </thead>\n",
       "  <tbody>\n",
       "    <tr>\n",
       "      <th>0</th>\n",
       "      <td>2018-01-01</td>\n",
       "      <td>Argentina</td>\n",
       "      <td>NaN</td>\n",
       "    </tr>\n",
       "    <tr>\n",
       "      <th>1</th>\n",
       "      <td>2018-01-02</td>\n",
       "      <td>Argentina</td>\n",
       "      <td>1671.991824</td>\n",
       "    </tr>\n",
       "    <tr>\n",
       "      <th>2</th>\n",
       "      <td>2018-01-03</td>\n",
       "      <td>Argentina</td>\n",
       "      <td>1711.535940</td>\n",
       "    </tr>\n",
       "    <tr>\n",
       "      <th>3</th>\n",
       "      <td>2018-01-04</td>\n",
       "      <td>Argentina</td>\n",
       "      <td>1732.425964</td>\n",
       "    </tr>\n",
       "    <tr>\n",
       "      <th>4</th>\n",
       "      <td>2018-01-05</td>\n",
       "      <td>Argentina</td>\n",
       "      <td>1729.343505</td>\n",
       "    </tr>\n",
       "    <tr>\n",
       "      <th>5</th>\n",
       "      <td>2018-01-06</td>\n",
       "      <td>Argentina</td>\n",
       "      <td>1729.343505</td>\n",
       "    </tr>\n",
       "    <tr>\n",
       "      <th>6</th>\n",
       "      <td>2018-01-07</td>\n",
       "      <td>Argentina</td>\n",
       "      <td>1729.343505</td>\n",
       "    </tr>\n",
       "    <tr>\n",
       "      <th>7</th>\n",
       "      <td>2018-01-08</td>\n",
       "      <td>Argentina</td>\n",
       "      <td>1741.454487</td>\n",
       "    </tr>\n",
       "    <tr>\n",
       "      <th>8</th>\n",
       "      <td>2018-01-09</td>\n",
       "      <td>Argentina</td>\n",
       "      <td>1688.416076</td>\n",
       "    </tr>\n",
       "    <tr>\n",
       "      <th>9</th>\n",
       "      <td>2018-01-10</td>\n",
       "      <td>Argentina</td>\n",
       "      <td>1670.292534</td>\n",
       "    </tr>\n",
       "  </tbody>\n",
       "</table>\n",
       "</div>"
      ],
      "text/plain": [
       "         date    Country          USD\n",
       "0  2018-01-01  Argentina          NaN\n",
       "1  2018-01-02  Argentina  1671.991824\n",
       "2  2018-01-03  Argentina  1711.535940\n",
       "3  2018-01-04  Argentina  1732.425964\n",
       "4  2018-01-05  Argentina  1729.343505\n",
       "5  2018-01-06  Argentina  1729.343505\n",
       "6  2018-01-07  Argentina  1729.343505\n",
       "7  2018-01-08  Argentina  1741.454487\n",
       "8  2018-01-09  Argentina  1688.416076\n",
       "9  2018-01-10  Argentina  1670.292534"
      ]
     },
     "execution_count": 28,
     "metadata": {},
     "output_type": "execute_result"
    }
   ],
   "source": [
    "g20_index_data.ffill(inplace=True)\n",
    "\n",
    "g20_index_data.head(10)"
   ]
  },
  {
   "cell_type": "code",
   "execution_count": 29,
   "id": "6d9ee099",
   "metadata": {},
   "outputs": [
    {
     "name": "stderr",
     "output_type": "stream",
     "text": [
      "C:\\Users\\kanen\\AppData\\Local\\Temp\\ipykernel_13924\\667688445.py:2: SettingWithCopyWarning:\n",
      "\n",
      "\n",
      "A value is trying to be set on a copy of a slice from a DataFrame.\n",
      "Try using .loc[row_indexer,col_indexer] = value instead\n",
      "\n",
      "See the caveats in the documentation: https://pandas.pydata.org/pandas-docs/stable/user_guide/indexing.html#returning-a-view-versus-a-copy\n",
      "\n",
      "C:\\Users\\kanen\\AppData\\Local\\Temp\\ipykernel_13924\\667688445.py:3: SettingWithCopyWarning:\n",
      "\n",
      "\n",
      "A value is trying to be set on a copy of a slice from a DataFrame.\n",
      "Try using .loc[row_indexer,col_indexer] = value instead\n",
      "\n",
      "See the caveats in the documentation: https://pandas.pydata.org/pandas-docs/stable/user_guide/indexing.html#returning-a-view-versus-a-copy\n",
      "\n"
     ]
    }
   ],
   "source": [
    "index_2020 = g20_index_data.loc[(g20_index_data['date'] >= \"2020-01-01\") & (g20_index_data['date'] <= \"2020-12-31\")]\n",
    "index_2020['date'] =  pd.to_datetime(index_2020['date'], infer_datetime_format=True)\n",
    "index_2020[\"week\"] = index_2020[\"date\"].dt.isocalendar().week\n",
    "index_2020_week =  index_2020.groupby([\"Country\", \"week\"],as_index=False).mean()"
   ]
  },
  {
   "cell_type": "markdown",
   "id": "cf0353bf",
   "metadata": {},
   "source": [
    "##### Weekly Average of G20 Financial Markets in 2020"
   ]
  },
  {
   "cell_type": "code",
   "execution_count": 30,
   "id": "f423e4f8",
   "metadata": {},
   "outputs": [
    {
     "data": {
      "application/vnd.plotly.v1+json": {
       "config": {
        "plotlyServerURL": "https://plot.ly"
       },
       "data": [
        {
         "coloraxis": "coloraxis",
         "geo": "geo",
         "hovertemplate": "week=1<br>Country=%{location}<br>USD=%{z}<extra></extra>",
         "locationmode": "country names",
         "locations": [
          "Argentina",
          "Australia",
          "Brazil",
          "Canada",
          "China",
          "European Union",
          "France",
          "Germany",
          "India",
          "Indonesia",
          "Italy",
          "Japan",
          "Mexico",
          "Russia",
          "Saudi Arabia",
          "South Africa",
          "South Korea",
          "Turkey",
          "United Kingdom",
          "United States"
         ],
         "name": "",
         "type": "choropleth",
         "z": [
          683.10756156,
          4693.43996,
          29202.939983333334,
          13130.196109999999,
          250.58651623333333,
          4199.079683,
          6742.791019333334,
          14867.718646666666,
          171.6877072666667,
          0.45530867999999997,
          2603.556013,
          216.187811,
          2340.9217673333333,
          49.34526944666667,
          2237.6909456666667,
          721.0852318999999,
          1.8863324380000002,
          19274.947973333332,
          9996.789117,
          3246.5
         ]
        }
       ],
       "frames": [
        {
         "data": [
          {
           "coloraxis": "coloraxis",
           "geo": "geo",
           "hovertemplate": "week=1<br>Country=%{location}<br>USD=%{z}<extra></extra>",
           "locationmode": "country names",
           "locations": [
            "Argentina",
            "Australia",
            "Brazil",
            "Canada",
            "China",
            "European Union",
            "France",
            "Germany",
            "India",
            "Indonesia",
            "Italy",
            "Japan",
            "Mexico",
            "Russia",
            "Saudi Arabia",
            "South Africa",
            "South Korea",
            "Turkey",
            "United Kingdom",
            "United States"
           ],
           "name": "",
           "type": "choropleth",
           "z": [
            683.10756156,
            4693.43996,
            29202.939983333334,
            13130.196109999999,
            250.58651623333333,
            4199.079683,
            6742.791019333334,
            14867.718646666666,
            171.6877072666667,
            0.45530867999999997,
            2603.556013,
            216.187811,
            2340.9217673333333,
            49.34526944666667,
            2237.6909456666667,
            721.0852318999999,
            1.8863324380000002,
            19274.947973333332,
            9996.789117,
            3246.5
           ]
          }
         ],
         "name": "1"
        },
        {
         "data": [
          {
           "coloraxis": "coloraxis",
           "geo": "geo",
           "hovertemplate": "week=2<br>Country=%{location}<br>USD=%{z}<extra></extra>",
           "locationmode": "country names",
           "locations": [
            "Argentina",
            "Australia",
            "Brazil",
            "Canada",
            "China",
            "European Union",
            "France",
            "Germany",
            "India",
            "Indonesia",
            "Italy",
            "Japan",
            "Mexico",
            "Russia",
            "Saudi Arabia",
            "South Africa",
            "South Korea",
            "Turkey",
            "United Kingdom",
            "United States"
           ],
           "name": "",
           "type": "choropleth",
           "z": [
            702.7549311428572,
            4712.8176154,
            28578.755014000002,
            13206.714240000001,
            256.75552215999994,
            4207.3557088,
            6719.190196799999,
            14860.078634,
            168.99274204,
            0.4508939088,
            2585.6812032000003,
            216.55609067999998,
            2355.5120716,
            50.275742544,
            2199.8308976,
            738.96242538,
            1.8688352406,
            19316.920736,
            9938.3468598,
            3255.2
           ]
          }
         ],
         "name": "2"
        },
        {
         "data": [
          {
           "coloraxis": "coloraxis",
           "geo": "geo",
           "hovertemplate": "week=3<br>Country=%{location}<br>USD=%{z}<extra></extra>",
           "locationmode": "country names",
           "locations": [
            "Argentina",
            "Australia",
            "Brazil",
            "Canada",
            "China",
            "European Union",
            "France",
            "Germany",
            "India",
            "Indonesia",
            "Italy",
            "Japan",
            "Mexico",
            "Russia",
            "Saudi Arabia",
            "South Africa",
            "South Korea",
            "Turkey",
            "United Kingdom",
            "United States"
           ],
           "name": "",
           "type": "choropleth",
           "z": [
            702.3616163428571,
            4826.1331242,
            28330.719183999998,
            13346.731016,
            263.18339248,
            4210.509867999999,
            6736.9100486,
            14987.10355,
            174.32685587999998,
            0.4620154252,
            2623.3123026000003,
            217.99128586,
            2397.5532838,
            51.445494438000004,
            2255.5365819999997,
            761.13232756,
            1.9362082614000002,
            20610.51885,
            9950.6346332,
            3301.4
           ]
          }
         ],
         "name": "3"
        },
        {
         "data": [
          {
           "coloraxis": "coloraxis",
           "geo": "geo",
           "hovertemplate": "week=4<br>Country=%{location}<br>USD=%{z}<extra></extra>",
           "locationmode": "country names",
           "locations": [
            "Argentina",
            "Australia",
            "Brazil",
            "Canada",
            "China",
            "European Union",
            "France",
            "Germany",
            "India",
            "Indonesia",
            "Italy",
            "Japan",
            "Mexico",
            "Russia",
            "Saudi Arabia",
            "South Africa",
            "South Korea",
            "Turkey",
            "United Kingdom",
            "United States"
           ],
           "name": "",
           "type": "choropleth",
           "z": [
            684.3307651000001,
            4863.095866,
            28319.359274,
            13439.056116000002,
            260.48854502,
            4184.649385,
            6680.7257733999995,
            14984.793238000002,
            171.32757612,
            0.45924841240000003,
            2684.518386,
            217.63948928,
            2435.4966678,
            51.467590222,
            2247.3869428,
            736.61214038,
            1.9370085608,
            20741.644214,
            9910.4468532,
            3316
           ]
          }
         ],
         "name": "4"
        },
        {
         "data": [
          {
           "coloraxis": "coloraxis",
           "geo": "geo",
           "hovertemplate": "week=5<br>Country=%{location}<br>USD=%{z}<extra></extra>",
           "locationmode": "country names",
           "locations": [
            "Argentina",
            "Australia",
            "Brazil",
            "Canada",
            "China",
            "European Union",
            "France",
            "Germany",
            "India",
            "Indonesia",
            "Italy",
            "Japan",
            "Mexico",
            "Russia",
            "Saudi Arabia",
            "South Africa",
            "South Korea",
            "Turkey",
            "United Kingdom",
            "United States"
           ],
           "name": "",
           "type": "choropleth",
           "z": [
            668.8699902,
            4755.1254704,
            27373.390168,
            13238.443044,
            254.4275019,
            4070.6871228000005,
            6486.2057486,
            14552.845621999999,
            168.94868814,
            0.4476986646,
            2709.1630818000003,
            213.17836870000002,
            2373.4443476,
            49.572901087999995,
            2188.8998304,
            700.9457950799999,
            1.8498111447999999,
            20115.910944,
            9669.756646400001,
            3260.6
           ]
          }
         ],
         "name": "5"
        },
        {
         "data": [
          {
           "coloraxis": "coloraxis",
           "geo": "geo",
           "hovertemplate": "week=6<br>Country=%{location}<br>USD=%{z}<extra></extra>",
           "locationmode": "country names",
           "locations": [
            "Argentina",
            "Australia",
            "Brazil",
            "Canada",
            "China",
            "European Union",
            "France",
            "Germany",
            "India",
            "Indonesia",
            "Italy",
            "Japan",
            "Mexico",
            "Russia",
            "Saudi Arabia",
            "South Africa",
            "South Korea",
            "Turkey",
            "United Kingdom",
            "United States"
           ],
           "name": "",
           "type": "choropleth",
           "z": [
            679.8220717285715,
            4693.5884982,
            27007.775237999995,
            13249.74153,
            240.39912272,
            4144.2269284,
            6582.4503484,
            14765.594501999998,
            168.31457374000001,
            0.435026009,
            2476.6704778,
            214.33509859999998,
            2383.3997176,
            48.862980188,
            2158.5190338,
            693.4698894,
            1.8340087382,
            20297.563076,
            9697.4911078,
            3311.2
           ]
          }
         ],
         "name": "6"
        },
        {
         "data": [
          {
           "coloraxis": "coloraxis",
           "geo": "geo",
           "hovertemplate": "week=7<br>Country=%{location}<br>USD=%{z}<extra></extra>",
           "locationmode": "country names",
           "locations": [
            "Argentina",
            "Australia",
            "Brazil",
            "Canada",
            "China",
            "European Union",
            "France",
            "Germany",
            "India",
            "Indonesia",
            "Italy",
            "Japan",
            "Mexico",
            "Russia",
            "Saudi Arabia",
            "South Africa",
            "South Korea",
            "Turkey",
            "United Kingdom",
            "United States"
           ],
           "name": "",
           "type": "choropleth",
           "z": [
            644.0854494142858,
            4744.8347542,
            26518.415908000003,
            13399.245923999999,
            253.63966888,
            4177.3646486,
            6614.1294744,
            14903.552314,
            170.00384512,
            0.4332727144,
            2297.129005,
            216.40384846,
            2405.958696,
            48.655027738,
            2110.00554,
            670.0858163,
            1.882012551,
            19901.163618,
            9674.3158014,
            3368.6
           ]
          }
         ],
         "name": "7"
        },
        {
         "data": [
          {
           "coloraxis": "coloraxis",
           "geo": "geo",
           "hovertemplate": "week=8<br>Country=%{location}<br>USD=%{z}<extra></extra>",
           "locationmode": "country names",
           "locations": [
            "Argentina",
            "Australia",
            "Brazil",
            "Canada",
            "China",
            "European Union",
            "France",
            "Germany",
            "India",
            "Indonesia",
            "Italy",
            "Japan",
            "Mexico",
            "Russia",
            "Saudi Arabia",
            "South Africa",
            "South Korea",
            "Turkey",
            "United Kingdom",
            "United States"
           ],
           "name": "",
           "type": "choropleth",
           "z": [
            627.1586844714285,
            4772.1635226,
            26461.007982,
            13500.757647999999,
            266.76671866,
            4148.248285600001,
            6563.892357,
            14816.070272,
            168.46708338,
            0.4303703606,
            1802.386218,
            211.66959498,
            2411.7165508000003,
            48.759863761999995,
            2119.7501664,
            661.24640968,
            1.8517856168000002,
            19507.726728,
            9630.9506896,
            3366.75
           ]
          }
         ],
         "name": "8"
        },
        {
         "data": [
          {
           "coloraxis": "coloraxis",
           "geo": "geo",
           "hovertemplate": "week=9<br>Country=%{location}<br>USD=%{z}<extra></extra>",
           "locationmode": "country names",
           "locations": [
            "Argentina",
            "Australia",
            "Brazil",
            "Canada",
            "China",
            "European Union",
            "France",
            "Germany",
            "India",
            "Indonesia",
            "Italy",
            "Japan",
            "Mexico",
            "Russia",
            "Saudi Arabia",
            "South Africa",
            "South Korea",
            "Turkey",
            "United Kingdom",
            "United States"
           ],
           "name": "",
           "type": "choropleth",
           "z": [
            585.8351892285715,
            4435.7014384,
            24447.565792,
            12737.713832,
            269.35841326,
            3829.4451132000004,
            6089.8308994,
            13688.97396,
            161.77401474,
            0.40432294120000006,
            1604.1016862000001,
            201.56593791999998,
            2217.9360242000002,
            45.440414062,
            2052.794566,
            626.32867748,
            1.6998078686,
            18245.68125,
            8950.7099894,
            3080.6
           ]
          }
         ],
         "name": "9"
        },
        {
         "data": [
          {
           "coloraxis": "coloraxis",
           "geo": "geo",
           "hovertemplate": "week=10<br>Country=%{location}<br>USD=%{z}<extra></extra>",
           "locationmode": "country names",
           "locations": [
            "Argentina",
            "Australia",
            "Brazil",
            "Canada",
            "China",
            "European Union",
            "France",
            "Germany",
            "India",
            "Indonesia",
            "Italy",
            "Japan",
            "Mexico",
            "Russia",
            "Saudi Arabia",
            "South Africa",
            "South Korea",
            "Turkey",
            "United Kingdom",
            "United States"
           ],
           "name": "",
           "type": "choropleth",
           "z": [
            578.1991342428571,
            4178.6400942,
            22988.590313999997,
            12331.967764,
            272.55322886,
            3729.4903092,
            5950.9187736,
            13256.18296,
            152.7807057,
            0.3898967522,
            1799.7339221999998,
            196.60626714,
            2161.6120122,
            41.86869873,
            1993.7433722,
            610.00705876,
            1.7157796764,
            17933.603374000002,
            8568.290705000001,
            3043.8
           ]
          }
         ],
         "name": "10"
        },
        {
         "data": [
          {
           "coloraxis": "coloraxis",
           "geo": "geo",
           "hovertemplate": "week=11<br>Country=%{location}<br>USD=%{z}<extra></extra>",
           "locationmode": "country names",
           "locations": [
            "Argentina",
            "Australia",
            "Brazil",
            "Canada",
            "China",
            "European Union",
            "France",
            "Germany",
            "India",
            "Indonesia",
            "Italy",
            "Japan",
            "Mexico",
            "Russia",
            "Saudi Arabia",
            "South Africa",
            "South Korea",
            "Turkey",
            "United Kingdom",
            "United States"
           ],
           "name": "",
           "type": "choropleth",
           "z": [
            476.2103279,
            3672.6467285999997,
            17792.42234,
            10183.6049032,
            264.43445074,
            3146.5970208,
            5004.558576,
            11298.582472,
            136.77859124000003,
            0.3519063736,
            1838.5913851999999,
            182.24401458,
            1809.0524032,
            34.205748643999996,
            1725.1135657999998,
            588.9557718799999,
            1.5796200968,
            15980.208943999998,
            7330.6110493999995,
            2712.4
           ]
          }
         ],
         "name": "11"
        },
        {
         "data": [
          {
           "coloraxis": "coloraxis",
           "geo": "geo",
           "hovertemplate": "week=12<br>Country=%{location}<br>USD=%{z}<extra></extra>",
           "locationmode": "country names",
           "locations": [
            "Argentina",
            "Australia",
            "Brazil",
            "Canada",
            "China",
            "European Union",
            "France",
            "Germany",
            "India",
            "Indonesia",
            "Italy",
            "Japan",
            "Mexico",
            "Russia",
            "Saudi Arabia",
            "South Africa",
            "South Korea",
            "Turkey",
            "United Kingdom",
            "United States"
           ],
           "name": "",
           "type": "choropleth",
           "z": [
            379.7005559857143,
            2966.323915,
            13899.84408,
            8568.774314400001,
            241.24667101999998,
            2718.6589938,
            4292.8013862,
            9596.788844,
            116.94749038,
            0.28649527539999997,
            1861.7801232000002,
            156.1769577,
            1564.7081236,
            29.319555939999997,
            1640.3218578,
            536.2566853000001,
            1.293207347,
            13427.530697999999,
            6199.494864400001,
            2405.4
           ]
          }
         ],
         "name": "12"
        },
        {
         "data": [
          {
           "coloraxis": "coloraxis",
           "geo": "geo",
           "hovertemplate": "week=13<br>Country=%{location}<br>USD=%{z}<extra></extra>",
           "locationmode": "country names",
           "locations": [
            "Argentina",
            "Australia",
            "Brazil",
            "Canada",
            "China",
            "European Union",
            "France",
            "Germany",
            "India",
            "Indonesia",
            "Italy",
            "Japan",
            "Mexico",
            "Russia",
            "Saudi Arabia",
            "South Africa",
            "South Korea",
            "Turkey",
            "United Kingdom",
            "United States"
           ],
           "name": "",
           "type": "choropleth",
           "z": [
            384.3219558857143,
            2869.895863,
            14184.242688000002,
            8798.5228762,
            237.25856086,
            2944.474651,
            4659.2505452,
            10398.1359688,
            108.01598088,
            0.2548734286,
            1773.7364077999998,
            167.61674704,
            1413.0580128,
            30.553579158,
            1655.1964164,
            554.0718895,
            1.3262471921999999,
            13670.70829,
            6488.3932012,
            2466.2
           ]
          }
         ],
         "name": "13"
        },
        {
         "data": [
          {
           "coloraxis": "coloraxis",
           "geo": "geo",
           "hovertemplate": "week=14<br>Country=%{location}<br>USD=%{z}<extra></extra>",
           "locationmode": "country names",
           "locations": [
            "Argentina",
            "Australia",
            "Brazil",
            "Canada",
            "China",
            "European Union",
            "France",
            "Germany",
            "India",
            "Indonesia",
            "Italy",
            "Japan",
            "Mexico",
            "Russia",
            "Saudi Arabia",
            "South Africa",
            "South Korea",
            "Turkey",
            "United Kingdom",
            "United States"
           ],
           "name": "",
           "type": "choropleth",
           "z": [
            398.06341000000003,
            3154.7897652,
            13864.31264,
            9255.4250866,
            236.10766068000004,
            2988.6757984,
            4699.259016,
            10647.16072,
            109.54365846,
            0.27703587059999996,
            1832.8620012,
            170.38909602,
            1413.9655778000001,
            31.946521150000002,
            1757.920795,
            539.6610749399999,
            1.4080985726,
            13521.166706,
            6842.725214,
            2539.8
           ]
          }
         ],
         "name": "14"
        },
        {
         "data": [
          {
           "coloraxis": "coloraxis",
           "geo": "geo",
           "hovertemplate": "week=15<br>Country=%{location}<br>USD=%{z}<extra></extra>",
           "locationmode": "country names",
           "locations": [
            "Argentina",
            "Australia",
            "Brazil",
            "Canada",
            "China",
            "European Union",
            "France",
            "Germany",
            "India",
            "Indonesia",
            "Italy",
            "Japan",
            "Mexico",
            "Russia",
            "Saudi Arabia",
            "South Africa",
            "South Korea",
            "Turkey",
            "United Kingdom",
            "United States"
           ],
           "name": "",
           "type": "choropleth",
           "z": [
            425.9434560285714,
            3260.7465484,
            14735.540576,
            9870.9595546,
            244.86290442,
            3100.2543518,
            4824.929518800001,
            11258.075096,
            114.91607119999999,
            0.28913911059999997,
            1841.5947566,
            175.98415522,
            1406.6852589999999,
            35.225038072000004,
            1858.4510366000002,
            585.33434718,
            1.4956580966000002,
            13937.691931999998,
            7058.3519906,
            2715.75
           ]
          }
         ],
         "name": "15"
        },
        {
         "data": [
          {
           "coloraxis": "coloraxis",
           "geo": "geo",
           "hovertemplate": "week=16<br>Country=%{location}<br>USD=%{z}<extra></extra>",
           "locationmode": "country names",
           "locations": [
            "Argentina",
            "Australia",
            "Brazil",
            "Canada",
            "China",
            "European Union",
            "France",
            "Germany",
            "India",
            "Indonesia",
            "Italy",
            "Japan",
            "Mexico",
            "Russia",
            "Saudi Arabia",
            "South Africa",
            "South Korea",
            "Turkey",
            "United Kingdom",
            "United States"
           ],
           "name": "",
           "type": "choropleth",
           "z": [
            462.42220064285715,
            3459.2039316,
            15208.97014,
            10096.627025400001,
            246.0835771,
            3123.4649474,
            4849.9595512,
            11445.48208,
            117.92896413999999,
            0.293629761,
            1840.191213,
            180.8750227,
            1450.7317534,
            34.690965704,
            1801.4440374,
            567.32137998,
            1.5294972768000001,
            14220.512166,
            7167.1207312,
            2813.2
           ]
          }
         ],
         "name": "16"
        },
        {
         "data": [
          {
           "coloraxis": "coloraxis",
           "geo": "geo",
           "hovertemplate": "week=17<br>Country=%{location}<br>USD=%{z}<extra></extra>",
           "locationmode": "country names",
           "locations": [
            "Argentina",
            "Australia",
            "Brazil",
            "Canada",
            "China",
            "European Union",
            "France",
            "Germany",
            "India",
            "Indonesia",
            "Italy",
            "Japan",
            "Mexico",
            "Russia",
            "Saudi Arabia",
            "South Africa",
            "South Korea",
            "Turkey",
            "United Kingdom",
            "United States"
           ],
           "name": "",
           "type": "choropleth",
           "z": [
            453.0200963142857,
            3324.5267314,
            14716.08776,
            10095.5340328,
            248.6442469,
            3076.5297256,
            4797.9930132,
            11309.88703,
            119.66954777999999,
            0.29427061219999995,
            1808.1776116,
            179.70629622,
            1409.2418354,
            33.795271152,
            1753.2732584,
            537.81179572,
            1.5465312276,
            14148.811272,
            7132.3274898,
            2798.8
           ]
          }
         ],
         "name": "17"
        },
        {
         "data": [
          {
           "coloraxis": "coloraxis",
           "geo": "geo",
           "hovertemplate": "week=18<br>Country=%{location}<br>USD=%{z}<extra></extra>",
           "locationmode": "country names",
           "locations": [
            "Argentina",
            "Australia",
            "Brazil",
            "Canada",
            "China",
            "European Union",
            "France",
            "Germany",
            "India",
            "Indonesia",
            "Italy",
            "Japan",
            "Mexico",
            "Russia",
            "Saudi Arabia",
            "South Africa",
            "South Korea",
            "Turkey",
            "United Kingdom",
            "United States"
           ],
           "name": "",
           "type": "choropleth",
           "z": [
            487.42919782857143,
            3472.9344384000005,
            14747.086468,
            10588.64679,
            246.58869536000003,
            3181.9181526,
            4966.1906395999995,
            11778.314744,
            126.35847848,
            0.30124536879999997,
            1840.2903892000002,
            184.98009454,
            1487.5501698,
            35.604772305999994,
            1859.8670604,
            562.0303501999999,
            1.5873520972,
            14517.491769999999,
            7369.5855088,
            2884.8
           ]
          }
         ],
         "name": "18"
        },
        {
         "data": [
          {
           "coloraxis": "coloraxis",
           "geo": "geo",
           "hovertemplate": "week=19<br>Country=%{location}<br>USD=%{z}<extra></extra>",
           "locationmode": "country names",
           "locations": [
            "Argentina",
            "Australia",
            "Brazil",
            "Canada",
            "China",
            "European Union",
            "France",
            "Germany",
            "India",
            "Indonesia",
            "Italy",
            "Japan",
            "Mexico",
            "Russia",
            "Saudi Arabia",
            "South Africa",
            "South Korea",
            "Turkey",
            "United Kingdom",
            "United States"
           ],
           "name": "",
           "type": "choropleth",
           "z": [
            521.5780312428572,
            3453.3570344,
            14071.522203999999,
            10539.66202,
            251.78167502000002,
            3113.462006,
            4856.5205942,
            11620.213838,
            121.6858461,
            0.30493098939999996,
            1929.1148271999998,
            184.72177572,
            1519.926995,
            35.432081216,
            1770.6785124000003,
            525.01278668,
            1.5687070664,
            13898.723366,
            7272.6694836,
            2874
           ]
          }
         ],
         "name": "19"
        },
        {
         "data": [
          {
           "coloraxis": "coloraxis",
           "geo": "geo",
           "hovertemplate": "week=20<br>Country=%{location}<br>USD=%{z}<extra></extra>",
           "locationmode": "country names",
           "locations": [
            "Argentina",
            "Australia",
            "Brazil",
            "Canada",
            "China",
            "European Union",
            "France",
            "Germany",
            "India",
            "Indonesia",
            "Italy",
            "Japan",
            "Mexico",
            "Russia",
            "Saudi Arabia",
            "South Africa",
            "South Korea",
            "Turkey",
            "United Kingdom",
            "United States"
           ],
           "name": "",
           "type": "choropleth",
           "z": [
            577.9391115142856,
            3502.2360864,
            13562.239806000001,
            10498.544054,
            255.48027254,
            3054.9066582,
            4732.621475800001,
            11472.654556,
            121.82188432000001,
            0.3072630342,
            2089.0202873999997,
            188.4159615,
            1528.3335590000002,
            35.469615716,
            1782.1963682,
            573.11728808,
            1.576964256,
            14170.200916000002,
            7225.988666,
            2867.4
           ]
          }
         ],
         "name": "20"
        },
        {
         "data": [
          {
           "coloraxis": "coloraxis",
           "geo": "geo",
           "hovertemplate": "week=21<br>Country=%{location}<br>USD=%{z}<extra></extra>",
           "locationmode": "country names",
           "locations": [
            "Argentina",
            "Australia",
            "Brazil",
            "Canada",
            "China",
            "European Union",
            "France",
            "Germany",
            "India",
            "Indonesia",
            "Italy",
            "Japan",
            "Mexico",
            "Russia",
            "Saudi Arabia",
            "South Africa",
            "South Korea",
            "Turkey",
            "United Kingdom",
            "United States"
           ],
           "name": "",
           "type": "choropleth",
           "z": [
            596.9310452428572,
            3610.184175,
            14300.970618000001,
            10654.04906,
            252.62865229999997,
            3186.3102329999997,
            4879.623213000001,
            12120.830298,
            118.56097648,
            0.3068341326,
            2074.0013102000003,
            189.9126818,
            1536.3748122000002,
            37.70533272,
            1871.055674,
            595.01272978,
            1.6083800780000002,
            15000.715192,
            7350.9664158,
            2950.6
           ]
          }
         ],
         "name": "21"
        },
        {
         "data": [
          {
           "coloraxis": "coloraxis",
           "geo": "geo",
           "hovertemplate": "week=22<br>Country=%{location}<br>USD=%{z}<extra></extra>",
           "locationmode": "country names",
           "locations": [
            "Argentina",
            "Australia",
            "Brazil",
            "Canada",
            "China",
            "European Union",
            "France",
            "Germany",
            "India",
            "Indonesia",
            "Italy",
            "Japan",
            "Mexico",
            "Russia",
            "Saudi Arabia",
            "South Africa",
            "South Korea",
            "Turkey",
            "United Kingdom",
            "United States"
           ],
           "name": "",
           "type": "choropleth",
           "z": [
            576.7545247571428,
            3798.2112906,
            16063.594082,
            10965.592298,
            248.42816272,
            3329.7594018000004,
            5116.2392354,
            12717.56791,
            122.3571744,
            0.3154644556,
            2054.522091,
            199.1738878,
            1622.2744992,
            38.731607202,
            1878.333736,
            632.38035444,
            1.6349764816,
            15398.775612000001,
            7484.6404012,
            3025.5
           ]
          }
         ],
         "name": "22"
        },
        {
         "data": [
          {
           "coloraxis": "coloraxis",
           "geo": "geo",
           "hovertemplate": "week=23<br>Country=%{location}<br>USD=%{z}<extra></extra>",
           "locationmode": "country names",
           "locations": [
            "Argentina",
            "Australia",
            "Brazil",
            "Canada",
            "China",
            "European Union",
            "France",
            "Germany",
            "India",
            "Indonesia",
            "Italy",
            "Japan",
            "Mexico",
            "Russia",
            "Saudi Arabia",
            "South Africa",
            "South Korea",
            "Turkey",
            "United Kingdom",
            "United States"
           ],
           "name": "",
           "type": "choropleth",
           "z": [
            634.2481539428571,
            4051.7016514,
            17699.206336,
            11434.045354,
            259.84506586,
            3610.9324806000004,
            5569.2139598,
            13743.683484,
            132.6077473,
            0.3394139046,
            2125.9881326,
            207.58999664000004,
            1730.2190514000001,
            40.352569918,
            1931.1134195999998,
            680.50499266,
            1.7420542424,
            16107.484400000001,
            7911.9642368,
            3113.2
           ]
          }
         ],
         "name": "23"
        },
        {
         "data": [
          {
           "coloraxis": "coloraxis",
           "geo": "geo",
           "hovertemplate": "week=24<br>Country=%{location}<br>USD=%{z}<extra></extra>",
           "locationmode": "country names",
           "locations": [
            "Argentina",
            "Australia",
            "Brazil",
            "Canada",
            "China",
            "European Union",
            "France",
            "Germany",
            "India",
            "Indonesia",
            "Italy",
            "Japan",
            "Mexico",
            "Russia",
            "Saudi Arabia",
            "South Africa",
            "South Korea",
            "Turkey",
            "United Kingdom",
            "United States"
           ],
           "name": "",
           "type": "choropleth",
           "z": [
            651.1886636857143,
            4179.3712864,
            19413.207916000003,
            11573.250810000001,
            264.11799006,
            3686.450651,
            5656.247531,
            14013.763414000001,
            132.5021596,
            0.35282108980000004,
            2127.6761441999997,
            211.56856382,
            1751.6093538,
            40.583464138,
            1951.513769,
            718.24188398,
            1.8165168563999998,
            16140.881608000002,
            7950.7987706,
            3134.4
           ]
          }
         ],
         "name": "24"
        },
        {
         "data": [
          {
           "coloraxis": "coloraxis",
           "geo": "geo",
           "hovertemplate": "week=25<br>Country=%{location}<br>USD=%{z}<extra></extra>",
           "locationmode": "country names",
           "locations": [
            "Argentina",
            "Australia",
            "Brazil",
            "Canada",
            "China",
            "European Union",
            "France",
            "Germany",
            "India",
            "Indonesia",
            "Italy",
            "Japan",
            "Mexico",
            "Russia",
            "Saudi Arabia",
            "South Africa",
            "South Korea",
            "Turkey",
            "United Kingdom",
            "United States"
           ],
           "name": "",
           "type": "choropleth",
           "z": [
            590.3472281857142,
            4065.4962998,
            18203.680984,
            11383.096162,
            268.28713926,
            3640.9568449999997,
            5563.8149963999995,
            13789.568340000002,
            130.9021715,
            0.3498546894,
            2184.5437374000003,
            207.80988616,
            1690.8043764,
            39.303529798,
            1952.6021906,
            657.0716067999999,
            1.7503958118,
            16325.297117999999,
            7795.759692,
            3103.6
           ]
          }
         ],
         "name": "25"
        },
        {
         "data": [
          {
           "coloraxis": "coloraxis",
           "geo": "geo",
           "hovertemplate": "week=26<br>Country=%{location}<br>USD=%{z}<extra></extra>",
           "locationmode": "country names",
           "locations": [
            "Argentina",
            "Australia",
            "Brazil",
            "Canada",
            "China",
            "European Union",
            "France",
            "Germany",
            "India",
            "Indonesia",
            "Italy",
            "Japan",
            "Mexico",
            "Russia",
            "Saudi Arabia",
            "South Africa",
            "South Korea",
            "Turkey",
            "United Kingdom",
            "United States"
           ],
           "name": "",
           "type": "choropleth",
           "z": [
            582.0276431285714,
            4075.9886112,
            18002.11883,
            11335.520037999999,
            275.49628906,
            3635.5134096,
            5549.3012914,
            13756.509558,
            136.51242938000001,
            0.3462354606,
            2180.0003853999997,
            210.14298897999998,
            1677.8831944,
            40.043737199999995,
            1931.7983012,
            668.9538282999999,
            1.7679381444,
            16759.223294000003,
            7713.1415882,
            3078.4
           ]
          }
         ],
         "name": "26"
        },
        {
         "data": [
          {
           "coloraxis": "coloraxis",
           "geo": "geo",
           "hovertemplate": "week=27<br>Country=%{location}<br>USD=%{z}<extra></extra>",
           "locationmode": "country names",
           "locations": [
            "Argentina",
            "Australia",
            "Brazil",
            "Canada",
            "China",
            "European Union",
            "France",
            "Germany",
            "India",
            "Indonesia",
            "Italy",
            "Japan",
            "Mexico",
            "Russia",
            "Saudi Arabia",
            "South Africa",
            "South Korea",
            "Turkey",
            "United Kingdom",
            "United States"
           ],
           "name": "",
           "type": "choropleth",
           "z": [
            563.0218992285714,
            4100.2616004,
            17767.26958,
            11392.274846,
            281.81607332,
            3665.9431906,
            5589.2751932,
            13923.765516,
            138.38917328,
            0.3456038678,
            2254.0065243999998,
            206.1847362,
            1653.2373899999998,
            39.431173622,
            1942.0712879999999,
            670.0379319199999,
            1.766325264,
            16948.674518,
            7672.5529226,
            3099.75
           ]
          }
         ],
         "name": "27"
        },
        {
         "data": [
          {
           "coloraxis": "coloraxis",
           "geo": "geo",
           "hovertemplate": "week=28<br>Country=%{location}<br>USD=%{z}<extra></extra>",
           "locationmode": "country names",
           "locations": [
            "Argentina",
            "Australia",
            "Brazil",
            "Canada",
            "China",
            "European Union",
            "France",
            "Germany",
            "India",
            "Indonesia",
            "Italy",
            "Japan",
            "Mexico",
            "Russia",
            "Saudi Arabia",
            "South Africa",
            "South Korea",
            "Turkey",
            "United Kingdom",
            "United States"
           ],
           "name": "",
           "type": "choropleth",
           "z": [
            604.3004648857143,
            4153.258434400001,
            18547.690798000003,
            11532.524548,
            313.14529666,
            3729.8384536,
            5645.6672516,
            14221.113008,
            143.72344442,
            0.3487026712,
            2214.636173,
            209.64687972000002,
            1653.8281414,
            39.438897612,
            1975.8982612,
            667.5919796999999,
            1.8130171094,
            17125.958188,
            7722.428230400001,
            3166.4
           ]
          }
         ],
         "name": "28"
        },
        {
         "data": [
          {
           "coloraxis": "coloraxis",
           "geo": "geo",
           "hovertemplate": "week=29<br>Country=%{location}<br>USD=%{z}<extra></extra>",
           "locationmode": "country names",
           "locations": [
            "Argentina",
            "Australia",
            "Brazil",
            "Canada",
            "China",
            "European Union",
            "France",
            "Germany",
            "India",
            "Indonesia",
            "Italy",
            "Japan",
            "Mexico",
            "Russia",
            "Saudi Arabia",
            "South Africa",
            "South Korea",
            "Turkey",
            "United Kingdom",
            "United States"
           ],
           "name": "",
           "type": "choropleth",
           "z": [
            629.9754349571429,
            4186.4369112,
            18825.259828000002,
            11749.744922,
            320.47429137999995,
            3817.5423742,
            5761.8167252,
            14611.133074000001,
            142.56002196,
            0.348676872,
            2141.3401134,
            212.43272831999997,
            1620.0759666,
            38.861645124,
            1978.2024516000001,
            646.5319356,
            1.822525216,
            17254.722952,
            7847.23189,
            3204.2
           ]
          }
         ],
         "name": "29"
        },
        {
         "data": [
          {
           "coloraxis": "coloraxis",
           "geo": "geo",
           "hovertemplate": "week=30<br>Country=%{location}<br>USD=%{z}<extra></extra>",
           "locationmode": "country names",
           "locations": [
            "Argentina",
            "Australia",
            "Brazil",
            "Canada",
            "China",
            "European Union",
            "France",
            "Germany",
            "India",
            "Indonesia",
            "Italy",
            "Japan",
            "Mexico",
            "Russia",
            "Saudi Arabia",
            "South Africa",
            "South Korea",
            "Turkey",
            "United Kingdom",
            "United States"
           ],
           "name": "",
           "type": "choropleth",
           "z": [
            668.3177556428572,
            4298.773481,
            19755.595672000003,
            11954.296922,
            317.27056583999996,
            3881.4227469999996,
            5811.36303,
            15036.549316,
            148.88710713999998,
            0.3471457966,
            2220.239722,
            212.90355857999998,
            1653.9439900000002,
            39.777754028,
            1978.9398798000002,
            646.75334214,
            1.8473821028,
            17353.62846,
            7883.1677914,
            3247.4
           ]
          }
         ],
         "name": "30"
        },
        {
         "data": [
          {
           "coloraxis": "coloraxis",
           "geo": "geo",
           "hovertemplate": "week=31<br>Country=%{location}<br>USD=%{z}<extra></extra>",
           "locationmode": "country names",
           "locations": [
            "Argentina",
            "Australia",
            "Brazil",
            "Canada",
            "China",
            "European Union",
            "France",
            "Germany",
            "India",
            "Indonesia",
            "Italy",
            "Japan",
            "Mexico",
            "Russia",
            "Saudi Arabia",
            "South Africa",
            "South Korea",
            "Turkey",
            "United Kingdom",
            "United States"
           ],
           "name": "",
           "type": "choropleth",
           "z": [
            682.2141991142856,
            4302.191528,
            20201.876836,
            12116.250288,
            315.2526633,
            3830.5621614,
            5753.341159199999,
            14859.585949999999,
            148.95962482,
            0.3529178098,
            2310.145064,
            212.54503092,
            1701.6675764,
            40.091051424,
            1990.6664976,
            648.4347653799999,
            1.8832283618,
            165.90311558000002,
            7829.795178599999,
            3246.4
           ]
          }
         ],
         "name": "31"
        },
        {
         "data": [
          {
           "coloraxis": "coloraxis",
           "geo": "geo",
           "hovertemplate": "week=32<br>Country=%{location}<br>USD=%{z}<extra></extra>",
           "locationmode": "country names",
           "locations": [
            "Argentina",
            "Australia",
            "Brazil",
            "Canada",
            "China",
            "European Union",
            "France",
            "Germany",
            "India",
            "Indonesia",
            "Italy",
            "Japan",
            "Mexico",
            "Russia",
            "Saudi Arabia",
            "South Africa",
            "South Korea",
            "Turkey",
            "United Kingdom",
            "United States"
           ],
           "name": "",
           "type": "choropleth",
           "z": [
            716.0709845142857,
            4306.3899526000005,
            19423.10226,
            12321.57876,
            330.70673176,
            3845.2359098,
            5786.6698926,
            14937.219428,
            147.89888738,
            0.3510707892,
            2296.3077218,
            211.92367731999997,
            1682.5102868000001,
            40.422722102,
            1996.0218504,
            636.66488654,
            1.9406690942,
            153.81468526,
            7924.802511,
            3326
           ]
          }
         ],
         "name": "32"
        },
        {
         "data": [
          {
           "coloraxis": "coloraxis",
           "geo": "geo",
           "hovertemplate": "week=33<br>Country=%{location}<br>USD=%{z}<extra></extra>",
           "locationmode": "country names",
           "locations": [
            "Argentina",
            "Australia",
            "Brazil",
            "Canada",
            "China",
            "European Union",
            "France",
            "Germany",
            "India",
            "Indonesia",
            "Italy",
            "Japan",
            "Mexico",
            "Russia",
            "Saudi Arabia",
            "South Africa",
            "South Korea",
            "Turkey",
            "United Kingdom",
            "United States"
           ],
           "name": "",
           "type": "choropleth",
           "z": [
            679.9895403285715,
            4378.4415626,
            18803.32334,
            12437.049614,
            322.12776840000004,
            3909.4470484,
            5890.402569600001,
            15208.595945999998,
            150.41404378,
            0.353981917,
            2302.1563625999997,
            215.18501462,
            1728.5971432,
            41.318273366,
            2040.1441101999997,
            631.3327198,
            2.0391146644,
            150.24365732,
            8034.5914756,
            3364
           ]
          }
         ],
         "name": "33"
        },
        {
         "data": [
          {
           "coloraxis": "coloraxis",
           "geo": "geo",
           "hovertemplate": "week=34<br>Country=%{location}<br>USD=%{z}<extra></extra>",
           "locationmode": "country names",
           "locations": [
            "Argentina",
            "Australia",
            "Brazil",
            "Canada",
            "China",
            "European Union",
            "France",
            "Germany",
            "India",
            "Indonesia",
            "Italy",
            "Japan",
            "Mexico",
            "Russia",
            "Saudi Arabia",
            "South Africa",
            "South Korea",
            "Turkey",
            "United Kingdom",
            "United States"
           ],
           "name": "",
           "type": "choropleth",
           "z": [
            647.7214312714286,
            4413.8637728,
            18377.869852,
            12571.231080000001,
            326.67923764,
            3907.6988146000003,
            5866.767315200001,
            15294.130582000002,
            151.39969998,
            0.3590018868,
            2277.2056646,
            217.29634385999998,
            1757.9744116000002,
            41.309664743999996,
            2089.608553,
            649.0266867,
            1.976700518,
            151.0814034,
            7983.105478,
            3386
           ]
          }
         ],
         "name": "34"
        },
        {
         "data": [
          {
           "coloraxis": "coloraxis",
           "geo": "geo",
           "hovertemplate": "week=35<br>Country=%{location}<br>USD=%{z}<extra></extra>",
           "locationmode": "country names",
           "locations": [
            "Argentina",
            "Australia",
            "Brazil",
            "Canada",
            "China",
            "European Union",
            "France",
            "Germany",
            "India",
            "Indonesia",
            "Italy",
            "Japan",
            "Mexico",
            "Russia",
            "Saudi Arabia",
            "South Africa",
            "South Korea",
            "Turkey",
            "United Kingdom",
            "United States"
           ],
           "name": "",
           "type": "choropleth",
           "z": [
            624.7225624857143,
            4412.7634522,
            18193.401564,
            12682.151708,
            329.1709726,
            3939.1800504,
            5928.629064999999,
            15469.330488000001,
            155.18993102,
            0.3659667812,
            2277.5845959999997,
            217.92541816,
            1724.219525,
            40.250388107999996,
            2119.9043124,
            678.13292172,
            1.9817090866,
            149.90307367999998,
            7928.220096,
            3469.4
           ]
          }
         ],
         "name": "35"
        },
        {
         "data": [
          {
           "coloraxis": "coloraxis",
           "geo": "geo",
           "hovertemplate": "week=36<br>Country=%{location}<br>USD=%{z}<extra></extra>",
           "locationmode": "country names",
           "locations": [
            "Argentina",
            "Australia",
            "Brazil",
            "Canada",
            "China",
            "European Union",
            "France",
            "Germany",
            "India",
            "Indonesia",
            "Italy",
            "Japan",
            "Mexico",
            "Russia",
            "Saudi Arabia",
            "South Africa",
            "South Korea",
            "Turkey",
            "United Kingdom",
            "United States"
           ],
           "name": "",
           "type": "choropleth",
           "z": [
            612.7137059857142,
            4423.5168936,
            18785.876121999998,
            12627.916825999999,
            336.59245186,
            3913.9478776000005,
            5921.0361204,
            15476.774006000001,
            156.10678458,
            0.36067660619999997,
            2294.558423,
            219.34933298,
            1693.0298006,
            39.634975184,
            2131.931595,
            655.69460592,
            1.9902003388,
            146.92402008,
            7833.948892,
            3498
           ]
          }
         ],
         "name": "36"
        },
        {
         "data": [
          {
           "coloraxis": "coloraxis",
           "geo": "geo",
           "hovertemplate": "week=37<br>Country=%{location}<br>USD=%{z}<extra></extra>",
           "locationmode": "country names",
           "locations": [
            "Argentina",
            "Australia",
            "Brazil",
            "Canada",
            "China",
            "European Union",
            "France",
            "Germany",
            "India",
            "Indonesia",
            "Italy",
            "Japan",
            "Mexico",
            "Russia",
            "Saudi Arabia",
            "South Africa",
            "South Korea",
            "Turkey",
            "United Kingdom",
            "United States"
           ],
           "name": "",
           "type": "choropleth",
           "z": [
            616.0885472,
            4299.4472382,
            18804.719886,
            12323.561986,
            320.55616882,
            3906.0245912,
            5936.183212,
            15524.121653999999,
            154.60289754000001,
            0.3441909528,
            2169.7498226,
            218.54448078000001,
            1682.0235286,
            38.404188624,
            2161.056915,
            659.43727356,
            2.0146437074000003,
            147.27095534,
            7799.3014772,
            3352.75
           ]
          }
         ],
         "name": "37"
        },
        {
         "data": [
          {
           "coloraxis": "coloraxis",
           "geo": "geo",
           "hovertemplate": "week=38<br>Country=%{location}<br>USD=%{z}<extra></extra>",
           "locationmode": "country names",
           "locations": [
            "Argentina",
            "Australia",
            "Brazil",
            "Canada",
            "China",
            "European Union",
            "France",
            "Germany",
            "India",
            "Indonesia",
            "Italy",
            "Japan",
            "Mexico",
            "Russia",
            "Saudi Arabia",
            "South Africa",
            "South Korea",
            "Turkey",
            "United Kingdom",
            "United States"
           ],
           "name": "",
           "type": "choropleth",
           "z": [
            561.9539449571429,
            4303.6504774,
            18936.277276,
            12375.519716,
            323.69052294000005,
            3928.863854,
            5971.097913,
            15628.98505,
            156.47659342,
            0.3419309574,
            2202.8048604000005,
            222.33328848000002,
            1733.514246,
            39.478428148,
            2218.2721544,
            677.49912898,
            2.0595351694,
            148.0524459,
            7805.9639124,
            3369.2
           ]
          }
         ],
         "name": "38"
        },
        {
         "data": [
          {
           "coloraxis": "coloraxis",
           "geo": "geo",
           "hovertemplate": "week=39<br>Country=%{location}<br>USD=%{z}<extra></extra>",
           "locationmode": "country names",
           "locations": [
            "Argentina",
            "Australia",
            "Brazil",
            "Canada",
            "China",
            "European Union",
            "France",
            "Germany",
            "India",
            "Indonesia",
            "Italy",
            "Japan",
            "Mexico",
            "Russia",
            "Saudi Arabia",
            "South Africa",
            "South Korea",
            "Turkey",
            "United Kingdom",
            "United States"
           ],
           "name": "",
           "type": "choropleth",
           "z": [
            549.2004893428572,
            4208.5884018,
            17685.860348,
            12012.92311,
            320.2872662,
            3707.4052314,
            5598.0027318,
            14746.694466,
            150.4952219,
            0.3331900288,
            2226.179188,
            221.56917554,
            1657.0517724000001,
            37.924979187999995,
            2201.8430104000004,
            639.94882774,
            1.9914811956,
            144.92904404,
            7471.259122,
            3275.8
           ]
          }
         ],
         "name": "39"
        },
        {
         "data": [
          {
           "coloraxis": "coloraxis",
           "geo": "geo",
           "hovertemplate": "week=40<br>Country=%{location}<br>USD=%{z}<extra></extra>",
           "locationmode": "country names",
           "locations": [
            "Argentina",
            "Australia",
            "Brazil",
            "Canada",
            "China",
            "European Union",
            "France",
            "Germany",
            "India",
            "Indonesia",
            "Italy",
            "Japan",
            "Mexico",
            "Russia",
            "Saudi Arabia",
            "South Africa",
            "South Korea",
            "Turkey",
            "United Kingdom",
            "United States"
           ],
           "name": "",
           "type": "choropleth",
           "z": [
            562.1304414857143,
            4187.6668926,
            16809.127584,
            12136.468238,
            314.7032841,
            3749.4364814,
            5648.3029874,
            14954.158272,
            153.23406504,
            0.330180848,
            2222.3457288,
            220.60308178,
            1668.1581536,
            37.037605024,
            2215.365858,
            650.49281018,
            1.9900674326,
            146.69453558,
            7581.6355836,
            3355.8
           ]
          }
         ],
         "name": "40"
        },
        {
         "data": [
          {
           "coloraxis": "coloraxis",
           "geo": "geo",
           "hovertemplate": "week=41<br>Country=%{location}<br>USD=%{z}<extra></extra>",
           "locationmode": "country names",
           "locations": [
            "Argentina",
            "Australia",
            "Brazil",
            "Canada",
            "China",
            "European Union",
            "France",
            "Germany",
            "India",
            "Indonesia",
            "Italy",
            "Japan",
            "Mexico",
            "Russia",
            "Saudi Arabia",
            "South Africa",
            "South Korea",
            "Turkey",
            "United Kingdom",
            "United States"
           ],
           "name": "",
           "type": "choropleth",
           "z": [
            586.8885265,
            4316.137759,
            17201.5128,
            12390.617994,
            317.64978426,
            3812.8184394000004,
            5762.8484692,
            15226.835509999999,
            159.78801461999998,
            0.3395195196,
            2207.9756038,
            222.06196268,
            1749.6716445999998,
            36.663263138,
            2231.537962,
            652.91150862,
            2.0514925622,
            147.9477761,
            7716.8644702,
            3422.6
           ]
          }
         ],
         "name": "41"
        },
        {
         "data": [
          {
           "coloraxis": "coloraxis",
           "geo": "geo",
           "hovertemplate": "week=42<br>Country=%{location}<br>USD=%{z}<extra></extra>",
           "locationmode": "country names",
           "locations": [
            "Argentina",
            "Australia",
            "Brazil",
            "Canada",
            "China",
            "European Union",
            "France",
            "Germany",
            "India",
            "Indonesia",
            "Italy",
            "Japan",
            "Mexico",
            "Russia",
            "Saudi Arabia",
            "South Africa",
            "South Korea",
            "Turkey",
            "United Kingdom",
            "United States"
           ],
           "name": "",
           "type": "choropleth",
           "z": [
            617.7133192428572,
            4427.770775800001,
            17660.488374,
            12529.587152,
            339.72783742,
            3832.7485346000003,
            5798.4850808,
            15247.682691999998,
            161.67674156,
            0.34937505020000004,
            2095.5673097999997,
            223.37663265999998,
            1791.6739192,
            36.607787099999996,
            2286.5654076,
            651.6197466,
            2.0759999932,
            149.79027093999997,
            7705.1568294,
            3500.4
           ]
          }
         ],
         "name": "42"
        },
        {
         "data": [
          {
           "coloraxis": "coloraxis",
           "geo": "geo",
           "hovertemplate": "week=43<br>Country=%{location}<br>USD=%{z}<extra></extra>",
           "locationmode": "country names",
           "locations": [
            "Argentina",
            "Australia",
            "Brazil",
            "Canada",
            "China",
            "European Union",
            "France",
            "Germany",
            "India",
            "Indonesia",
            "Italy",
            "Japan",
            "Mexico",
            "Russia",
            "Saudi Arabia",
            "South Africa",
            "South Korea",
            "Turkey",
            "United Kingdom",
            "United States"
           ],
           "name": "",
           "type": "choropleth",
           "z": [
            657.9070063714286,
            4386.2723204,
            17928.035806,
            12368.650492,
            336.28056102,
            3779.9826792,
            5777.1158924,
            14943.17713,
            161.74741713999998,
            0.3479153922,
            2213.9860982,
            224.09632317999998,
            1819.3049225999998,
            36.316024197999994,
            2273.1484572,
            664.72998622,
            2.0759476448000003,
            152.72760532,
            7595.7797418,
            3444.8
           ]
          }
         ],
         "name": "43"
        },
        {
         "data": [
          {
           "coloraxis": "coloraxis",
           "geo": "geo",
           "hovertemplate": "week=44<br>Country=%{location}<br>USD=%{z}<extra></extra>",
           "locationmode": "country names",
           "locations": [
            "Argentina",
            "Australia",
            "Brazil",
            "Canada",
            "China",
            "European Union",
            "France",
            "Germany",
            "India",
            "Indonesia",
            "Italy",
            "Japan",
            "Mexico",
            "Russia",
            "Saudi Arabia",
            "South Africa",
            "South Korea",
            "Turkey",
            "United Kingdom",
            "United States"
           ],
           "name": "",
           "type": "choropleth",
           "z": [
            585.2489240000001,
            4277.7965648,
            17098.097778,
            11930.583569999999,
            331.60010124,
            3546.12207,
            5482.8262448000005,
            13884.08686,
            158.5327879,
            0.34887602360000003,
            2402.8375234,
            223.18082442,
            1777.4538951999998,
            35.192778768,
            2150.7239615999997,
            638.5094382,
            2.0551050638,
            139.04997039999998,
            7351.351502799999,
            3328.6
           ]
          }
         ],
         "name": "44"
        },
        {
         "data": [
          {
           "coloraxis": "coloraxis",
           "geo": "geo",
           "hovertemplate": "week=45<br>Country=%{location}<br>USD=%{z}<extra></extra>",
           "locationmode": "country names",
           "locations": [
            "Argentina",
            "Australia",
            "Brazil",
            "Canada",
            "China",
            "European Union",
            "France",
            "Germany",
            "India",
            "Indonesia",
            "Italy",
            "Japan",
            "Mexico",
            "Russia",
            "Saudi Arabia",
            "South Africa",
            "South Korea",
            "Turkey",
            "United Kingdom",
            "United States"
           ],
           "name": "",
           "type": "choropleth",
           "z": [
            609.3045582428571,
            4343.302401999999,
            17190.238346000002,
            12174.51635,
            339.89166353999997,
            3680.3259615999996,
            5711.5271792,
            14357.677565999998,
            160.62431494,
            0.3591215424,
            2447.149613,
            227.54804015999997,
            1791.6161458,
            35.640562286,
            2150.3614022,
            661.553363,
            2.0939723938,
            138.39002098,
            7586.434888999999,
            3428.2
           ]
          }
         ],
         "name": "45"
        },
        {
         "data": [
          {
           "coloraxis": "coloraxis",
           "geo": "geo",
           "hovertemplate": "week=46<br>Country=%{location}<br>USD=%{z}<extra></extra>",
           "locationmode": "country names",
           "locations": [
            "Argentina",
            "Australia",
            "Brazil",
            "Canada",
            "China",
            "European Union",
            "France",
            "Germany",
            "India",
            "Indonesia",
            "Italy",
            "Japan",
            "Mexico",
            "Russia",
            "Saudi Arabia",
            "South Africa",
            "South Korea",
            "Turkey",
            "United Kingdom",
            "United States"
           ],
           "name": "",
           "type": "choropleth",
           "z": [
            633.9781543571428,
            4643.3006064,
            19271.863442,
            12738.347082,
            345.9476961,
            4062.4142244000004,
            6371.7336510000005,
            15515.045476,
            170.19213172,
            0.386507655,
            2545.0393268,
            240.3923822,
            1976.1612254,
            39.18475658,
            2246.6335402,
            719.9013462199999,
            2.213487034,
            157.55286288,
            8316.0863484,
            3558.4
           ]
          }
         ],
         "name": "46"
        },
        {
         "data": [
          {
           "coloraxis": "coloraxis",
           "geo": "geo",
           "hovertemplate": "week=47<br>Country=%{location}<br>USD=%{z}<extra></extra>",
           "locationmode": "country names",
           "locations": [
            "Argentina",
            "Australia",
            "Brazil",
            "Canada",
            "China",
            "European Union",
            "France",
            "Germany",
            "India",
            "Indonesia",
            "Italy",
            "Japan",
            "Mexico",
            "Russia",
            "Saudi Arabia",
            "South Africa",
            "South Korea",
            "Turkey",
            "United Kingdom",
            "United States"
           ],
           "name": "",
           "type": "choropleth",
           "z": [
            641.674086,
            4756.6878156,
            19805.413752,
            12929.956758,
            346.2539519,
            4110.8893084,
            6505.906774,
            15578.740974,
            172.35407736,
            0.3933221852,
            2562.420736,
            247.17989677999998,
            2053.251772,
            40.094732154,
            2288.5099838,
            738.6275494600001,
            2.2981452344,
            169.72619835999998,
            8436.381675,
            3589
           ]
          }
         ],
         "name": "47"
        },
        {
         "data": [
          {
           "coloraxis": "coloraxis",
           "geo": "geo",
           "hovertemplate": "week=48<br>Country=%{location}<br>USD=%{z}<extra></extra>",
           "locationmode": "country names",
           "locations": [
            "Argentina",
            "Australia",
            "Brazil",
            "Canada",
            "China",
            "European Union",
            "France",
            "Germany",
            "India",
            "Indonesia",
            "Italy",
            "Japan",
            "Mexico",
            "Russia",
            "Saudi Arabia",
            "South Africa",
            "South Korea",
            "Turkey",
            "United Kingdom",
            "United States"
           ],
           "name": "",
           "type": "choropleth",
           "z": [
            673.8558144428572,
            4863.5684896,
            20415.684186,
            13261.408911999999,
            345.04654646,
            4166.465394000001,
            6607.0948078,
            15772.708388,
            175.02876458,
            0.4055865712,
            2563.275593,
            251.52114018000003,
            2108.6824672000002,
            41.095256232,
            2312.7678244000003,
            742.33698132,
            2.3585873800000003,
            168.83063796,
            8512.5015422,
            3620.25
           ]
          }
         ],
         "name": "48"
        },
        {
         "data": [
          {
           "coloraxis": "coloraxis",
           "geo": "geo",
           "hovertemplate": "week=49<br>Country=%{location}<br>USD=%{z}<extra></extra>",
           "locationmode": "country names",
           "locations": [
            "Argentina",
            "Australia",
            "Brazil",
            "Canada",
            "China",
            "European Union",
            "France",
            "Germany",
            "India",
            "Indonesia",
            "Italy",
            "Japan",
            "Mexico",
            "Russia",
            "Saudi Arabia",
            "South Africa",
            "South Korea",
            "Turkey",
            "United Kingdom",
            "United States"
           ],
           "name": "",
           "type": "choropleth",
           "z": [
            674.2542152428571,
            4875.388816000001,
            21293.04037,
            13412.853016,
            347.84393014,
            4240.0546208,
            6715.446205,
            16033.903805999998,
            177.61574772,
            0.40827412760000004,
            2568.4113574000003,
            256.41162684,
            2156.8190416,
            41.793349894,
            2322.3442486,
            737.0687977,
            2.419212901,
            168.76959938,
            8607.0129356,
            3663.8
           ]
          }
         ],
         "name": "49"
        },
        {
         "data": [
          {
           "coloraxis": "coloraxis",
           "geo": "geo",
           "hovertemplate": "week=50<br>Country=%{location}<br>USD=%{z}<extra></extra>",
           "locationmode": "country names",
           "locations": [
            "Argentina",
            "Australia",
            "Brazil",
            "Canada",
            "China",
            "European Union",
            "France",
            "Germany",
            "India",
            "Indonesia",
            "Italy",
            "Japan",
            "Mexico",
            "Russia",
            "Saudi Arabia",
            "South Africa",
            "South Korea",
            "Turkey",
            "United Kingdom",
            "United States"
           ],
           "name": "",
           "type": "choropleth",
           "z": [
            657.5192558857143,
            4975.1188364,
            22306.957922,
            13746.312005999998,
            346.32664762,
            4262.303771,
            6720.414024799999,
            16062.400932,
            182.20672646,
            0.42058345159999994,
            2585.0724185999998,
            255.84603884000003,
            2177.1262318,
            43.855793746,
            2304.769771,
            748.53163456,
            2.5284432378,
            172.42540250000002,
            8772.5676006,
            3679.6
           ]
          }
         ],
         "name": "50"
        },
        {
         "data": [
          {
           "coloraxis": "coloraxis",
           "geo": "geo",
           "hovertemplate": "week=51<br>Country=%{location}<br>USD=%{z}<extra></extra>",
           "locationmode": "country names",
           "locations": [
            "Argentina",
            "Australia",
            "Brazil",
            "Canada",
            "China",
            "European Union",
            "France",
            "Germany",
            "India",
            "Indonesia",
            "Italy",
            "Japan",
            "Mexico",
            "Russia",
            "Saudi Arabia",
            "South Africa",
            "South Korea",
            "Turkey",
            "United Kingdom",
            "United States"
           ],
           "name": "",
           "type": "choropleth",
           "z": [
            640.0905945142857,
            5054.7388546,
            23027.409792,
            13762.210424,
            345.13900334,
            4305.8573713999995,
            6743.4543472000005,
            16431.115698,
            185.3757041,
            0.4297966576,
            2650.3940704,
            258.10795894,
            2192.8277672,
            44.513395257999996,
            2319.45541,
            725.4294572599999,
            2.5355398248,
            178.98083876,
            8784.3912316,
            3694.8
           ]
          }
         ],
         "name": "51"
        },
        {
         "data": [
          {
           "coloraxis": "coloraxis",
           "geo": "geo",
           "hovertemplate": "week=52<br>Country=%{location}<br>USD=%{z}<extra></extra>",
           "locationmode": "country names",
           "locations": [
            "Argentina",
            "Australia",
            "Brazil",
            "Canada",
            "China",
            "European Union",
            "France",
            "Germany",
            "India",
            "Indonesia",
            "Italy",
            "Japan",
            "Mexico",
            "Russia",
            "Saudi Arabia",
            "South Africa",
            "South Korea",
            "Turkey",
            "United Kingdom",
            "United States"
           ],
           "name": "",
           "type": "choropleth",
           "z": [
            615.9395657142858,
            5036.1292452,
            22808.090497999998,
            13680.734174000001,
            348.06659638,
            4286.2311512,
            6695.8085508,
            16454.994206,
            183.7480481,
            0.4247822058,
            2700.3208913999997,
            256.98663676,
            2155.8766538,
            43.183893746,
            2312.5545152,
            717.59629804,
            2.5164899402,
            184.66788042000002,
            8708.8492066,
            3693.75
           ]
          }
         ],
         "name": "52"
        },
        {
         "data": [
          {
           "coloraxis": "coloraxis",
           "geo": "geo",
           "hovertemplate": "week=53<br>Country=%{location}<br>USD=%{z}<extra></extra>",
           "locationmode": "country names",
           "locations": [
            "Argentina",
            "Australia",
            "Brazil",
            "Canada",
            "China",
            "European Union",
            "France",
            "Germany",
            "India",
            "Indonesia",
            "Italy",
            "Japan",
            "Mexico",
            "Russia",
            "Saudi Arabia",
            "South Africa",
            "South Korea",
            "Turkey",
            "United Kingdom",
            "United States"
           ],
           "name": "",
           "type": "choropleth",
           "z": [
            609.529431125,
            5071.5628645,
            22853.3364275,
            13684.7822,
            350.1568687,
            4373.51103875,
            6842.02569975,
            16817.787795,
            189.811961375,
            0.42881462400000003,
            2686.313893,
            263.81623387499997,
            2224.99112325,
            44.3079881225,
            2328.1938105,
            732.035286575,
            2.5977313515000002,
            196.74156349999998,
            8832.516873,
            3737.5
           ]
          }
         ],
         "name": "53"
        }
       ],
       "layout": {
        "coloraxis": {
         "cmax": 15000,
         "cmin": 0,
         "colorbar": {
          "title": {
           "text": "USD"
          }
         },
         "colorscale": [
          [
           0,
           "rgb(255,255,217)"
          ],
          [
           0.125,
           "rgb(237,248,177)"
          ],
          [
           0.25,
           "rgb(199,233,180)"
          ],
          [
           0.375,
           "rgb(127,205,187)"
          ],
          [
           0.5,
           "rgb(65,182,196)"
          ],
          [
           0.625,
           "rgb(29,145,192)"
          ],
          [
           0.75,
           "rgb(34,94,168)"
          ],
          [
           0.875,
           "rgb(37,52,148)"
          ],
          [
           1,
           "rgb(8,29,88)"
          ]
         ]
        },
        "geo": {
         "center": {},
         "domain": {
          "x": [
           0,
           1
          ],
          "y": [
           0,
           1
          ]
         }
        },
        "legend": {
         "tracegroupgap": 0
        },
        "margin": {
         "b": 0,
         "l": 0,
         "r": 0,
         "t": 0
        },
        "sliders": [
         {
          "active": 0,
          "currentvalue": {
           "prefix": "week="
          },
          "len": 0.9,
          "pad": {
           "b": 10,
           "t": 60
          },
          "steps": [
           {
            "args": [
             [
              "1"
             ],
             {
              "frame": {
               "duration": 0,
               "redraw": true
              },
              "fromcurrent": true,
              "mode": "immediate",
              "transition": {
               "duration": 0,
               "easing": "linear"
              }
             }
            ],
            "label": "1",
            "method": "animate"
           },
           {
            "args": [
             [
              "2"
             ],
             {
              "frame": {
               "duration": 0,
               "redraw": true
              },
              "fromcurrent": true,
              "mode": "immediate",
              "transition": {
               "duration": 0,
               "easing": "linear"
              }
             }
            ],
            "label": "2",
            "method": "animate"
           },
           {
            "args": [
             [
              "3"
             ],
             {
              "frame": {
               "duration": 0,
               "redraw": true
              },
              "fromcurrent": true,
              "mode": "immediate",
              "transition": {
               "duration": 0,
               "easing": "linear"
              }
             }
            ],
            "label": "3",
            "method": "animate"
           },
           {
            "args": [
             [
              "4"
             ],
             {
              "frame": {
               "duration": 0,
               "redraw": true
              },
              "fromcurrent": true,
              "mode": "immediate",
              "transition": {
               "duration": 0,
               "easing": "linear"
              }
             }
            ],
            "label": "4",
            "method": "animate"
           },
           {
            "args": [
             [
              "5"
             ],
             {
              "frame": {
               "duration": 0,
               "redraw": true
              },
              "fromcurrent": true,
              "mode": "immediate",
              "transition": {
               "duration": 0,
               "easing": "linear"
              }
             }
            ],
            "label": "5",
            "method": "animate"
           },
           {
            "args": [
             [
              "6"
             ],
             {
              "frame": {
               "duration": 0,
               "redraw": true
              },
              "fromcurrent": true,
              "mode": "immediate",
              "transition": {
               "duration": 0,
               "easing": "linear"
              }
             }
            ],
            "label": "6",
            "method": "animate"
           },
           {
            "args": [
             [
              "7"
             ],
             {
              "frame": {
               "duration": 0,
               "redraw": true
              },
              "fromcurrent": true,
              "mode": "immediate",
              "transition": {
               "duration": 0,
               "easing": "linear"
              }
             }
            ],
            "label": "7",
            "method": "animate"
           },
           {
            "args": [
             [
              "8"
             ],
             {
              "frame": {
               "duration": 0,
               "redraw": true
              },
              "fromcurrent": true,
              "mode": "immediate",
              "transition": {
               "duration": 0,
               "easing": "linear"
              }
             }
            ],
            "label": "8",
            "method": "animate"
           },
           {
            "args": [
             [
              "9"
             ],
             {
              "frame": {
               "duration": 0,
               "redraw": true
              },
              "fromcurrent": true,
              "mode": "immediate",
              "transition": {
               "duration": 0,
               "easing": "linear"
              }
             }
            ],
            "label": "9",
            "method": "animate"
           },
           {
            "args": [
             [
              "10"
             ],
             {
              "frame": {
               "duration": 0,
               "redraw": true
              },
              "fromcurrent": true,
              "mode": "immediate",
              "transition": {
               "duration": 0,
               "easing": "linear"
              }
             }
            ],
            "label": "10",
            "method": "animate"
           },
           {
            "args": [
             [
              "11"
             ],
             {
              "frame": {
               "duration": 0,
               "redraw": true
              },
              "fromcurrent": true,
              "mode": "immediate",
              "transition": {
               "duration": 0,
               "easing": "linear"
              }
             }
            ],
            "label": "11",
            "method": "animate"
           },
           {
            "args": [
             [
              "12"
             ],
             {
              "frame": {
               "duration": 0,
               "redraw": true
              },
              "fromcurrent": true,
              "mode": "immediate",
              "transition": {
               "duration": 0,
               "easing": "linear"
              }
             }
            ],
            "label": "12",
            "method": "animate"
           },
           {
            "args": [
             [
              "13"
             ],
             {
              "frame": {
               "duration": 0,
               "redraw": true
              },
              "fromcurrent": true,
              "mode": "immediate",
              "transition": {
               "duration": 0,
               "easing": "linear"
              }
             }
            ],
            "label": "13",
            "method": "animate"
           },
           {
            "args": [
             [
              "14"
             ],
             {
              "frame": {
               "duration": 0,
               "redraw": true
              },
              "fromcurrent": true,
              "mode": "immediate",
              "transition": {
               "duration": 0,
               "easing": "linear"
              }
             }
            ],
            "label": "14",
            "method": "animate"
           },
           {
            "args": [
             [
              "15"
             ],
             {
              "frame": {
               "duration": 0,
               "redraw": true
              },
              "fromcurrent": true,
              "mode": "immediate",
              "transition": {
               "duration": 0,
               "easing": "linear"
              }
             }
            ],
            "label": "15",
            "method": "animate"
           },
           {
            "args": [
             [
              "16"
             ],
             {
              "frame": {
               "duration": 0,
               "redraw": true
              },
              "fromcurrent": true,
              "mode": "immediate",
              "transition": {
               "duration": 0,
               "easing": "linear"
              }
             }
            ],
            "label": "16",
            "method": "animate"
           },
           {
            "args": [
             [
              "17"
             ],
             {
              "frame": {
               "duration": 0,
               "redraw": true
              },
              "fromcurrent": true,
              "mode": "immediate",
              "transition": {
               "duration": 0,
               "easing": "linear"
              }
             }
            ],
            "label": "17",
            "method": "animate"
           },
           {
            "args": [
             [
              "18"
             ],
             {
              "frame": {
               "duration": 0,
               "redraw": true
              },
              "fromcurrent": true,
              "mode": "immediate",
              "transition": {
               "duration": 0,
               "easing": "linear"
              }
             }
            ],
            "label": "18",
            "method": "animate"
           },
           {
            "args": [
             [
              "19"
             ],
             {
              "frame": {
               "duration": 0,
               "redraw": true
              },
              "fromcurrent": true,
              "mode": "immediate",
              "transition": {
               "duration": 0,
               "easing": "linear"
              }
             }
            ],
            "label": "19",
            "method": "animate"
           },
           {
            "args": [
             [
              "20"
             ],
             {
              "frame": {
               "duration": 0,
               "redraw": true
              },
              "fromcurrent": true,
              "mode": "immediate",
              "transition": {
               "duration": 0,
               "easing": "linear"
              }
             }
            ],
            "label": "20",
            "method": "animate"
           },
           {
            "args": [
             [
              "21"
             ],
             {
              "frame": {
               "duration": 0,
               "redraw": true
              },
              "fromcurrent": true,
              "mode": "immediate",
              "transition": {
               "duration": 0,
               "easing": "linear"
              }
             }
            ],
            "label": "21",
            "method": "animate"
           },
           {
            "args": [
             [
              "22"
             ],
             {
              "frame": {
               "duration": 0,
               "redraw": true
              },
              "fromcurrent": true,
              "mode": "immediate",
              "transition": {
               "duration": 0,
               "easing": "linear"
              }
             }
            ],
            "label": "22",
            "method": "animate"
           },
           {
            "args": [
             [
              "23"
             ],
             {
              "frame": {
               "duration": 0,
               "redraw": true
              },
              "fromcurrent": true,
              "mode": "immediate",
              "transition": {
               "duration": 0,
               "easing": "linear"
              }
             }
            ],
            "label": "23",
            "method": "animate"
           },
           {
            "args": [
             [
              "24"
             ],
             {
              "frame": {
               "duration": 0,
               "redraw": true
              },
              "fromcurrent": true,
              "mode": "immediate",
              "transition": {
               "duration": 0,
               "easing": "linear"
              }
             }
            ],
            "label": "24",
            "method": "animate"
           },
           {
            "args": [
             [
              "25"
             ],
             {
              "frame": {
               "duration": 0,
               "redraw": true
              },
              "fromcurrent": true,
              "mode": "immediate",
              "transition": {
               "duration": 0,
               "easing": "linear"
              }
             }
            ],
            "label": "25",
            "method": "animate"
           },
           {
            "args": [
             [
              "26"
             ],
             {
              "frame": {
               "duration": 0,
               "redraw": true
              },
              "fromcurrent": true,
              "mode": "immediate",
              "transition": {
               "duration": 0,
               "easing": "linear"
              }
             }
            ],
            "label": "26",
            "method": "animate"
           },
           {
            "args": [
             [
              "27"
             ],
             {
              "frame": {
               "duration": 0,
               "redraw": true
              },
              "fromcurrent": true,
              "mode": "immediate",
              "transition": {
               "duration": 0,
               "easing": "linear"
              }
             }
            ],
            "label": "27",
            "method": "animate"
           },
           {
            "args": [
             [
              "28"
             ],
             {
              "frame": {
               "duration": 0,
               "redraw": true
              },
              "fromcurrent": true,
              "mode": "immediate",
              "transition": {
               "duration": 0,
               "easing": "linear"
              }
             }
            ],
            "label": "28",
            "method": "animate"
           },
           {
            "args": [
             [
              "29"
             ],
             {
              "frame": {
               "duration": 0,
               "redraw": true
              },
              "fromcurrent": true,
              "mode": "immediate",
              "transition": {
               "duration": 0,
               "easing": "linear"
              }
             }
            ],
            "label": "29",
            "method": "animate"
           },
           {
            "args": [
             [
              "30"
             ],
             {
              "frame": {
               "duration": 0,
               "redraw": true
              },
              "fromcurrent": true,
              "mode": "immediate",
              "transition": {
               "duration": 0,
               "easing": "linear"
              }
             }
            ],
            "label": "30",
            "method": "animate"
           },
           {
            "args": [
             [
              "31"
             ],
             {
              "frame": {
               "duration": 0,
               "redraw": true
              },
              "fromcurrent": true,
              "mode": "immediate",
              "transition": {
               "duration": 0,
               "easing": "linear"
              }
             }
            ],
            "label": "31",
            "method": "animate"
           },
           {
            "args": [
             [
              "32"
             ],
             {
              "frame": {
               "duration": 0,
               "redraw": true
              },
              "fromcurrent": true,
              "mode": "immediate",
              "transition": {
               "duration": 0,
               "easing": "linear"
              }
             }
            ],
            "label": "32",
            "method": "animate"
           },
           {
            "args": [
             [
              "33"
             ],
             {
              "frame": {
               "duration": 0,
               "redraw": true
              },
              "fromcurrent": true,
              "mode": "immediate",
              "transition": {
               "duration": 0,
               "easing": "linear"
              }
             }
            ],
            "label": "33",
            "method": "animate"
           },
           {
            "args": [
             [
              "34"
             ],
             {
              "frame": {
               "duration": 0,
               "redraw": true
              },
              "fromcurrent": true,
              "mode": "immediate",
              "transition": {
               "duration": 0,
               "easing": "linear"
              }
             }
            ],
            "label": "34",
            "method": "animate"
           },
           {
            "args": [
             [
              "35"
             ],
             {
              "frame": {
               "duration": 0,
               "redraw": true
              },
              "fromcurrent": true,
              "mode": "immediate",
              "transition": {
               "duration": 0,
               "easing": "linear"
              }
             }
            ],
            "label": "35",
            "method": "animate"
           },
           {
            "args": [
             [
              "36"
             ],
             {
              "frame": {
               "duration": 0,
               "redraw": true
              },
              "fromcurrent": true,
              "mode": "immediate",
              "transition": {
               "duration": 0,
               "easing": "linear"
              }
             }
            ],
            "label": "36",
            "method": "animate"
           },
           {
            "args": [
             [
              "37"
             ],
             {
              "frame": {
               "duration": 0,
               "redraw": true
              },
              "fromcurrent": true,
              "mode": "immediate",
              "transition": {
               "duration": 0,
               "easing": "linear"
              }
             }
            ],
            "label": "37",
            "method": "animate"
           },
           {
            "args": [
             [
              "38"
             ],
             {
              "frame": {
               "duration": 0,
               "redraw": true
              },
              "fromcurrent": true,
              "mode": "immediate",
              "transition": {
               "duration": 0,
               "easing": "linear"
              }
             }
            ],
            "label": "38",
            "method": "animate"
           },
           {
            "args": [
             [
              "39"
             ],
             {
              "frame": {
               "duration": 0,
               "redraw": true
              },
              "fromcurrent": true,
              "mode": "immediate",
              "transition": {
               "duration": 0,
               "easing": "linear"
              }
             }
            ],
            "label": "39",
            "method": "animate"
           },
           {
            "args": [
             [
              "40"
             ],
             {
              "frame": {
               "duration": 0,
               "redraw": true
              },
              "fromcurrent": true,
              "mode": "immediate",
              "transition": {
               "duration": 0,
               "easing": "linear"
              }
             }
            ],
            "label": "40",
            "method": "animate"
           },
           {
            "args": [
             [
              "41"
             ],
             {
              "frame": {
               "duration": 0,
               "redraw": true
              },
              "fromcurrent": true,
              "mode": "immediate",
              "transition": {
               "duration": 0,
               "easing": "linear"
              }
             }
            ],
            "label": "41",
            "method": "animate"
           },
           {
            "args": [
             [
              "42"
             ],
             {
              "frame": {
               "duration": 0,
               "redraw": true
              },
              "fromcurrent": true,
              "mode": "immediate",
              "transition": {
               "duration": 0,
               "easing": "linear"
              }
             }
            ],
            "label": "42",
            "method": "animate"
           },
           {
            "args": [
             [
              "43"
             ],
             {
              "frame": {
               "duration": 0,
               "redraw": true
              },
              "fromcurrent": true,
              "mode": "immediate",
              "transition": {
               "duration": 0,
               "easing": "linear"
              }
             }
            ],
            "label": "43",
            "method": "animate"
           },
           {
            "args": [
             [
              "44"
             ],
             {
              "frame": {
               "duration": 0,
               "redraw": true
              },
              "fromcurrent": true,
              "mode": "immediate",
              "transition": {
               "duration": 0,
               "easing": "linear"
              }
             }
            ],
            "label": "44",
            "method": "animate"
           },
           {
            "args": [
             [
              "45"
             ],
             {
              "frame": {
               "duration": 0,
               "redraw": true
              },
              "fromcurrent": true,
              "mode": "immediate",
              "transition": {
               "duration": 0,
               "easing": "linear"
              }
             }
            ],
            "label": "45",
            "method": "animate"
           },
           {
            "args": [
             [
              "46"
             ],
             {
              "frame": {
               "duration": 0,
               "redraw": true
              },
              "fromcurrent": true,
              "mode": "immediate",
              "transition": {
               "duration": 0,
               "easing": "linear"
              }
             }
            ],
            "label": "46",
            "method": "animate"
           },
           {
            "args": [
             [
              "47"
             ],
             {
              "frame": {
               "duration": 0,
               "redraw": true
              },
              "fromcurrent": true,
              "mode": "immediate",
              "transition": {
               "duration": 0,
               "easing": "linear"
              }
             }
            ],
            "label": "47",
            "method": "animate"
           },
           {
            "args": [
             [
              "48"
             ],
             {
              "frame": {
               "duration": 0,
               "redraw": true
              },
              "fromcurrent": true,
              "mode": "immediate",
              "transition": {
               "duration": 0,
               "easing": "linear"
              }
             }
            ],
            "label": "48",
            "method": "animate"
           },
           {
            "args": [
             [
              "49"
             ],
             {
              "frame": {
               "duration": 0,
               "redraw": true
              },
              "fromcurrent": true,
              "mode": "immediate",
              "transition": {
               "duration": 0,
               "easing": "linear"
              }
             }
            ],
            "label": "49",
            "method": "animate"
           },
           {
            "args": [
             [
              "50"
             ],
             {
              "frame": {
               "duration": 0,
               "redraw": true
              },
              "fromcurrent": true,
              "mode": "immediate",
              "transition": {
               "duration": 0,
               "easing": "linear"
              }
             }
            ],
            "label": "50",
            "method": "animate"
           },
           {
            "args": [
             [
              "51"
             ],
             {
              "frame": {
               "duration": 0,
               "redraw": true
              },
              "fromcurrent": true,
              "mode": "immediate",
              "transition": {
               "duration": 0,
               "easing": "linear"
              }
             }
            ],
            "label": "51",
            "method": "animate"
           },
           {
            "args": [
             [
              "52"
             ],
             {
              "frame": {
               "duration": 0,
               "redraw": true
              },
              "fromcurrent": true,
              "mode": "immediate",
              "transition": {
               "duration": 0,
               "easing": "linear"
              }
             }
            ],
            "label": "52",
            "method": "animate"
           },
           {
            "args": [
             [
              "53"
             ],
             {
              "frame": {
               "duration": 0,
               "redraw": true
              },
              "fromcurrent": true,
              "mode": "immediate",
              "transition": {
               "duration": 0,
               "easing": "linear"
              }
             }
            ],
            "label": "53",
            "method": "animate"
           }
          ],
          "x": 0.1,
          "xanchor": "left",
          "y": 0,
          "yanchor": "top"
         }
        ],
        "template": {
         "data": {
          "bar": [
           {
            "error_x": {
             "color": "#2a3f5f"
            },
            "error_y": {
             "color": "#2a3f5f"
            },
            "marker": {
             "line": {
              "color": "#E5ECF6",
              "width": 0.5
             },
             "pattern": {
              "fillmode": "overlay",
              "size": 10,
              "solidity": 0.2
             }
            },
            "type": "bar"
           }
          ],
          "barpolar": [
           {
            "marker": {
             "line": {
              "color": "#E5ECF6",
              "width": 0.5
             },
             "pattern": {
              "fillmode": "overlay",
              "size": 10,
              "solidity": 0.2
             }
            },
            "type": "barpolar"
           }
          ],
          "carpet": [
           {
            "aaxis": {
             "endlinecolor": "#2a3f5f",
             "gridcolor": "white",
             "linecolor": "white",
             "minorgridcolor": "white",
             "startlinecolor": "#2a3f5f"
            },
            "baxis": {
             "endlinecolor": "#2a3f5f",
             "gridcolor": "white",
             "linecolor": "white",
             "minorgridcolor": "white",
             "startlinecolor": "#2a3f5f"
            },
            "type": "carpet"
           }
          ],
          "choropleth": [
           {
            "colorbar": {
             "outlinewidth": 0,
             "ticks": ""
            },
            "type": "choropleth"
           }
          ],
          "contour": [
           {
            "colorbar": {
             "outlinewidth": 0,
             "ticks": ""
            },
            "colorscale": [
             [
              0,
              "#0d0887"
             ],
             [
              0.1111111111111111,
              "#46039f"
             ],
             [
              0.2222222222222222,
              "#7201a8"
             ],
             [
              0.3333333333333333,
              "#9c179e"
             ],
             [
              0.4444444444444444,
              "#bd3786"
             ],
             [
              0.5555555555555556,
              "#d8576b"
             ],
             [
              0.6666666666666666,
              "#ed7953"
             ],
             [
              0.7777777777777778,
              "#fb9f3a"
             ],
             [
              0.8888888888888888,
              "#fdca26"
             ],
             [
              1,
              "#f0f921"
             ]
            ],
            "type": "contour"
           }
          ],
          "contourcarpet": [
           {
            "colorbar": {
             "outlinewidth": 0,
             "ticks": ""
            },
            "type": "contourcarpet"
           }
          ],
          "heatmap": [
           {
            "colorbar": {
             "outlinewidth": 0,
             "ticks": ""
            },
            "colorscale": [
             [
              0,
              "#0d0887"
             ],
             [
              0.1111111111111111,
              "#46039f"
             ],
             [
              0.2222222222222222,
              "#7201a8"
             ],
             [
              0.3333333333333333,
              "#9c179e"
             ],
             [
              0.4444444444444444,
              "#bd3786"
             ],
             [
              0.5555555555555556,
              "#d8576b"
             ],
             [
              0.6666666666666666,
              "#ed7953"
             ],
             [
              0.7777777777777778,
              "#fb9f3a"
             ],
             [
              0.8888888888888888,
              "#fdca26"
             ],
             [
              1,
              "#f0f921"
             ]
            ],
            "type": "heatmap"
           }
          ],
          "heatmapgl": [
           {
            "colorbar": {
             "outlinewidth": 0,
             "ticks": ""
            },
            "colorscale": [
             [
              0,
              "#0d0887"
             ],
             [
              0.1111111111111111,
              "#46039f"
             ],
             [
              0.2222222222222222,
              "#7201a8"
             ],
             [
              0.3333333333333333,
              "#9c179e"
             ],
             [
              0.4444444444444444,
              "#bd3786"
             ],
             [
              0.5555555555555556,
              "#d8576b"
             ],
             [
              0.6666666666666666,
              "#ed7953"
             ],
             [
              0.7777777777777778,
              "#fb9f3a"
             ],
             [
              0.8888888888888888,
              "#fdca26"
             ],
             [
              1,
              "#f0f921"
             ]
            ],
            "type": "heatmapgl"
           }
          ],
          "histogram": [
           {
            "marker": {
             "pattern": {
              "fillmode": "overlay",
              "size": 10,
              "solidity": 0.2
             }
            },
            "type": "histogram"
           }
          ],
          "histogram2d": [
           {
            "colorbar": {
             "outlinewidth": 0,
             "ticks": ""
            },
            "colorscale": [
             [
              0,
              "#0d0887"
             ],
             [
              0.1111111111111111,
              "#46039f"
             ],
             [
              0.2222222222222222,
              "#7201a8"
             ],
             [
              0.3333333333333333,
              "#9c179e"
             ],
             [
              0.4444444444444444,
              "#bd3786"
             ],
             [
              0.5555555555555556,
              "#d8576b"
             ],
             [
              0.6666666666666666,
              "#ed7953"
             ],
             [
              0.7777777777777778,
              "#fb9f3a"
             ],
             [
              0.8888888888888888,
              "#fdca26"
             ],
             [
              1,
              "#f0f921"
             ]
            ],
            "type": "histogram2d"
           }
          ],
          "histogram2dcontour": [
           {
            "colorbar": {
             "outlinewidth": 0,
             "ticks": ""
            },
            "colorscale": [
             [
              0,
              "#0d0887"
             ],
             [
              0.1111111111111111,
              "#46039f"
             ],
             [
              0.2222222222222222,
              "#7201a8"
             ],
             [
              0.3333333333333333,
              "#9c179e"
             ],
             [
              0.4444444444444444,
              "#bd3786"
             ],
             [
              0.5555555555555556,
              "#d8576b"
             ],
             [
              0.6666666666666666,
              "#ed7953"
             ],
             [
              0.7777777777777778,
              "#fb9f3a"
             ],
             [
              0.8888888888888888,
              "#fdca26"
             ],
             [
              1,
              "#f0f921"
             ]
            ],
            "type": "histogram2dcontour"
           }
          ],
          "mesh3d": [
           {
            "colorbar": {
             "outlinewidth": 0,
             "ticks": ""
            },
            "type": "mesh3d"
           }
          ],
          "parcoords": [
           {
            "line": {
             "colorbar": {
              "outlinewidth": 0,
              "ticks": ""
             }
            },
            "type": "parcoords"
           }
          ],
          "pie": [
           {
            "automargin": true,
            "type": "pie"
           }
          ],
          "scatter": [
           {
            "fillpattern": {
             "fillmode": "overlay",
             "size": 10,
             "solidity": 0.2
            },
            "type": "scatter"
           }
          ],
          "scatter3d": [
           {
            "line": {
             "colorbar": {
              "outlinewidth": 0,
              "ticks": ""
             }
            },
            "marker": {
             "colorbar": {
              "outlinewidth": 0,
              "ticks": ""
             }
            },
            "type": "scatter3d"
           }
          ],
          "scattercarpet": [
           {
            "marker": {
             "colorbar": {
              "outlinewidth": 0,
              "ticks": ""
             }
            },
            "type": "scattercarpet"
           }
          ],
          "scattergeo": [
           {
            "marker": {
             "colorbar": {
              "outlinewidth": 0,
              "ticks": ""
             }
            },
            "type": "scattergeo"
           }
          ],
          "scattergl": [
           {
            "marker": {
             "colorbar": {
              "outlinewidth": 0,
              "ticks": ""
             }
            },
            "type": "scattergl"
           }
          ],
          "scattermapbox": [
           {
            "marker": {
             "colorbar": {
              "outlinewidth": 0,
              "ticks": ""
             }
            },
            "type": "scattermapbox"
           }
          ],
          "scatterpolar": [
           {
            "marker": {
             "colorbar": {
              "outlinewidth": 0,
              "ticks": ""
             }
            },
            "type": "scatterpolar"
           }
          ],
          "scatterpolargl": [
           {
            "marker": {
             "colorbar": {
              "outlinewidth": 0,
              "ticks": ""
             }
            },
            "type": "scatterpolargl"
           }
          ],
          "scatterternary": [
           {
            "marker": {
             "colorbar": {
              "outlinewidth": 0,
              "ticks": ""
             }
            },
            "type": "scatterternary"
           }
          ],
          "surface": [
           {
            "colorbar": {
             "outlinewidth": 0,
             "ticks": ""
            },
            "colorscale": [
             [
              0,
              "#0d0887"
             ],
             [
              0.1111111111111111,
              "#46039f"
             ],
             [
              0.2222222222222222,
              "#7201a8"
             ],
             [
              0.3333333333333333,
              "#9c179e"
             ],
             [
              0.4444444444444444,
              "#bd3786"
             ],
             [
              0.5555555555555556,
              "#d8576b"
             ],
             [
              0.6666666666666666,
              "#ed7953"
             ],
             [
              0.7777777777777778,
              "#fb9f3a"
             ],
             [
              0.8888888888888888,
              "#fdca26"
             ],
             [
              1,
              "#f0f921"
             ]
            ],
            "type": "surface"
           }
          ],
          "table": [
           {
            "cells": {
             "fill": {
              "color": "#EBF0F8"
             },
             "line": {
              "color": "white"
             }
            },
            "header": {
             "fill": {
              "color": "#C8D4E3"
             },
             "line": {
              "color": "white"
             }
            },
            "type": "table"
           }
          ]
         },
         "layout": {
          "annotationdefaults": {
           "arrowcolor": "#2a3f5f",
           "arrowhead": 0,
           "arrowwidth": 1
          },
          "autotypenumbers": "strict",
          "coloraxis": {
           "colorbar": {
            "outlinewidth": 0,
            "ticks": ""
           }
          },
          "colorscale": {
           "diverging": [
            [
             0,
             "#8e0152"
            ],
            [
             0.1,
             "#c51b7d"
            ],
            [
             0.2,
             "#de77ae"
            ],
            [
             0.3,
             "#f1b6da"
            ],
            [
             0.4,
             "#fde0ef"
            ],
            [
             0.5,
             "#f7f7f7"
            ],
            [
             0.6,
             "#e6f5d0"
            ],
            [
             0.7,
             "#b8e186"
            ],
            [
             0.8,
             "#7fbc41"
            ],
            [
             0.9,
             "#4d9221"
            ],
            [
             1,
             "#276419"
            ]
           ],
           "sequential": [
            [
             0,
             "#0d0887"
            ],
            [
             0.1111111111111111,
             "#46039f"
            ],
            [
             0.2222222222222222,
             "#7201a8"
            ],
            [
             0.3333333333333333,
             "#9c179e"
            ],
            [
             0.4444444444444444,
             "#bd3786"
            ],
            [
             0.5555555555555556,
             "#d8576b"
            ],
            [
             0.6666666666666666,
             "#ed7953"
            ],
            [
             0.7777777777777778,
             "#fb9f3a"
            ],
            [
             0.8888888888888888,
             "#fdca26"
            ],
            [
             1,
             "#f0f921"
            ]
           ],
           "sequentialminus": [
            [
             0,
             "#0d0887"
            ],
            [
             0.1111111111111111,
             "#46039f"
            ],
            [
             0.2222222222222222,
             "#7201a8"
            ],
            [
             0.3333333333333333,
             "#9c179e"
            ],
            [
             0.4444444444444444,
             "#bd3786"
            ],
            [
             0.5555555555555556,
             "#d8576b"
            ],
            [
             0.6666666666666666,
             "#ed7953"
            ],
            [
             0.7777777777777778,
             "#fb9f3a"
            ],
            [
             0.8888888888888888,
             "#fdca26"
            ],
            [
             1,
             "#f0f921"
            ]
           ]
          },
          "colorway": [
           "#636efa",
           "#EF553B",
           "#00cc96",
           "#ab63fa",
           "#FFA15A",
           "#19d3f3",
           "#FF6692",
           "#B6E880",
           "#FF97FF",
           "#FECB52"
          ],
          "font": {
           "color": "#2a3f5f"
          },
          "geo": {
           "bgcolor": "white",
           "lakecolor": "white",
           "landcolor": "#E5ECF6",
           "showlakes": true,
           "showland": true,
           "subunitcolor": "white"
          },
          "hoverlabel": {
           "align": "left"
          },
          "hovermode": "closest",
          "mapbox": {
           "style": "light"
          },
          "paper_bgcolor": "white",
          "plot_bgcolor": "#E5ECF6",
          "polar": {
           "angularaxis": {
            "gridcolor": "white",
            "linecolor": "white",
            "ticks": ""
           },
           "bgcolor": "#E5ECF6",
           "radialaxis": {
            "gridcolor": "white",
            "linecolor": "white",
            "ticks": ""
           }
          },
          "scene": {
           "xaxis": {
            "backgroundcolor": "#E5ECF6",
            "gridcolor": "white",
            "gridwidth": 2,
            "linecolor": "white",
            "showbackground": true,
            "ticks": "",
            "zerolinecolor": "white"
           },
           "yaxis": {
            "backgroundcolor": "#E5ECF6",
            "gridcolor": "white",
            "gridwidth": 2,
            "linecolor": "white",
            "showbackground": true,
            "ticks": "",
            "zerolinecolor": "white"
           },
           "zaxis": {
            "backgroundcolor": "#E5ECF6",
            "gridcolor": "white",
            "gridwidth": 2,
            "linecolor": "white",
            "showbackground": true,
            "ticks": "",
            "zerolinecolor": "white"
           }
          },
          "shapedefaults": {
           "line": {
            "color": "#2a3f5f"
           }
          },
          "ternary": {
           "aaxis": {
            "gridcolor": "white",
            "linecolor": "white",
            "ticks": ""
           },
           "baxis": {
            "gridcolor": "white",
            "linecolor": "white",
            "ticks": ""
           },
           "bgcolor": "#E5ECF6",
           "caxis": {
            "gridcolor": "white",
            "linecolor": "white",
            "ticks": ""
           }
          },
          "title": {
           "x": 0.05
          },
          "xaxis": {
           "automargin": true,
           "gridcolor": "white",
           "linecolor": "white",
           "ticks": "",
           "title": {
            "standoff": 15
           },
           "zerolinecolor": "white",
           "zerolinewidth": 2
          },
          "yaxis": {
           "automargin": true,
           "gridcolor": "white",
           "linecolor": "white",
           "ticks": "",
           "title": {
            "standoff": 15
           },
           "zerolinecolor": "white",
           "zerolinewidth": 2
          }
         }
        },
        "updatemenus": [
         {
          "buttons": [
           {
            "args": [
             null,
             {
              "frame": {
               "duration": 500,
               "redraw": true
              },
              "fromcurrent": true,
              "mode": "immediate",
              "transition": {
               "duration": 500,
               "easing": "linear"
              }
             }
            ],
            "label": "&#9654;",
            "method": "animate"
           },
           {
            "args": [
             [
              null
             ],
             {
              "frame": {
               "duration": 0,
               "redraw": true
              },
              "fromcurrent": true,
              "mode": "immediate",
              "transition": {
               "duration": 0,
               "easing": "linear"
              }
             }
            ],
            "label": "&#9724;",
            "method": "animate"
           }
          ],
          "direction": "left",
          "pad": {
           "r": 10,
           "t": 70
          },
          "showactive": false,
          "type": "buttons",
          "x": 0.1,
          "xanchor": "right",
          "y": 0,
          "yanchor": "top"
         }
        ]
       }
      },
      "text/html": [
       "<div>                            <div id=\"1a412610-37b0-4acc-9a80-34ef2fe2afa0\" class=\"plotly-graph-div\" style=\"height:525px; width:100%;\"></div>            <script type=\"text/javascript\">                require([\"plotly\"], function(Plotly) {                    window.PLOTLYENV=window.PLOTLYENV || {};                                    if (document.getElementById(\"1a412610-37b0-4acc-9a80-34ef2fe2afa0\")) {                    Plotly.newPlot(                        \"1a412610-37b0-4acc-9a80-34ef2fe2afa0\",                        [{\"coloraxis\":\"coloraxis\",\"geo\":\"geo\",\"hovertemplate\":\"week=1<br>Country=%{location}<br>USD=%{z}<extra></extra>\",\"locationmode\":\"country names\",\"locations\":[\"Argentina\",\"Australia\",\"Brazil\",\"Canada\",\"China\",\"European Union\",\"France\",\"Germany\",\"India\",\"Indonesia\",\"Italy\",\"Japan\",\"Mexico\",\"Russia\",\"Saudi Arabia\",\"South Africa\",\"South Korea\",\"Turkey\",\"United Kingdom\",\"United States\"],\"name\":\"\",\"z\":[683.10756156,4693.43996,29202.939983333334,13130.196109999999,250.58651623333333,4199.079683,6742.791019333334,14867.718646666666,171.6877072666667,0.45530867999999997,2603.556013,216.187811,2340.9217673333333,49.34526944666667,2237.6909456666667,721.0852318999999,1.8863324380000002,19274.947973333332,9996.789117,3246.5],\"type\":\"choropleth\"}],                        {\"template\":{\"data\":{\"histogram2dcontour\":[{\"type\":\"histogram2dcontour\",\"colorbar\":{\"outlinewidth\":0,\"ticks\":\"\"},\"colorscale\":[[0.0,\"#0d0887\"],[0.1111111111111111,\"#46039f\"],[0.2222222222222222,\"#7201a8\"],[0.3333333333333333,\"#9c179e\"],[0.4444444444444444,\"#bd3786\"],[0.5555555555555556,\"#d8576b\"],[0.6666666666666666,\"#ed7953\"],[0.7777777777777778,\"#fb9f3a\"],[0.8888888888888888,\"#fdca26\"],[1.0,\"#f0f921\"]]}],\"choropleth\":[{\"type\":\"choropleth\",\"colorbar\":{\"outlinewidth\":0,\"ticks\":\"\"}}],\"histogram2d\":[{\"type\":\"histogram2d\",\"colorbar\":{\"outlinewidth\":0,\"ticks\":\"\"},\"colorscale\":[[0.0,\"#0d0887\"],[0.1111111111111111,\"#46039f\"],[0.2222222222222222,\"#7201a8\"],[0.3333333333333333,\"#9c179e\"],[0.4444444444444444,\"#bd3786\"],[0.5555555555555556,\"#d8576b\"],[0.6666666666666666,\"#ed7953\"],[0.7777777777777778,\"#fb9f3a\"],[0.8888888888888888,\"#fdca26\"],[1.0,\"#f0f921\"]]}],\"heatmap\":[{\"type\":\"heatmap\",\"colorbar\":{\"outlinewidth\":0,\"ticks\":\"\"},\"colorscale\":[[0.0,\"#0d0887\"],[0.1111111111111111,\"#46039f\"],[0.2222222222222222,\"#7201a8\"],[0.3333333333333333,\"#9c179e\"],[0.4444444444444444,\"#bd3786\"],[0.5555555555555556,\"#d8576b\"],[0.6666666666666666,\"#ed7953\"],[0.7777777777777778,\"#fb9f3a\"],[0.8888888888888888,\"#fdca26\"],[1.0,\"#f0f921\"]]}],\"heatmapgl\":[{\"type\":\"heatmapgl\",\"colorbar\":{\"outlinewidth\":0,\"ticks\":\"\"},\"colorscale\":[[0.0,\"#0d0887\"],[0.1111111111111111,\"#46039f\"],[0.2222222222222222,\"#7201a8\"],[0.3333333333333333,\"#9c179e\"],[0.4444444444444444,\"#bd3786\"],[0.5555555555555556,\"#d8576b\"],[0.6666666666666666,\"#ed7953\"],[0.7777777777777778,\"#fb9f3a\"],[0.8888888888888888,\"#fdca26\"],[1.0,\"#f0f921\"]]}],\"contourcarpet\":[{\"type\":\"contourcarpet\",\"colorbar\":{\"outlinewidth\":0,\"ticks\":\"\"}}],\"contour\":[{\"type\":\"contour\",\"colorbar\":{\"outlinewidth\":0,\"ticks\":\"\"},\"colorscale\":[[0.0,\"#0d0887\"],[0.1111111111111111,\"#46039f\"],[0.2222222222222222,\"#7201a8\"],[0.3333333333333333,\"#9c179e\"],[0.4444444444444444,\"#bd3786\"],[0.5555555555555556,\"#d8576b\"],[0.6666666666666666,\"#ed7953\"],[0.7777777777777778,\"#fb9f3a\"],[0.8888888888888888,\"#fdca26\"],[1.0,\"#f0f921\"]]}],\"surface\":[{\"type\":\"surface\",\"colorbar\":{\"outlinewidth\":0,\"ticks\":\"\"},\"colorscale\":[[0.0,\"#0d0887\"],[0.1111111111111111,\"#46039f\"],[0.2222222222222222,\"#7201a8\"],[0.3333333333333333,\"#9c179e\"],[0.4444444444444444,\"#bd3786\"],[0.5555555555555556,\"#d8576b\"],[0.6666666666666666,\"#ed7953\"],[0.7777777777777778,\"#fb9f3a\"],[0.8888888888888888,\"#fdca26\"],[1.0,\"#f0f921\"]]}],\"mesh3d\":[{\"type\":\"mesh3d\",\"colorbar\":{\"outlinewidth\":0,\"ticks\":\"\"}}],\"scatter\":[{\"fillpattern\":{\"fillmode\":\"overlay\",\"size\":10,\"solidity\":0.2},\"type\":\"scatter\"}],\"parcoords\":[{\"type\":\"parcoords\",\"line\":{\"colorbar\":{\"outlinewidth\":0,\"ticks\":\"\"}}}],\"scatterpolargl\":[{\"type\":\"scatterpolargl\",\"marker\":{\"colorbar\":{\"outlinewidth\":0,\"ticks\":\"\"}}}],\"bar\":[{\"error_x\":{\"color\":\"#2a3f5f\"},\"error_y\":{\"color\":\"#2a3f5f\"},\"marker\":{\"line\":{\"color\":\"#E5ECF6\",\"width\":0.5},\"pattern\":{\"fillmode\":\"overlay\",\"size\":10,\"solidity\":0.2}},\"type\":\"bar\"}],\"scattergeo\":[{\"type\":\"scattergeo\",\"marker\":{\"colorbar\":{\"outlinewidth\":0,\"ticks\":\"\"}}}],\"scatterpolar\":[{\"type\":\"scatterpolar\",\"marker\":{\"colorbar\":{\"outlinewidth\":0,\"ticks\":\"\"}}}],\"histogram\":[{\"marker\":{\"pattern\":{\"fillmode\":\"overlay\",\"size\":10,\"solidity\":0.2}},\"type\":\"histogram\"}],\"scattergl\":[{\"type\":\"scattergl\",\"marker\":{\"colorbar\":{\"outlinewidth\":0,\"ticks\":\"\"}}}],\"scatter3d\":[{\"type\":\"scatter3d\",\"line\":{\"colorbar\":{\"outlinewidth\":0,\"ticks\":\"\"}},\"marker\":{\"colorbar\":{\"outlinewidth\":0,\"ticks\":\"\"}}}],\"scattermapbox\":[{\"type\":\"scattermapbox\",\"marker\":{\"colorbar\":{\"outlinewidth\":0,\"ticks\":\"\"}}}],\"scatterternary\":[{\"type\":\"scatterternary\",\"marker\":{\"colorbar\":{\"outlinewidth\":0,\"ticks\":\"\"}}}],\"scattercarpet\":[{\"type\":\"scattercarpet\",\"marker\":{\"colorbar\":{\"outlinewidth\":0,\"ticks\":\"\"}}}],\"carpet\":[{\"aaxis\":{\"endlinecolor\":\"#2a3f5f\",\"gridcolor\":\"white\",\"linecolor\":\"white\",\"minorgridcolor\":\"white\",\"startlinecolor\":\"#2a3f5f\"},\"baxis\":{\"endlinecolor\":\"#2a3f5f\",\"gridcolor\":\"white\",\"linecolor\":\"white\",\"minorgridcolor\":\"white\",\"startlinecolor\":\"#2a3f5f\"},\"type\":\"carpet\"}],\"table\":[{\"cells\":{\"fill\":{\"color\":\"#EBF0F8\"},\"line\":{\"color\":\"white\"}},\"header\":{\"fill\":{\"color\":\"#C8D4E3\"},\"line\":{\"color\":\"white\"}},\"type\":\"table\"}],\"barpolar\":[{\"marker\":{\"line\":{\"color\":\"#E5ECF6\",\"width\":0.5},\"pattern\":{\"fillmode\":\"overlay\",\"size\":10,\"solidity\":0.2}},\"type\":\"barpolar\"}],\"pie\":[{\"automargin\":true,\"type\":\"pie\"}]},\"layout\":{\"autotypenumbers\":\"strict\",\"colorway\":[\"#636efa\",\"#EF553B\",\"#00cc96\",\"#ab63fa\",\"#FFA15A\",\"#19d3f3\",\"#FF6692\",\"#B6E880\",\"#FF97FF\",\"#FECB52\"],\"font\":{\"color\":\"#2a3f5f\"},\"hovermode\":\"closest\",\"hoverlabel\":{\"align\":\"left\"},\"paper_bgcolor\":\"white\",\"plot_bgcolor\":\"#E5ECF6\",\"polar\":{\"bgcolor\":\"#E5ECF6\",\"angularaxis\":{\"gridcolor\":\"white\",\"linecolor\":\"white\",\"ticks\":\"\"},\"radialaxis\":{\"gridcolor\":\"white\",\"linecolor\":\"white\",\"ticks\":\"\"}},\"ternary\":{\"bgcolor\":\"#E5ECF6\",\"aaxis\":{\"gridcolor\":\"white\",\"linecolor\":\"white\",\"ticks\":\"\"},\"baxis\":{\"gridcolor\":\"white\",\"linecolor\":\"white\",\"ticks\":\"\"},\"caxis\":{\"gridcolor\":\"white\",\"linecolor\":\"white\",\"ticks\":\"\"}},\"coloraxis\":{\"colorbar\":{\"outlinewidth\":0,\"ticks\":\"\"}},\"colorscale\":{\"sequential\":[[0.0,\"#0d0887\"],[0.1111111111111111,\"#46039f\"],[0.2222222222222222,\"#7201a8\"],[0.3333333333333333,\"#9c179e\"],[0.4444444444444444,\"#bd3786\"],[0.5555555555555556,\"#d8576b\"],[0.6666666666666666,\"#ed7953\"],[0.7777777777777778,\"#fb9f3a\"],[0.8888888888888888,\"#fdca26\"],[1.0,\"#f0f921\"]],\"sequentialminus\":[[0.0,\"#0d0887\"],[0.1111111111111111,\"#46039f\"],[0.2222222222222222,\"#7201a8\"],[0.3333333333333333,\"#9c179e\"],[0.4444444444444444,\"#bd3786\"],[0.5555555555555556,\"#d8576b\"],[0.6666666666666666,\"#ed7953\"],[0.7777777777777778,\"#fb9f3a\"],[0.8888888888888888,\"#fdca26\"],[1.0,\"#f0f921\"]],\"diverging\":[[0,\"#8e0152\"],[0.1,\"#c51b7d\"],[0.2,\"#de77ae\"],[0.3,\"#f1b6da\"],[0.4,\"#fde0ef\"],[0.5,\"#f7f7f7\"],[0.6,\"#e6f5d0\"],[0.7,\"#b8e186\"],[0.8,\"#7fbc41\"],[0.9,\"#4d9221\"],[1,\"#276419\"]]},\"xaxis\":{\"gridcolor\":\"white\",\"linecolor\":\"white\",\"ticks\":\"\",\"title\":{\"standoff\":15},\"zerolinecolor\":\"white\",\"automargin\":true,\"zerolinewidth\":2},\"yaxis\":{\"gridcolor\":\"white\",\"linecolor\":\"white\",\"ticks\":\"\",\"title\":{\"standoff\":15},\"zerolinecolor\":\"white\",\"automargin\":true,\"zerolinewidth\":2},\"scene\":{\"xaxis\":{\"backgroundcolor\":\"#E5ECF6\",\"gridcolor\":\"white\",\"linecolor\":\"white\",\"showbackground\":true,\"ticks\":\"\",\"zerolinecolor\":\"white\",\"gridwidth\":2},\"yaxis\":{\"backgroundcolor\":\"#E5ECF6\",\"gridcolor\":\"white\",\"linecolor\":\"white\",\"showbackground\":true,\"ticks\":\"\",\"zerolinecolor\":\"white\",\"gridwidth\":2},\"zaxis\":{\"backgroundcolor\":\"#E5ECF6\",\"gridcolor\":\"white\",\"linecolor\":\"white\",\"showbackground\":true,\"ticks\":\"\",\"zerolinecolor\":\"white\",\"gridwidth\":2}},\"shapedefaults\":{\"line\":{\"color\":\"#2a3f5f\"}},\"annotationdefaults\":{\"arrowcolor\":\"#2a3f5f\",\"arrowhead\":0,\"arrowwidth\":1},\"geo\":{\"bgcolor\":\"white\",\"landcolor\":\"#E5ECF6\",\"subunitcolor\":\"white\",\"showland\":true,\"showlakes\":true,\"lakecolor\":\"white\"},\"title\":{\"x\":0.05},\"mapbox\":{\"style\":\"light\"}}},\"geo\":{\"domain\":{\"x\":[0.0,1.0],\"y\":[0.0,1.0]},\"center\":{}},\"coloraxis\":{\"colorbar\":{\"title\":{\"text\":\"USD\"}},\"colorscale\":[[0.0,\"rgb(255,255,217)\"],[0.125,\"rgb(237,248,177)\"],[0.25,\"rgb(199,233,180)\"],[0.375,\"rgb(127,205,187)\"],[0.5,\"rgb(65,182,196)\"],[0.625,\"rgb(29,145,192)\"],[0.75,\"rgb(34,94,168)\"],[0.875,\"rgb(37,52,148)\"],[1.0,\"rgb(8,29,88)\"]],\"cmin\":0,\"cmax\":15000},\"legend\":{\"tracegroupgap\":0},\"margin\":{\"t\":0,\"r\":0,\"l\":0,\"b\":0},\"updatemenus\":[{\"buttons\":[{\"args\":[null,{\"frame\":{\"duration\":500,\"redraw\":true},\"mode\":\"immediate\",\"fromcurrent\":true,\"transition\":{\"duration\":500,\"easing\":\"linear\"}}],\"label\":\"&#9654;\",\"method\":\"animate\"},{\"args\":[[null],{\"frame\":{\"duration\":0,\"redraw\":true},\"mode\":\"immediate\",\"fromcurrent\":true,\"transition\":{\"duration\":0,\"easing\":\"linear\"}}],\"label\":\"&#9724;\",\"method\":\"animate\"}],\"direction\":\"left\",\"pad\":{\"r\":10,\"t\":70},\"showactive\":false,\"type\":\"buttons\",\"x\":0.1,\"xanchor\":\"right\",\"y\":0,\"yanchor\":\"top\"}],\"sliders\":[{\"active\":0,\"currentvalue\":{\"prefix\":\"week=\"},\"len\":0.9,\"pad\":{\"b\":10,\"t\":60},\"steps\":[{\"args\":[[\"1\"],{\"frame\":{\"duration\":0,\"redraw\":true},\"mode\":\"immediate\",\"fromcurrent\":true,\"transition\":{\"duration\":0,\"easing\":\"linear\"}}],\"label\":\"1\",\"method\":\"animate\"},{\"args\":[[\"2\"],{\"frame\":{\"duration\":0,\"redraw\":true},\"mode\":\"immediate\",\"fromcurrent\":true,\"transition\":{\"duration\":0,\"easing\":\"linear\"}}],\"label\":\"2\",\"method\":\"animate\"},{\"args\":[[\"3\"],{\"frame\":{\"duration\":0,\"redraw\":true},\"mode\":\"immediate\",\"fromcurrent\":true,\"transition\":{\"duration\":0,\"easing\":\"linear\"}}],\"label\":\"3\",\"method\":\"animate\"},{\"args\":[[\"4\"],{\"frame\":{\"duration\":0,\"redraw\":true},\"mode\":\"immediate\",\"fromcurrent\":true,\"transition\":{\"duration\":0,\"easing\":\"linear\"}}],\"label\":\"4\",\"method\":\"animate\"},{\"args\":[[\"5\"],{\"frame\":{\"duration\":0,\"redraw\":true},\"mode\":\"immediate\",\"fromcurrent\":true,\"transition\":{\"duration\":0,\"easing\":\"linear\"}}],\"label\":\"5\",\"method\":\"animate\"},{\"args\":[[\"6\"],{\"frame\":{\"duration\":0,\"redraw\":true},\"mode\":\"immediate\",\"fromcurrent\":true,\"transition\":{\"duration\":0,\"easing\":\"linear\"}}],\"label\":\"6\",\"method\":\"animate\"},{\"args\":[[\"7\"],{\"frame\":{\"duration\":0,\"redraw\":true},\"mode\":\"immediate\",\"fromcurrent\":true,\"transition\":{\"duration\":0,\"easing\":\"linear\"}}],\"label\":\"7\",\"method\":\"animate\"},{\"args\":[[\"8\"],{\"frame\":{\"duration\":0,\"redraw\":true},\"mode\":\"immediate\",\"fromcurrent\":true,\"transition\":{\"duration\":0,\"easing\":\"linear\"}}],\"label\":\"8\",\"method\":\"animate\"},{\"args\":[[\"9\"],{\"frame\":{\"duration\":0,\"redraw\":true},\"mode\":\"immediate\",\"fromcurrent\":true,\"transition\":{\"duration\":0,\"easing\":\"linear\"}}],\"label\":\"9\",\"method\":\"animate\"},{\"args\":[[\"10\"],{\"frame\":{\"duration\":0,\"redraw\":true},\"mode\":\"immediate\",\"fromcurrent\":true,\"transition\":{\"duration\":0,\"easing\":\"linear\"}}],\"label\":\"10\",\"method\":\"animate\"},{\"args\":[[\"11\"],{\"frame\":{\"duration\":0,\"redraw\":true},\"mode\":\"immediate\",\"fromcurrent\":true,\"transition\":{\"duration\":0,\"easing\":\"linear\"}}],\"label\":\"11\",\"method\":\"animate\"},{\"args\":[[\"12\"],{\"frame\":{\"duration\":0,\"redraw\":true},\"mode\":\"immediate\",\"fromcurrent\":true,\"transition\":{\"duration\":0,\"easing\":\"linear\"}}],\"label\":\"12\",\"method\":\"animate\"},{\"args\":[[\"13\"],{\"frame\":{\"duration\":0,\"redraw\":true},\"mode\":\"immediate\",\"fromcurrent\":true,\"transition\":{\"duration\":0,\"easing\":\"linear\"}}],\"label\":\"13\",\"method\":\"animate\"},{\"args\":[[\"14\"],{\"frame\":{\"duration\":0,\"redraw\":true},\"mode\":\"immediate\",\"fromcurrent\":true,\"transition\":{\"duration\":0,\"easing\":\"linear\"}}],\"label\":\"14\",\"method\":\"animate\"},{\"args\":[[\"15\"],{\"frame\":{\"duration\":0,\"redraw\":true},\"mode\":\"immediate\",\"fromcurrent\":true,\"transition\":{\"duration\":0,\"easing\":\"linear\"}}],\"label\":\"15\",\"method\":\"animate\"},{\"args\":[[\"16\"],{\"frame\":{\"duration\":0,\"redraw\":true},\"mode\":\"immediate\",\"fromcurrent\":true,\"transition\":{\"duration\":0,\"easing\":\"linear\"}}],\"label\":\"16\",\"method\":\"animate\"},{\"args\":[[\"17\"],{\"frame\":{\"duration\":0,\"redraw\":true},\"mode\":\"immediate\",\"fromcurrent\":true,\"transition\":{\"duration\":0,\"easing\":\"linear\"}}],\"label\":\"17\",\"method\":\"animate\"},{\"args\":[[\"18\"],{\"frame\":{\"duration\":0,\"redraw\":true},\"mode\":\"immediate\",\"fromcurrent\":true,\"transition\":{\"duration\":0,\"easing\":\"linear\"}}],\"label\":\"18\",\"method\":\"animate\"},{\"args\":[[\"19\"],{\"frame\":{\"duration\":0,\"redraw\":true},\"mode\":\"immediate\",\"fromcurrent\":true,\"transition\":{\"duration\":0,\"easing\":\"linear\"}}],\"label\":\"19\",\"method\":\"animate\"},{\"args\":[[\"20\"],{\"frame\":{\"duration\":0,\"redraw\":true},\"mode\":\"immediate\",\"fromcurrent\":true,\"transition\":{\"duration\":0,\"easing\":\"linear\"}}],\"label\":\"20\",\"method\":\"animate\"},{\"args\":[[\"21\"],{\"frame\":{\"duration\":0,\"redraw\":true},\"mode\":\"immediate\",\"fromcurrent\":true,\"transition\":{\"duration\":0,\"easing\":\"linear\"}}],\"label\":\"21\",\"method\":\"animate\"},{\"args\":[[\"22\"],{\"frame\":{\"duration\":0,\"redraw\":true},\"mode\":\"immediate\",\"fromcurrent\":true,\"transition\":{\"duration\":0,\"easing\":\"linear\"}}],\"label\":\"22\",\"method\":\"animate\"},{\"args\":[[\"23\"],{\"frame\":{\"duration\":0,\"redraw\":true},\"mode\":\"immediate\",\"fromcurrent\":true,\"transition\":{\"duration\":0,\"easing\":\"linear\"}}],\"label\":\"23\",\"method\":\"animate\"},{\"args\":[[\"24\"],{\"frame\":{\"duration\":0,\"redraw\":true},\"mode\":\"immediate\",\"fromcurrent\":true,\"transition\":{\"duration\":0,\"easing\":\"linear\"}}],\"label\":\"24\",\"method\":\"animate\"},{\"args\":[[\"25\"],{\"frame\":{\"duration\":0,\"redraw\":true},\"mode\":\"immediate\",\"fromcurrent\":true,\"transition\":{\"duration\":0,\"easing\":\"linear\"}}],\"label\":\"25\",\"method\":\"animate\"},{\"args\":[[\"26\"],{\"frame\":{\"duration\":0,\"redraw\":true},\"mode\":\"immediate\",\"fromcurrent\":true,\"transition\":{\"duration\":0,\"easing\":\"linear\"}}],\"label\":\"26\",\"method\":\"animate\"},{\"args\":[[\"27\"],{\"frame\":{\"duration\":0,\"redraw\":true},\"mode\":\"immediate\",\"fromcurrent\":true,\"transition\":{\"duration\":0,\"easing\":\"linear\"}}],\"label\":\"27\",\"method\":\"animate\"},{\"args\":[[\"28\"],{\"frame\":{\"duration\":0,\"redraw\":true},\"mode\":\"immediate\",\"fromcurrent\":true,\"transition\":{\"duration\":0,\"easing\":\"linear\"}}],\"label\":\"28\",\"method\":\"animate\"},{\"args\":[[\"29\"],{\"frame\":{\"duration\":0,\"redraw\":true},\"mode\":\"immediate\",\"fromcurrent\":true,\"transition\":{\"duration\":0,\"easing\":\"linear\"}}],\"label\":\"29\",\"method\":\"animate\"},{\"args\":[[\"30\"],{\"frame\":{\"duration\":0,\"redraw\":true},\"mode\":\"immediate\",\"fromcurrent\":true,\"transition\":{\"duration\":0,\"easing\":\"linear\"}}],\"label\":\"30\",\"method\":\"animate\"},{\"args\":[[\"31\"],{\"frame\":{\"duration\":0,\"redraw\":true},\"mode\":\"immediate\",\"fromcurrent\":true,\"transition\":{\"duration\":0,\"easing\":\"linear\"}}],\"label\":\"31\",\"method\":\"animate\"},{\"args\":[[\"32\"],{\"frame\":{\"duration\":0,\"redraw\":true},\"mode\":\"immediate\",\"fromcurrent\":true,\"transition\":{\"duration\":0,\"easing\":\"linear\"}}],\"label\":\"32\",\"method\":\"animate\"},{\"args\":[[\"33\"],{\"frame\":{\"duration\":0,\"redraw\":true},\"mode\":\"immediate\",\"fromcurrent\":true,\"transition\":{\"duration\":0,\"easing\":\"linear\"}}],\"label\":\"33\",\"method\":\"animate\"},{\"args\":[[\"34\"],{\"frame\":{\"duration\":0,\"redraw\":true},\"mode\":\"immediate\",\"fromcurrent\":true,\"transition\":{\"duration\":0,\"easing\":\"linear\"}}],\"label\":\"34\",\"method\":\"animate\"},{\"args\":[[\"35\"],{\"frame\":{\"duration\":0,\"redraw\":true},\"mode\":\"immediate\",\"fromcurrent\":true,\"transition\":{\"duration\":0,\"easing\":\"linear\"}}],\"label\":\"35\",\"method\":\"animate\"},{\"args\":[[\"36\"],{\"frame\":{\"duration\":0,\"redraw\":true},\"mode\":\"immediate\",\"fromcurrent\":true,\"transition\":{\"duration\":0,\"easing\":\"linear\"}}],\"label\":\"36\",\"method\":\"animate\"},{\"args\":[[\"37\"],{\"frame\":{\"duration\":0,\"redraw\":true},\"mode\":\"immediate\",\"fromcurrent\":true,\"transition\":{\"duration\":0,\"easing\":\"linear\"}}],\"label\":\"37\",\"method\":\"animate\"},{\"args\":[[\"38\"],{\"frame\":{\"duration\":0,\"redraw\":true},\"mode\":\"immediate\",\"fromcurrent\":true,\"transition\":{\"duration\":0,\"easing\":\"linear\"}}],\"label\":\"38\",\"method\":\"animate\"},{\"args\":[[\"39\"],{\"frame\":{\"duration\":0,\"redraw\":true},\"mode\":\"immediate\",\"fromcurrent\":true,\"transition\":{\"duration\":0,\"easing\":\"linear\"}}],\"label\":\"39\",\"method\":\"animate\"},{\"args\":[[\"40\"],{\"frame\":{\"duration\":0,\"redraw\":true},\"mode\":\"immediate\",\"fromcurrent\":true,\"transition\":{\"duration\":0,\"easing\":\"linear\"}}],\"label\":\"40\",\"method\":\"animate\"},{\"args\":[[\"41\"],{\"frame\":{\"duration\":0,\"redraw\":true},\"mode\":\"immediate\",\"fromcurrent\":true,\"transition\":{\"duration\":0,\"easing\":\"linear\"}}],\"label\":\"41\",\"method\":\"animate\"},{\"args\":[[\"42\"],{\"frame\":{\"duration\":0,\"redraw\":true},\"mode\":\"immediate\",\"fromcurrent\":true,\"transition\":{\"duration\":0,\"easing\":\"linear\"}}],\"label\":\"42\",\"method\":\"animate\"},{\"args\":[[\"43\"],{\"frame\":{\"duration\":0,\"redraw\":true},\"mode\":\"immediate\",\"fromcurrent\":true,\"transition\":{\"duration\":0,\"easing\":\"linear\"}}],\"label\":\"43\",\"method\":\"animate\"},{\"args\":[[\"44\"],{\"frame\":{\"duration\":0,\"redraw\":true},\"mode\":\"immediate\",\"fromcurrent\":true,\"transition\":{\"duration\":0,\"easing\":\"linear\"}}],\"label\":\"44\",\"method\":\"animate\"},{\"args\":[[\"45\"],{\"frame\":{\"duration\":0,\"redraw\":true},\"mode\":\"immediate\",\"fromcurrent\":true,\"transition\":{\"duration\":0,\"easing\":\"linear\"}}],\"label\":\"45\",\"method\":\"animate\"},{\"args\":[[\"46\"],{\"frame\":{\"duration\":0,\"redraw\":true},\"mode\":\"immediate\",\"fromcurrent\":true,\"transition\":{\"duration\":0,\"easing\":\"linear\"}}],\"label\":\"46\",\"method\":\"animate\"},{\"args\":[[\"47\"],{\"frame\":{\"duration\":0,\"redraw\":true},\"mode\":\"immediate\",\"fromcurrent\":true,\"transition\":{\"duration\":0,\"easing\":\"linear\"}}],\"label\":\"47\",\"method\":\"animate\"},{\"args\":[[\"48\"],{\"frame\":{\"duration\":0,\"redraw\":true},\"mode\":\"immediate\",\"fromcurrent\":true,\"transition\":{\"duration\":0,\"easing\":\"linear\"}}],\"label\":\"48\",\"method\":\"animate\"},{\"args\":[[\"49\"],{\"frame\":{\"duration\":0,\"redraw\":true},\"mode\":\"immediate\",\"fromcurrent\":true,\"transition\":{\"duration\":0,\"easing\":\"linear\"}}],\"label\":\"49\",\"method\":\"animate\"},{\"args\":[[\"50\"],{\"frame\":{\"duration\":0,\"redraw\":true},\"mode\":\"immediate\",\"fromcurrent\":true,\"transition\":{\"duration\":0,\"easing\":\"linear\"}}],\"label\":\"50\",\"method\":\"animate\"},{\"args\":[[\"51\"],{\"frame\":{\"duration\":0,\"redraw\":true},\"mode\":\"immediate\",\"fromcurrent\":true,\"transition\":{\"duration\":0,\"easing\":\"linear\"}}],\"label\":\"51\",\"method\":\"animate\"},{\"args\":[[\"52\"],{\"frame\":{\"duration\":0,\"redraw\":true},\"mode\":\"immediate\",\"fromcurrent\":true,\"transition\":{\"duration\":0,\"easing\":\"linear\"}}],\"label\":\"52\",\"method\":\"animate\"},{\"args\":[[\"53\"],{\"frame\":{\"duration\":0,\"redraw\":true},\"mode\":\"immediate\",\"fromcurrent\":true,\"transition\":{\"duration\":0,\"easing\":\"linear\"}}],\"label\":\"53\",\"method\":\"animate\"}],\"x\":0.1,\"xanchor\":\"left\",\"y\":0,\"yanchor\":\"top\"}]},                        {\"responsive\": true}                    ).then(function(){\n",
       "                            Plotly.addFrames('1a412610-37b0-4acc-9a80-34ef2fe2afa0', [{\"data\":[{\"coloraxis\":\"coloraxis\",\"geo\":\"geo\",\"hovertemplate\":\"week=1<br>Country=%{location}<br>USD=%{z}<extra></extra>\",\"locationmode\":\"country names\",\"locations\":[\"Argentina\",\"Australia\",\"Brazil\",\"Canada\",\"China\",\"European Union\",\"France\",\"Germany\",\"India\",\"Indonesia\",\"Italy\",\"Japan\",\"Mexico\",\"Russia\",\"Saudi Arabia\",\"South Africa\",\"South Korea\",\"Turkey\",\"United Kingdom\",\"United States\"],\"name\":\"\",\"z\":[683.10756156,4693.43996,29202.939983333334,13130.196109999999,250.58651623333333,4199.079683,6742.791019333334,14867.718646666666,171.6877072666667,0.45530867999999997,2603.556013,216.187811,2340.9217673333333,49.34526944666667,2237.6909456666667,721.0852318999999,1.8863324380000002,19274.947973333332,9996.789117,3246.5],\"type\":\"choropleth\"}],\"name\":\"1\"},{\"data\":[{\"coloraxis\":\"coloraxis\",\"geo\":\"geo\",\"hovertemplate\":\"week=2<br>Country=%{location}<br>USD=%{z}<extra></extra>\",\"locationmode\":\"country names\",\"locations\":[\"Argentina\",\"Australia\",\"Brazil\",\"Canada\",\"China\",\"European Union\",\"France\",\"Germany\",\"India\",\"Indonesia\",\"Italy\",\"Japan\",\"Mexico\",\"Russia\",\"Saudi Arabia\",\"South Africa\",\"South Korea\",\"Turkey\",\"United Kingdom\",\"United States\"],\"name\":\"\",\"z\":[702.7549311428572,4712.8176154,28578.755014000002,13206.714240000001,256.75552215999994,4207.3557088,6719.190196799999,14860.078634,168.99274204,0.4508939088,2585.6812032000003,216.55609067999998,2355.5120716,50.275742544,2199.8308976,738.96242538,1.8688352406,19316.920736,9938.3468598,3255.2],\"type\":\"choropleth\"}],\"name\":\"2\"},{\"data\":[{\"coloraxis\":\"coloraxis\",\"geo\":\"geo\",\"hovertemplate\":\"week=3<br>Country=%{location}<br>USD=%{z}<extra></extra>\",\"locationmode\":\"country names\",\"locations\":[\"Argentina\",\"Australia\",\"Brazil\",\"Canada\",\"China\",\"European Union\",\"France\",\"Germany\",\"India\",\"Indonesia\",\"Italy\",\"Japan\",\"Mexico\",\"Russia\",\"Saudi Arabia\",\"South Africa\",\"South Korea\",\"Turkey\",\"United Kingdom\",\"United States\"],\"name\":\"\",\"z\":[702.3616163428571,4826.1331242,28330.719183999998,13346.731016,263.18339248,4210.509867999999,6736.9100486,14987.10355,174.32685587999998,0.4620154252,2623.3123026000003,217.99128586,2397.5532838,51.445494438000004,2255.5365819999997,761.13232756,1.9362082614000002,20610.51885,9950.6346332,3301.4],\"type\":\"choropleth\"}],\"name\":\"3\"},{\"data\":[{\"coloraxis\":\"coloraxis\",\"geo\":\"geo\",\"hovertemplate\":\"week=4<br>Country=%{location}<br>USD=%{z}<extra></extra>\",\"locationmode\":\"country names\",\"locations\":[\"Argentina\",\"Australia\",\"Brazil\",\"Canada\",\"China\",\"European Union\",\"France\",\"Germany\",\"India\",\"Indonesia\",\"Italy\",\"Japan\",\"Mexico\",\"Russia\",\"Saudi Arabia\",\"South Africa\",\"South Korea\",\"Turkey\",\"United Kingdom\",\"United States\"],\"name\":\"\",\"z\":[684.3307651000001,4863.095866,28319.359274,13439.056116000002,260.48854502,4184.649385,6680.7257733999995,14984.793238000002,171.32757612,0.45924841240000003,2684.518386,217.63948928,2435.4966678,51.467590222,2247.3869428,736.61214038,1.9370085608,20741.644214,9910.4468532,3316.0],\"type\":\"choropleth\"}],\"name\":\"4\"},{\"data\":[{\"coloraxis\":\"coloraxis\",\"geo\":\"geo\",\"hovertemplate\":\"week=5<br>Country=%{location}<br>USD=%{z}<extra></extra>\",\"locationmode\":\"country names\",\"locations\":[\"Argentina\",\"Australia\",\"Brazil\",\"Canada\",\"China\",\"European Union\",\"France\",\"Germany\",\"India\",\"Indonesia\",\"Italy\",\"Japan\",\"Mexico\",\"Russia\",\"Saudi Arabia\",\"South Africa\",\"South Korea\",\"Turkey\",\"United Kingdom\",\"United States\"],\"name\":\"\",\"z\":[668.8699902,4755.1254704,27373.390168,13238.443044,254.4275019,4070.6871228000005,6486.2057486,14552.845621999999,168.94868814,0.4476986646,2709.1630818000003,213.17836870000002,2373.4443476,49.572901087999995,2188.8998304,700.9457950799999,1.8498111447999999,20115.910944,9669.756646400001,3260.6],\"type\":\"choropleth\"}],\"name\":\"5\"},{\"data\":[{\"coloraxis\":\"coloraxis\",\"geo\":\"geo\",\"hovertemplate\":\"week=6<br>Country=%{location}<br>USD=%{z}<extra></extra>\",\"locationmode\":\"country names\",\"locations\":[\"Argentina\",\"Australia\",\"Brazil\",\"Canada\",\"China\",\"European Union\",\"France\",\"Germany\",\"India\",\"Indonesia\",\"Italy\",\"Japan\",\"Mexico\",\"Russia\",\"Saudi Arabia\",\"South Africa\",\"South Korea\",\"Turkey\",\"United Kingdom\",\"United States\"],\"name\":\"\",\"z\":[679.8220717285715,4693.5884982,27007.775237999995,13249.74153,240.39912272,4144.2269284,6582.4503484,14765.594501999998,168.31457374000001,0.435026009,2476.6704778,214.33509859999998,2383.3997176,48.862980188,2158.5190338,693.4698894,1.8340087382,20297.563076,9697.4911078,3311.2],\"type\":\"choropleth\"}],\"name\":\"6\"},{\"data\":[{\"coloraxis\":\"coloraxis\",\"geo\":\"geo\",\"hovertemplate\":\"week=7<br>Country=%{location}<br>USD=%{z}<extra></extra>\",\"locationmode\":\"country names\",\"locations\":[\"Argentina\",\"Australia\",\"Brazil\",\"Canada\",\"China\",\"European Union\",\"France\",\"Germany\",\"India\",\"Indonesia\",\"Italy\",\"Japan\",\"Mexico\",\"Russia\",\"Saudi Arabia\",\"South Africa\",\"South Korea\",\"Turkey\",\"United Kingdom\",\"United States\"],\"name\":\"\",\"z\":[644.0854494142858,4744.8347542,26518.415908000003,13399.245923999999,253.63966888,4177.3646486,6614.1294744,14903.552314,170.00384512,0.4332727144,2297.129005,216.40384846,2405.958696,48.655027738,2110.00554,670.0858163,1.882012551,19901.163618,9674.3158014,3368.6],\"type\":\"choropleth\"}],\"name\":\"7\"},{\"data\":[{\"coloraxis\":\"coloraxis\",\"geo\":\"geo\",\"hovertemplate\":\"week=8<br>Country=%{location}<br>USD=%{z}<extra></extra>\",\"locationmode\":\"country names\",\"locations\":[\"Argentina\",\"Australia\",\"Brazil\",\"Canada\",\"China\",\"European Union\",\"France\",\"Germany\",\"India\",\"Indonesia\",\"Italy\",\"Japan\",\"Mexico\",\"Russia\",\"Saudi Arabia\",\"South Africa\",\"South Korea\",\"Turkey\",\"United Kingdom\",\"United States\"],\"name\":\"\",\"z\":[627.1586844714285,4772.1635226,26461.007982,13500.757647999999,266.76671866,4148.248285600001,6563.892357,14816.070272,168.46708338,0.4303703606,1802.386218,211.66959498,2411.7165508000003,48.759863761999995,2119.7501664,661.24640968,1.8517856168000002,19507.726728,9630.9506896,3366.75],\"type\":\"choropleth\"}],\"name\":\"8\"},{\"data\":[{\"coloraxis\":\"coloraxis\",\"geo\":\"geo\",\"hovertemplate\":\"week=9<br>Country=%{location}<br>USD=%{z}<extra></extra>\",\"locationmode\":\"country names\",\"locations\":[\"Argentina\",\"Australia\",\"Brazil\",\"Canada\",\"China\",\"European Union\",\"France\",\"Germany\",\"India\",\"Indonesia\",\"Italy\",\"Japan\",\"Mexico\",\"Russia\",\"Saudi Arabia\",\"South Africa\",\"South Korea\",\"Turkey\",\"United Kingdom\",\"United States\"],\"name\":\"\",\"z\":[585.8351892285715,4435.7014384,24447.565792,12737.713832,269.35841326,3829.4451132000004,6089.8308994,13688.97396,161.77401474,0.40432294120000006,1604.1016862000001,201.56593791999998,2217.9360242000002,45.440414062,2052.794566,626.32867748,1.6998078686,18245.68125,8950.7099894,3080.6],\"type\":\"choropleth\"}],\"name\":\"9\"},{\"data\":[{\"coloraxis\":\"coloraxis\",\"geo\":\"geo\",\"hovertemplate\":\"week=10<br>Country=%{location}<br>USD=%{z}<extra></extra>\",\"locationmode\":\"country names\",\"locations\":[\"Argentina\",\"Australia\",\"Brazil\",\"Canada\",\"China\",\"European Union\",\"France\",\"Germany\",\"India\",\"Indonesia\",\"Italy\",\"Japan\",\"Mexico\",\"Russia\",\"Saudi Arabia\",\"South Africa\",\"South Korea\",\"Turkey\",\"United Kingdom\",\"United States\"],\"name\":\"\",\"z\":[578.1991342428571,4178.6400942,22988.590313999997,12331.967764,272.55322886,3729.4903092,5950.9187736,13256.18296,152.7807057,0.3898967522,1799.7339221999998,196.60626714,2161.6120122,41.86869873,1993.7433722,610.00705876,1.7157796764,17933.603374000002,8568.290705000001,3043.8],\"type\":\"choropleth\"}],\"name\":\"10\"},{\"data\":[{\"coloraxis\":\"coloraxis\",\"geo\":\"geo\",\"hovertemplate\":\"week=11<br>Country=%{location}<br>USD=%{z}<extra></extra>\",\"locationmode\":\"country names\",\"locations\":[\"Argentina\",\"Australia\",\"Brazil\",\"Canada\",\"China\",\"European Union\",\"France\",\"Germany\",\"India\",\"Indonesia\",\"Italy\",\"Japan\",\"Mexico\",\"Russia\",\"Saudi Arabia\",\"South Africa\",\"South Korea\",\"Turkey\",\"United Kingdom\",\"United States\"],\"name\":\"\",\"z\":[476.2103279,3672.6467285999997,17792.42234,10183.6049032,264.43445074,3146.5970208,5004.558576,11298.582472,136.77859124000003,0.3519063736,1838.5913851999999,182.24401458,1809.0524032,34.205748643999996,1725.1135657999998,588.9557718799999,1.5796200968,15980.208943999998,7330.6110493999995,2712.4],\"type\":\"choropleth\"}],\"name\":\"11\"},{\"data\":[{\"coloraxis\":\"coloraxis\",\"geo\":\"geo\",\"hovertemplate\":\"week=12<br>Country=%{location}<br>USD=%{z}<extra></extra>\",\"locationmode\":\"country names\",\"locations\":[\"Argentina\",\"Australia\",\"Brazil\",\"Canada\",\"China\",\"European Union\",\"France\",\"Germany\",\"India\",\"Indonesia\",\"Italy\",\"Japan\",\"Mexico\",\"Russia\",\"Saudi Arabia\",\"South Africa\",\"South Korea\",\"Turkey\",\"United Kingdom\",\"United States\"],\"name\":\"\",\"z\":[379.7005559857143,2966.323915,13899.84408,8568.774314400001,241.24667101999998,2718.6589938,4292.8013862,9596.788844,116.94749038,0.28649527539999997,1861.7801232000002,156.1769577,1564.7081236,29.319555939999997,1640.3218578,536.2566853000001,1.293207347,13427.530697999999,6199.494864400001,2405.4],\"type\":\"choropleth\"}],\"name\":\"12\"},{\"data\":[{\"coloraxis\":\"coloraxis\",\"geo\":\"geo\",\"hovertemplate\":\"week=13<br>Country=%{location}<br>USD=%{z}<extra></extra>\",\"locationmode\":\"country names\",\"locations\":[\"Argentina\",\"Australia\",\"Brazil\",\"Canada\",\"China\",\"European Union\",\"France\",\"Germany\",\"India\",\"Indonesia\",\"Italy\",\"Japan\",\"Mexico\",\"Russia\",\"Saudi Arabia\",\"South Africa\",\"South Korea\",\"Turkey\",\"United Kingdom\",\"United States\"],\"name\":\"\",\"z\":[384.3219558857143,2869.895863,14184.242688000002,8798.5228762,237.25856086,2944.474651,4659.2505452,10398.1359688,108.01598088,0.2548734286,1773.7364077999998,167.61674704,1413.0580128,30.553579158,1655.1964164,554.0718895,1.3262471921999999,13670.70829,6488.3932012,2466.2],\"type\":\"choropleth\"}],\"name\":\"13\"},{\"data\":[{\"coloraxis\":\"coloraxis\",\"geo\":\"geo\",\"hovertemplate\":\"week=14<br>Country=%{location}<br>USD=%{z}<extra></extra>\",\"locationmode\":\"country names\",\"locations\":[\"Argentina\",\"Australia\",\"Brazil\",\"Canada\",\"China\",\"European Union\",\"France\",\"Germany\",\"India\",\"Indonesia\",\"Italy\",\"Japan\",\"Mexico\",\"Russia\",\"Saudi Arabia\",\"South Africa\",\"South Korea\",\"Turkey\",\"United Kingdom\",\"United States\"],\"name\":\"\",\"z\":[398.06341000000003,3154.7897652,13864.31264,9255.4250866,236.10766068000004,2988.6757984,4699.259016,10647.16072,109.54365846,0.27703587059999996,1832.8620012,170.38909602,1413.9655778000001,31.946521150000002,1757.920795,539.6610749399999,1.4080985726,13521.166706,6842.725214,2539.8],\"type\":\"choropleth\"}],\"name\":\"14\"},{\"data\":[{\"coloraxis\":\"coloraxis\",\"geo\":\"geo\",\"hovertemplate\":\"week=15<br>Country=%{location}<br>USD=%{z}<extra></extra>\",\"locationmode\":\"country names\",\"locations\":[\"Argentina\",\"Australia\",\"Brazil\",\"Canada\",\"China\",\"European Union\",\"France\",\"Germany\",\"India\",\"Indonesia\",\"Italy\",\"Japan\",\"Mexico\",\"Russia\",\"Saudi Arabia\",\"South Africa\",\"South Korea\",\"Turkey\",\"United Kingdom\",\"United States\"],\"name\":\"\",\"z\":[425.9434560285714,3260.7465484,14735.540576,9870.9595546,244.86290442,3100.2543518,4824.929518800001,11258.075096,114.91607119999999,0.28913911059999997,1841.5947566,175.98415522,1406.6852589999999,35.225038072000004,1858.4510366000002,585.33434718,1.4956580966000002,13937.691931999998,7058.3519906,2715.75],\"type\":\"choropleth\"}],\"name\":\"15\"},{\"data\":[{\"coloraxis\":\"coloraxis\",\"geo\":\"geo\",\"hovertemplate\":\"week=16<br>Country=%{location}<br>USD=%{z}<extra></extra>\",\"locationmode\":\"country names\",\"locations\":[\"Argentina\",\"Australia\",\"Brazil\",\"Canada\",\"China\",\"European Union\",\"France\",\"Germany\",\"India\",\"Indonesia\",\"Italy\",\"Japan\",\"Mexico\",\"Russia\",\"Saudi Arabia\",\"South Africa\",\"South Korea\",\"Turkey\",\"United Kingdom\",\"United States\"],\"name\":\"\",\"z\":[462.42220064285715,3459.2039316,15208.97014,10096.627025400001,246.0835771,3123.4649474,4849.9595512,11445.48208,117.92896413999999,0.293629761,1840.191213,180.8750227,1450.7317534,34.690965704,1801.4440374,567.32137998,1.5294972768000001,14220.512166,7167.1207312,2813.2],\"type\":\"choropleth\"}],\"name\":\"16\"},{\"data\":[{\"coloraxis\":\"coloraxis\",\"geo\":\"geo\",\"hovertemplate\":\"week=17<br>Country=%{location}<br>USD=%{z}<extra></extra>\",\"locationmode\":\"country names\",\"locations\":[\"Argentina\",\"Australia\",\"Brazil\",\"Canada\",\"China\",\"European Union\",\"France\",\"Germany\",\"India\",\"Indonesia\",\"Italy\",\"Japan\",\"Mexico\",\"Russia\",\"Saudi Arabia\",\"South Africa\",\"South Korea\",\"Turkey\",\"United Kingdom\",\"United States\"],\"name\":\"\",\"z\":[453.0200963142857,3324.5267314,14716.08776,10095.5340328,248.6442469,3076.5297256,4797.9930132,11309.88703,119.66954777999999,0.29427061219999995,1808.1776116,179.70629622,1409.2418354,33.795271152,1753.2732584,537.81179572,1.5465312276,14148.811272,7132.3274898,2798.8],\"type\":\"choropleth\"}],\"name\":\"17\"},{\"data\":[{\"coloraxis\":\"coloraxis\",\"geo\":\"geo\",\"hovertemplate\":\"week=18<br>Country=%{location}<br>USD=%{z}<extra></extra>\",\"locationmode\":\"country names\",\"locations\":[\"Argentina\",\"Australia\",\"Brazil\",\"Canada\",\"China\",\"European Union\",\"France\",\"Germany\",\"India\",\"Indonesia\",\"Italy\",\"Japan\",\"Mexico\",\"Russia\",\"Saudi Arabia\",\"South Africa\",\"South Korea\",\"Turkey\",\"United Kingdom\",\"United States\"],\"name\":\"\",\"z\":[487.42919782857143,3472.9344384000005,14747.086468,10588.64679,246.58869536000003,3181.9181526,4966.1906395999995,11778.314744,126.35847848,0.30124536879999997,1840.2903892000002,184.98009454,1487.5501698,35.604772305999994,1859.8670604,562.0303501999999,1.5873520972,14517.491769999999,7369.5855088,2884.8],\"type\":\"choropleth\"}],\"name\":\"18\"},{\"data\":[{\"coloraxis\":\"coloraxis\",\"geo\":\"geo\",\"hovertemplate\":\"week=19<br>Country=%{location}<br>USD=%{z}<extra></extra>\",\"locationmode\":\"country names\",\"locations\":[\"Argentina\",\"Australia\",\"Brazil\",\"Canada\",\"China\",\"European Union\",\"France\",\"Germany\",\"India\",\"Indonesia\",\"Italy\",\"Japan\",\"Mexico\",\"Russia\",\"Saudi Arabia\",\"South Africa\",\"South Korea\",\"Turkey\",\"United Kingdom\",\"United States\"],\"name\":\"\",\"z\":[521.5780312428572,3453.3570344,14071.522203999999,10539.66202,251.78167502000002,3113.462006,4856.5205942,11620.213838,121.6858461,0.30493098939999996,1929.1148271999998,184.72177572,1519.926995,35.432081216,1770.6785124000003,525.01278668,1.5687070664,13898.723366,7272.6694836,2874.0],\"type\":\"choropleth\"}],\"name\":\"19\"},{\"data\":[{\"coloraxis\":\"coloraxis\",\"geo\":\"geo\",\"hovertemplate\":\"week=20<br>Country=%{location}<br>USD=%{z}<extra></extra>\",\"locationmode\":\"country names\",\"locations\":[\"Argentina\",\"Australia\",\"Brazil\",\"Canada\",\"China\",\"European Union\",\"France\",\"Germany\",\"India\",\"Indonesia\",\"Italy\",\"Japan\",\"Mexico\",\"Russia\",\"Saudi Arabia\",\"South Africa\",\"South Korea\",\"Turkey\",\"United Kingdom\",\"United States\"],\"name\":\"\",\"z\":[577.9391115142856,3502.2360864,13562.239806000001,10498.544054,255.48027254,3054.9066582,4732.621475800001,11472.654556,121.82188432000001,0.3072630342,2089.0202873999997,188.4159615,1528.3335590000002,35.469615716,1782.1963682,573.11728808,1.576964256,14170.200916000002,7225.988666,2867.4],\"type\":\"choropleth\"}],\"name\":\"20\"},{\"data\":[{\"coloraxis\":\"coloraxis\",\"geo\":\"geo\",\"hovertemplate\":\"week=21<br>Country=%{location}<br>USD=%{z}<extra></extra>\",\"locationmode\":\"country names\",\"locations\":[\"Argentina\",\"Australia\",\"Brazil\",\"Canada\",\"China\",\"European Union\",\"France\",\"Germany\",\"India\",\"Indonesia\",\"Italy\",\"Japan\",\"Mexico\",\"Russia\",\"Saudi Arabia\",\"South Africa\",\"South Korea\",\"Turkey\",\"United Kingdom\",\"United States\"],\"name\":\"\",\"z\":[596.9310452428572,3610.184175,14300.970618000001,10654.04906,252.62865229999997,3186.3102329999997,4879.623213000001,12120.830298,118.56097648,0.3068341326,2074.0013102000003,189.9126818,1536.3748122000002,37.70533272,1871.055674,595.01272978,1.6083800780000002,15000.715192,7350.9664158,2950.6],\"type\":\"choropleth\"}],\"name\":\"21\"},{\"data\":[{\"coloraxis\":\"coloraxis\",\"geo\":\"geo\",\"hovertemplate\":\"week=22<br>Country=%{location}<br>USD=%{z}<extra></extra>\",\"locationmode\":\"country names\",\"locations\":[\"Argentina\",\"Australia\",\"Brazil\",\"Canada\",\"China\",\"European Union\",\"France\",\"Germany\",\"India\",\"Indonesia\",\"Italy\",\"Japan\",\"Mexico\",\"Russia\",\"Saudi Arabia\",\"South Africa\",\"South Korea\",\"Turkey\",\"United Kingdom\",\"United States\"],\"name\":\"\",\"z\":[576.7545247571428,3798.2112906,16063.594082,10965.592298,248.42816272,3329.7594018000004,5116.2392354,12717.56791,122.3571744,0.3154644556,2054.522091,199.1738878,1622.2744992,38.731607202,1878.333736,632.38035444,1.6349764816,15398.775612000001,7484.6404012,3025.5],\"type\":\"choropleth\"}],\"name\":\"22\"},{\"data\":[{\"coloraxis\":\"coloraxis\",\"geo\":\"geo\",\"hovertemplate\":\"week=23<br>Country=%{location}<br>USD=%{z}<extra></extra>\",\"locationmode\":\"country names\",\"locations\":[\"Argentina\",\"Australia\",\"Brazil\",\"Canada\",\"China\",\"European Union\",\"France\",\"Germany\",\"India\",\"Indonesia\",\"Italy\",\"Japan\",\"Mexico\",\"Russia\",\"Saudi Arabia\",\"South Africa\",\"South Korea\",\"Turkey\",\"United Kingdom\",\"United States\"],\"name\":\"\",\"z\":[634.2481539428571,4051.7016514,17699.206336,11434.045354,259.84506586,3610.9324806000004,5569.2139598,13743.683484,132.6077473,0.3394139046,2125.9881326,207.58999664000004,1730.2190514000001,40.352569918,1931.1134195999998,680.50499266,1.7420542424,16107.484400000001,7911.9642368,3113.2],\"type\":\"choropleth\"}],\"name\":\"23\"},{\"data\":[{\"coloraxis\":\"coloraxis\",\"geo\":\"geo\",\"hovertemplate\":\"week=24<br>Country=%{location}<br>USD=%{z}<extra></extra>\",\"locationmode\":\"country names\",\"locations\":[\"Argentina\",\"Australia\",\"Brazil\",\"Canada\",\"China\",\"European Union\",\"France\",\"Germany\",\"India\",\"Indonesia\",\"Italy\",\"Japan\",\"Mexico\",\"Russia\",\"Saudi Arabia\",\"South Africa\",\"South Korea\",\"Turkey\",\"United Kingdom\",\"United States\"],\"name\":\"\",\"z\":[651.1886636857143,4179.3712864,19413.207916000003,11573.250810000001,264.11799006,3686.450651,5656.247531,14013.763414000001,132.5021596,0.35282108980000004,2127.6761441999997,211.56856382,1751.6093538,40.583464138,1951.513769,718.24188398,1.8165168563999998,16140.881608000002,7950.7987706,3134.4],\"type\":\"choropleth\"}],\"name\":\"24\"},{\"data\":[{\"coloraxis\":\"coloraxis\",\"geo\":\"geo\",\"hovertemplate\":\"week=25<br>Country=%{location}<br>USD=%{z}<extra></extra>\",\"locationmode\":\"country names\",\"locations\":[\"Argentina\",\"Australia\",\"Brazil\",\"Canada\",\"China\",\"European Union\",\"France\",\"Germany\",\"India\",\"Indonesia\",\"Italy\",\"Japan\",\"Mexico\",\"Russia\",\"Saudi Arabia\",\"South Africa\",\"South Korea\",\"Turkey\",\"United Kingdom\",\"United States\"],\"name\":\"\",\"z\":[590.3472281857142,4065.4962998,18203.680984,11383.096162,268.28713926,3640.9568449999997,5563.8149963999995,13789.568340000002,130.9021715,0.3498546894,2184.5437374000003,207.80988616,1690.8043764,39.303529798,1952.6021906,657.0716067999999,1.7503958118,16325.297117999999,7795.759692,3103.6],\"type\":\"choropleth\"}],\"name\":\"25\"},{\"data\":[{\"coloraxis\":\"coloraxis\",\"geo\":\"geo\",\"hovertemplate\":\"week=26<br>Country=%{location}<br>USD=%{z}<extra></extra>\",\"locationmode\":\"country names\",\"locations\":[\"Argentina\",\"Australia\",\"Brazil\",\"Canada\",\"China\",\"European Union\",\"France\",\"Germany\",\"India\",\"Indonesia\",\"Italy\",\"Japan\",\"Mexico\",\"Russia\",\"Saudi Arabia\",\"South Africa\",\"South Korea\",\"Turkey\",\"United Kingdom\",\"United States\"],\"name\":\"\",\"z\":[582.0276431285714,4075.9886112,18002.11883,11335.520037999999,275.49628906,3635.5134096,5549.3012914,13756.509558,136.51242938000001,0.3462354606,2180.0003853999997,210.14298897999998,1677.8831944,40.043737199999995,1931.7983012,668.9538282999999,1.7679381444,16759.223294000003,7713.1415882,3078.4],\"type\":\"choropleth\"}],\"name\":\"26\"},{\"data\":[{\"coloraxis\":\"coloraxis\",\"geo\":\"geo\",\"hovertemplate\":\"week=27<br>Country=%{location}<br>USD=%{z}<extra></extra>\",\"locationmode\":\"country names\",\"locations\":[\"Argentina\",\"Australia\",\"Brazil\",\"Canada\",\"China\",\"European Union\",\"France\",\"Germany\",\"India\",\"Indonesia\",\"Italy\",\"Japan\",\"Mexico\",\"Russia\",\"Saudi Arabia\",\"South Africa\",\"South Korea\",\"Turkey\",\"United Kingdom\",\"United States\"],\"name\":\"\",\"z\":[563.0218992285714,4100.2616004,17767.26958,11392.274846,281.81607332,3665.9431906,5589.2751932,13923.765516,138.38917328,0.3456038678,2254.0065243999998,206.1847362,1653.2373899999998,39.431173622,1942.0712879999999,670.0379319199999,1.766325264,16948.674518,7672.5529226,3099.75],\"type\":\"choropleth\"}],\"name\":\"27\"},{\"data\":[{\"coloraxis\":\"coloraxis\",\"geo\":\"geo\",\"hovertemplate\":\"week=28<br>Country=%{location}<br>USD=%{z}<extra></extra>\",\"locationmode\":\"country names\",\"locations\":[\"Argentina\",\"Australia\",\"Brazil\",\"Canada\",\"China\",\"European Union\",\"France\",\"Germany\",\"India\",\"Indonesia\",\"Italy\",\"Japan\",\"Mexico\",\"Russia\",\"Saudi Arabia\",\"South Africa\",\"South Korea\",\"Turkey\",\"United Kingdom\",\"United States\"],\"name\":\"\",\"z\":[604.3004648857143,4153.258434400001,18547.690798000003,11532.524548,313.14529666,3729.8384536,5645.6672516,14221.113008,143.72344442,0.3487026712,2214.636173,209.64687972000002,1653.8281414,39.438897612,1975.8982612,667.5919796999999,1.8130171094,17125.958188,7722.428230400001,3166.4],\"type\":\"choropleth\"}],\"name\":\"28\"},{\"data\":[{\"coloraxis\":\"coloraxis\",\"geo\":\"geo\",\"hovertemplate\":\"week=29<br>Country=%{location}<br>USD=%{z}<extra></extra>\",\"locationmode\":\"country names\",\"locations\":[\"Argentina\",\"Australia\",\"Brazil\",\"Canada\",\"China\",\"European Union\",\"France\",\"Germany\",\"India\",\"Indonesia\",\"Italy\",\"Japan\",\"Mexico\",\"Russia\",\"Saudi Arabia\",\"South Africa\",\"South Korea\",\"Turkey\",\"United Kingdom\",\"United States\"],\"name\":\"\",\"z\":[629.9754349571429,4186.4369112,18825.259828000002,11749.744922,320.47429137999995,3817.5423742,5761.8167252,14611.133074000001,142.56002196,0.348676872,2141.3401134,212.43272831999997,1620.0759666,38.861645124,1978.2024516000001,646.5319356,1.822525216,17254.722952,7847.23189,3204.2],\"type\":\"choropleth\"}],\"name\":\"29\"},{\"data\":[{\"coloraxis\":\"coloraxis\",\"geo\":\"geo\",\"hovertemplate\":\"week=30<br>Country=%{location}<br>USD=%{z}<extra></extra>\",\"locationmode\":\"country names\",\"locations\":[\"Argentina\",\"Australia\",\"Brazil\",\"Canada\",\"China\",\"European Union\",\"France\",\"Germany\",\"India\",\"Indonesia\",\"Italy\",\"Japan\",\"Mexico\",\"Russia\",\"Saudi Arabia\",\"South Africa\",\"South Korea\",\"Turkey\",\"United Kingdom\",\"United States\"],\"name\":\"\",\"z\":[668.3177556428572,4298.773481,19755.595672000003,11954.296922,317.27056583999996,3881.4227469999996,5811.36303,15036.549316,148.88710713999998,0.3471457966,2220.239722,212.90355857999998,1653.9439900000002,39.777754028,1978.9398798000002,646.75334214,1.8473821028,17353.62846,7883.1677914,3247.4],\"type\":\"choropleth\"}],\"name\":\"30\"},{\"data\":[{\"coloraxis\":\"coloraxis\",\"geo\":\"geo\",\"hovertemplate\":\"week=31<br>Country=%{location}<br>USD=%{z}<extra></extra>\",\"locationmode\":\"country names\",\"locations\":[\"Argentina\",\"Australia\",\"Brazil\",\"Canada\",\"China\",\"European Union\",\"France\",\"Germany\",\"India\",\"Indonesia\",\"Italy\",\"Japan\",\"Mexico\",\"Russia\",\"Saudi Arabia\",\"South Africa\",\"South Korea\",\"Turkey\",\"United Kingdom\",\"United States\"],\"name\":\"\",\"z\":[682.2141991142856,4302.191528,20201.876836,12116.250288,315.2526633,3830.5621614,5753.341159199999,14859.585949999999,148.95962482,0.3529178098,2310.145064,212.54503092,1701.6675764,40.091051424,1990.6664976,648.4347653799999,1.8832283618,165.90311558000002,7829.795178599999,3246.4],\"type\":\"choropleth\"}],\"name\":\"31\"},{\"data\":[{\"coloraxis\":\"coloraxis\",\"geo\":\"geo\",\"hovertemplate\":\"week=32<br>Country=%{location}<br>USD=%{z}<extra></extra>\",\"locationmode\":\"country names\",\"locations\":[\"Argentina\",\"Australia\",\"Brazil\",\"Canada\",\"China\",\"European Union\",\"France\",\"Germany\",\"India\",\"Indonesia\",\"Italy\",\"Japan\",\"Mexico\",\"Russia\",\"Saudi Arabia\",\"South Africa\",\"South Korea\",\"Turkey\",\"United Kingdom\",\"United States\"],\"name\":\"\",\"z\":[716.0709845142857,4306.3899526000005,19423.10226,12321.57876,330.70673176,3845.2359098,5786.6698926,14937.219428,147.89888738,0.3510707892,2296.3077218,211.92367731999997,1682.5102868000001,40.422722102,1996.0218504,636.66488654,1.9406690942,153.81468526,7924.802511,3326.0],\"type\":\"choropleth\"}],\"name\":\"32\"},{\"data\":[{\"coloraxis\":\"coloraxis\",\"geo\":\"geo\",\"hovertemplate\":\"week=33<br>Country=%{location}<br>USD=%{z}<extra></extra>\",\"locationmode\":\"country names\",\"locations\":[\"Argentina\",\"Australia\",\"Brazil\",\"Canada\",\"China\",\"European Union\",\"France\",\"Germany\",\"India\",\"Indonesia\",\"Italy\",\"Japan\",\"Mexico\",\"Russia\",\"Saudi Arabia\",\"South Africa\",\"South Korea\",\"Turkey\",\"United Kingdom\",\"United States\"],\"name\":\"\",\"z\":[679.9895403285715,4378.4415626,18803.32334,12437.049614,322.12776840000004,3909.4470484,5890.402569600001,15208.595945999998,150.41404378,0.353981917,2302.1563625999997,215.18501462,1728.5971432,41.318273366,2040.1441101999997,631.3327198,2.0391146644,150.24365732,8034.5914756,3364.0],\"type\":\"choropleth\"}],\"name\":\"33\"},{\"data\":[{\"coloraxis\":\"coloraxis\",\"geo\":\"geo\",\"hovertemplate\":\"week=34<br>Country=%{location}<br>USD=%{z}<extra></extra>\",\"locationmode\":\"country names\",\"locations\":[\"Argentina\",\"Australia\",\"Brazil\",\"Canada\",\"China\",\"European Union\",\"France\",\"Germany\",\"India\",\"Indonesia\",\"Italy\",\"Japan\",\"Mexico\",\"Russia\",\"Saudi Arabia\",\"South Africa\",\"South Korea\",\"Turkey\",\"United Kingdom\",\"United States\"],\"name\":\"\",\"z\":[647.7214312714286,4413.8637728,18377.869852,12571.231080000001,326.67923764,3907.6988146000003,5866.767315200001,15294.130582000002,151.39969998,0.3590018868,2277.2056646,217.29634385999998,1757.9744116000002,41.309664743999996,2089.608553,649.0266867,1.976700518,151.0814034,7983.105478,3386.0],\"type\":\"choropleth\"}],\"name\":\"34\"},{\"data\":[{\"coloraxis\":\"coloraxis\",\"geo\":\"geo\",\"hovertemplate\":\"week=35<br>Country=%{location}<br>USD=%{z}<extra></extra>\",\"locationmode\":\"country names\",\"locations\":[\"Argentina\",\"Australia\",\"Brazil\",\"Canada\",\"China\",\"European Union\",\"France\",\"Germany\",\"India\",\"Indonesia\",\"Italy\",\"Japan\",\"Mexico\",\"Russia\",\"Saudi Arabia\",\"South Africa\",\"South Korea\",\"Turkey\",\"United Kingdom\",\"United States\"],\"name\":\"\",\"z\":[624.7225624857143,4412.7634522,18193.401564,12682.151708,329.1709726,3939.1800504,5928.629064999999,15469.330488000001,155.18993102,0.3659667812,2277.5845959999997,217.92541816,1724.219525,40.250388107999996,2119.9043124,678.13292172,1.9817090866,149.90307367999998,7928.220096,3469.4],\"type\":\"choropleth\"}],\"name\":\"35\"},{\"data\":[{\"coloraxis\":\"coloraxis\",\"geo\":\"geo\",\"hovertemplate\":\"week=36<br>Country=%{location}<br>USD=%{z}<extra></extra>\",\"locationmode\":\"country names\",\"locations\":[\"Argentina\",\"Australia\",\"Brazil\",\"Canada\",\"China\",\"European Union\",\"France\",\"Germany\",\"India\",\"Indonesia\",\"Italy\",\"Japan\",\"Mexico\",\"Russia\",\"Saudi Arabia\",\"South Africa\",\"South Korea\",\"Turkey\",\"United Kingdom\",\"United States\"],\"name\":\"\",\"z\":[612.7137059857142,4423.5168936,18785.876121999998,12627.916825999999,336.59245186,3913.9478776000005,5921.0361204,15476.774006000001,156.10678458,0.36067660619999997,2294.558423,219.34933298,1693.0298006,39.634975184,2131.931595,655.69460592,1.9902003388,146.92402008,7833.948892,3498.0],\"type\":\"choropleth\"}],\"name\":\"36\"},{\"data\":[{\"coloraxis\":\"coloraxis\",\"geo\":\"geo\",\"hovertemplate\":\"week=37<br>Country=%{location}<br>USD=%{z}<extra></extra>\",\"locationmode\":\"country names\",\"locations\":[\"Argentina\",\"Australia\",\"Brazil\",\"Canada\",\"China\",\"European Union\",\"France\",\"Germany\",\"India\",\"Indonesia\",\"Italy\",\"Japan\",\"Mexico\",\"Russia\",\"Saudi Arabia\",\"South Africa\",\"South Korea\",\"Turkey\",\"United Kingdom\",\"United States\"],\"name\":\"\",\"z\":[616.0885472,4299.4472382,18804.719886,12323.561986,320.55616882,3906.0245912,5936.183212,15524.121653999999,154.60289754000001,0.3441909528,2169.7498226,218.54448078000001,1682.0235286,38.404188624,2161.056915,659.43727356,2.0146437074000003,147.27095534,7799.3014772,3352.75],\"type\":\"choropleth\"}],\"name\":\"37\"},{\"data\":[{\"coloraxis\":\"coloraxis\",\"geo\":\"geo\",\"hovertemplate\":\"week=38<br>Country=%{location}<br>USD=%{z}<extra></extra>\",\"locationmode\":\"country names\",\"locations\":[\"Argentina\",\"Australia\",\"Brazil\",\"Canada\",\"China\",\"European Union\",\"France\",\"Germany\",\"India\",\"Indonesia\",\"Italy\",\"Japan\",\"Mexico\",\"Russia\",\"Saudi Arabia\",\"South Africa\",\"South Korea\",\"Turkey\",\"United Kingdom\",\"United States\"],\"name\":\"\",\"z\":[561.9539449571429,4303.6504774,18936.277276,12375.519716,323.69052294000005,3928.863854,5971.097913,15628.98505,156.47659342,0.3419309574,2202.8048604000005,222.33328848000002,1733.514246,39.478428148,2218.2721544,677.49912898,2.0595351694,148.0524459,7805.9639124,3369.2],\"type\":\"choropleth\"}],\"name\":\"38\"},{\"data\":[{\"coloraxis\":\"coloraxis\",\"geo\":\"geo\",\"hovertemplate\":\"week=39<br>Country=%{location}<br>USD=%{z}<extra></extra>\",\"locationmode\":\"country names\",\"locations\":[\"Argentina\",\"Australia\",\"Brazil\",\"Canada\",\"China\",\"European Union\",\"France\",\"Germany\",\"India\",\"Indonesia\",\"Italy\",\"Japan\",\"Mexico\",\"Russia\",\"Saudi Arabia\",\"South Africa\",\"South Korea\",\"Turkey\",\"United Kingdom\",\"United States\"],\"name\":\"\",\"z\":[549.2004893428572,4208.5884018,17685.860348,12012.92311,320.2872662,3707.4052314,5598.0027318,14746.694466,150.4952219,0.3331900288,2226.179188,221.56917554,1657.0517724000001,37.924979187999995,2201.8430104000004,639.94882774,1.9914811956,144.92904404,7471.259122,3275.8],\"type\":\"choropleth\"}],\"name\":\"39\"},{\"data\":[{\"coloraxis\":\"coloraxis\",\"geo\":\"geo\",\"hovertemplate\":\"week=40<br>Country=%{location}<br>USD=%{z}<extra></extra>\",\"locationmode\":\"country names\",\"locations\":[\"Argentina\",\"Australia\",\"Brazil\",\"Canada\",\"China\",\"European Union\",\"France\",\"Germany\",\"India\",\"Indonesia\",\"Italy\",\"Japan\",\"Mexico\",\"Russia\",\"Saudi Arabia\",\"South Africa\",\"South Korea\",\"Turkey\",\"United Kingdom\",\"United States\"],\"name\":\"\",\"z\":[562.1304414857143,4187.6668926,16809.127584,12136.468238,314.7032841,3749.4364814,5648.3029874,14954.158272,153.23406504,0.330180848,2222.3457288,220.60308178,1668.1581536,37.037605024,2215.365858,650.49281018,1.9900674326,146.69453558,7581.6355836,3355.8],\"type\":\"choropleth\"}],\"name\":\"40\"},{\"data\":[{\"coloraxis\":\"coloraxis\",\"geo\":\"geo\",\"hovertemplate\":\"week=41<br>Country=%{location}<br>USD=%{z}<extra></extra>\",\"locationmode\":\"country names\",\"locations\":[\"Argentina\",\"Australia\",\"Brazil\",\"Canada\",\"China\",\"European Union\",\"France\",\"Germany\",\"India\",\"Indonesia\",\"Italy\",\"Japan\",\"Mexico\",\"Russia\",\"Saudi Arabia\",\"South Africa\",\"South Korea\",\"Turkey\",\"United Kingdom\",\"United States\"],\"name\":\"\",\"z\":[586.8885265,4316.137759,17201.5128,12390.617994,317.64978426,3812.8184394000004,5762.8484692,15226.835509999999,159.78801461999998,0.3395195196,2207.9756038,222.06196268,1749.6716445999998,36.663263138,2231.537962,652.91150862,2.0514925622,147.9477761,7716.8644702,3422.6],\"type\":\"choropleth\"}],\"name\":\"41\"},{\"data\":[{\"coloraxis\":\"coloraxis\",\"geo\":\"geo\",\"hovertemplate\":\"week=42<br>Country=%{location}<br>USD=%{z}<extra></extra>\",\"locationmode\":\"country names\",\"locations\":[\"Argentina\",\"Australia\",\"Brazil\",\"Canada\",\"China\",\"European Union\",\"France\",\"Germany\",\"India\",\"Indonesia\",\"Italy\",\"Japan\",\"Mexico\",\"Russia\",\"Saudi Arabia\",\"South Africa\",\"South Korea\",\"Turkey\",\"United Kingdom\",\"United States\"],\"name\":\"\",\"z\":[617.7133192428572,4427.770775800001,17660.488374,12529.587152,339.72783742,3832.7485346000003,5798.4850808,15247.682691999998,161.67674156,0.34937505020000004,2095.5673097999997,223.37663265999998,1791.6739192,36.607787099999996,2286.5654076,651.6197466,2.0759999932,149.79027093999997,7705.1568294,3500.4],\"type\":\"choropleth\"}],\"name\":\"42\"},{\"data\":[{\"coloraxis\":\"coloraxis\",\"geo\":\"geo\",\"hovertemplate\":\"week=43<br>Country=%{location}<br>USD=%{z}<extra></extra>\",\"locationmode\":\"country names\",\"locations\":[\"Argentina\",\"Australia\",\"Brazil\",\"Canada\",\"China\",\"European Union\",\"France\",\"Germany\",\"India\",\"Indonesia\",\"Italy\",\"Japan\",\"Mexico\",\"Russia\",\"Saudi Arabia\",\"South Africa\",\"South Korea\",\"Turkey\",\"United Kingdom\",\"United States\"],\"name\":\"\",\"z\":[657.9070063714286,4386.2723204,17928.035806,12368.650492,336.28056102,3779.9826792,5777.1158924,14943.17713,161.74741713999998,0.3479153922,2213.9860982,224.09632317999998,1819.3049225999998,36.316024197999994,2273.1484572,664.72998622,2.0759476448000003,152.72760532,7595.7797418,3444.8],\"type\":\"choropleth\"}],\"name\":\"43\"},{\"data\":[{\"coloraxis\":\"coloraxis\",\"geo\":\"geo\",\"hovertemplate\":\"week=44<br>Country=%{location}<br>USD=%{z}<extra></extra>\",\"locationmode\":\"country names\",\"locations\":[\"Argentina\",\"Australia\",\"Brazil\",\"Canada\",\"China\",\"European Union\",\"France\",\"Germany\",\"India\",\"Indonesia\",\"Italy\",\"Japan\",\"Mexico\",\"Russia\",\"Saudi Arabia\",\"South Africa\",\"South Korea\",\"Turkey\",\"United Kingdom\",\"United States\"],\"name\":\"\",\"z\":[585.2489240000001,4277.7965648,17098.097778,11930.583569999999,331.60010124,3546.12207,5482.8262448000005,13884.08686,158.5327879,0.34887602360000003,2402.8375234,223.18082442,1777.4538951999998,35.192778768,2150.7239615999997,638.5094382,2.0551050638,139.04997039999998,7351.351502799999,3328.6],\"type\":\"choropleth\"}],\"name\":\"44\"},{\"data\":[{\"coloraxis\":\"coloraxis\",\"geo\":\"geo\",\"hovertemplate\":\"week=45<br>Country=%{location}<br>USD=%{z}<extra></extra>\",\"locationmode\":\"country names\",\"locations\":[\"Argentina\",\"Australia\",\"Brazil\",\"Canada\",\"China\",\"European Union\",\"France\",\"Germany\",\"India\",\"Indonesia\",\"Italy\",\"Japan\",\"Mexico\",\"Russia\",\"Saudi Arabia\",\"South Africa\",\"South Korea\",\"Turkey\",\"United Kingdom\",\"United States\"],\"name\":\"\",\"z\":[609.3045582428571,4343.302401999999,17190.238346000002,12174.51635,339.89166353999997,3680.3259615999996,5711.5271792,14357.677565999998,160.62431494,0.3591215424,2447.149613,227.54804015999997,1791.6161458,35.640562286,2150.3614022,661.553363,2.0939723938,138.39002098,7586.434888999999,3428.2],\"type\":\"choropleth\"}],\"name\":\"45\"},{\"data\":[{\"coloraxis\":\"coloraxis\",\"geo\":\"geo\",\"hovertemplate\":\"week=46<br>Country=%{location}<br>USD=%{z}<extra></extra>\",\"locationmode\":\"country names\",\"locations\":[\"Argentina\",\"Australia\",\"Brazil\",\"Canada\",\"China\",\"European Union\",\"France\",\"Germany\",\"India\",\"Indonesia\",\"Italy\",\"Japan\",\"Mexico\",\"Russia\",\"Saudi Arabia\",\"South Africa\",\"South Korea\",\"Turkey\",\"United Kingdom\",\"United States\"],\"name\":\"\",\"z\":[633.9781543571428,4643.3006064,19271.863442,12738.347082,345.9476961,4062.4142244000004,6371.7336510000005,15515.045476,170.19213172,0.386507655,2545.0393268,240.3923822,1976.1612254,39.18475658,2246.6335402,719.9013462199999,2.213487034,157.55286288,8316.0863484,3558.4],\"type\":\"choropleth\"}],\"name\":\"46\"},{\"data\":[{\"coloraxis\":\"coloraxis\",\"geo\":\"geo\",\"hovertemplate\":\"week=47<br>Country=%{location}<br>USD=%{z}<extra></extra>\",\"locationmode\":\"country names\",\"locations\":[\"Argentina\",\"Australia\",\"Brazil\",\"Canada\",\"China\",\"European Union\",\"France\",\"Germany\",\"India\",\"Indonesia\",\"Italy\",\"Japan\",\"Mexico\",\"Russia\",\"Saudi Arabia\",\"South Africa\",\"South Korea\",\"Turkey\",\"United Kingdom\",\"United States\"],\"name\":\"\",\"z\":[641.674086,4756.6878156,19805.413752,12929.956758,346.2539519,4110.8893084,6505.906774,15578.740974,172.35407736,0.3933221852,2562.420736,247.17989677999998,2053.251772,40.094732154,2288.5099838,738.6275494600001,2.2981452344,169.72619835999998,8436.381675,3589.0],\"type\":\"choropleth\"}],\"name\":\"47\"},{\"data\":[{\"coloraxis\":\"coloraxis\",\"geo\":\"geo\",\"hovertemplate\":\"week=48<br>Country=%{location}<br>USD=%{z}<extra></extra>\",\"locationmode\":\"country names\",\"locations\":[\"Argentina\",\"Australia\",\"Brazil\",\"Canada\",\"China\",\"European Union\",\"France\",\"Germany\",\"India\",\"Indonesia\",\"Italy\",\"Japan\",\"Mexico\",\"Russia\",\"Saudi Arabia\",\"South Africa\",\"South Korea\",\"Turkey\",\"United Kingdom\",\"United States\"],\"name\":\"\",\"z\":[673.8558144428572,4863.5684896,20415.684186,13261.408911999999,345.04654646,4166.465394000001,6607.0948078,15772.708388,175.02876458,0.4055865712,2563.275593,251.52114018000003,2108.6824672000002,41.095256232,2312.7678244000003,742.33698132,2.3585873800000003,168.83063796,8512.5015422,3620.25],\"type\":\"choropleth\"}],\"name\":\"48\"},{\"data\":[{\"coloraxis\":\"coloraxis\",\"geo\":\"geo\",\"hovertemplate\":\"week=49<br>Country=%{location}<br>USD=%{z}<extra></extra>\",\"locationmode\":\"country names\",\"locations\":[\"Argentina\",\"Australia\",\"Brazil\",\"Canada\",\"China\",\"European Union\",\"France\",\"Germany\",\"India\",\"Indonesia\",\"Italy\",\"Japan\",\"Mexico\",\"Russia\",\"Saudi Arabia\",\"South Africa\",\"South Korea\",\"Turkey\",\"United Kingdom\",\"United States\"],\"name\":\"\",\"z\":[674.2542152428571,4875.388816000001,21293.04037,13412.853016,347.84393014,4240.0546208,6715.446205,16033.903805999998,177.61574772,0.40827412760000004,2568.4113574000003,256.41162684,2156.8190416,41.793349894,2322.3442486,737.0687977,2.419212901,168.76959938,8607.0129356,3663.8],\"type\":\"choropleth\"}],\"name\":\"49\"},{\"data\":[{\"coloraxis\":\"coloraxis\",\"geo\":\"geo\",\"hovertemplate\":\"week=50<br>Country=%{location}<br>USD=%{z}<extra></extra>\",\"locationmode\":\"country names\",\"locations\":[\"Argentina\",\"Australia\",\"Brazil\",\"Canada\",\"China\",\"European Union\",\"France\",\"Germany\",\"India\",\"Indonesia\",\"Italy\",\"Japan\",\"Mexico\",\"Russia\",\"Saudi Arabia\",\"South Africa\",\"South Korea\",\"Turkey\",\"United Kingdom\",\"United States\"],\"name\":\"\",\"z\":[657.5192558857143,4975.1188364,22306.957922,13746.312005999998,346.32664762,4262.303771,6720.414024799999,16062.400932,182.20672646,0.42058345159999994,2585.0724185999998,255.84603884000003,2177.1262318,43.855793746,2304.769771,748.53163456,2.5284432378,172.42540250000002,8772.5676006,3679.6],\"type\":\"choropleth\"}],\"name\":\"50\"},{\"data\":[{\"coloraxis\":\"coloraxis\",\"geo\":\"geo\",\"hovertemplate\":\"week=51<br>Country=%{location}<br>USD=%{z}<extra></extra>\",\"locationmode\":\"country names\",\"locations\":[\"Argentina\",\"Australia\",\"Brazil\",\"Canada\",\"China\",\"European Union\",\"France\",\"Germany\",\"India\",\"Indonesia\",\"Italy\",\"Japan\",\"Mexico\",\"Russia\",\"Saudi Arabia\",\"South Africa\",\"South Korea\",\"Turkey\",\"United Kingdom\",\"United States\"],\"name\":\"\",\"z\":[640.0905945142857,5054.7388546,23027.409792,13762.210424,345.13900334,4305.8573713999995,6743.4543472000005,16431.115698,185.3757041,0.4297966576,2650.3940704,258.10795894,2192.8277672,44.513395257999996,2319.45541,725.4294572599999,2.5355398248,178.98083876,8784.3912316,3694.8],\"type\":\"choropleth\"}],\"name\":\"51\"},{\"data\":[{\"coloraxis\":\"coloraxis\",\"geo\":\"geo\",\"hovertemplate\":\"week=52<br>Country=%{location}<br>USD=%{z}<extra></extra>\",\"locationmode\":\"country names\",\"locations\":[\"Argentina\",\"Australia\",\"Brazil\",\"Canada\",\"China\",\"European Union\",\"France\",\"Germany\",\"India\",\"Indonesia\",\"Italy\",\"Japan\",\"Mexico\",\"Russia\",\"Saudi Arabia\",\"South Africa\",\"South Korea\",\"Turkey\",\"United Kingdom\",\"United States\"],\"name\":\"\",\"z\":[615.9395657142858,5036.1292452,22808.090497999998,13680.734174000001,348.06659638,4286.2311512,6695.8085508,16454.994206,183.7480481,0.4247822058,2700.3208913999997,256.98663676,2155.8766538,43.183893746,2312.5545152,717.59629804,2.5164899402,184.66788042000002,8708.8492066,3693.75],\"type\":\"choropleth\"}],\"name\":\"52\"},{\"data\":[{\"coloraxis\":\"coloraxis\",\"geo\":\"geo\",\"hovertemplate\":\"week=53<br>Country=%{location}<br>USD=%{z}<extra></extra>\",\"locationmode\":\"country names\",\"locations\":[\"Argentina\",\"Australia\",\"Brazil\",\"Canada\",\"China\",\"European Union\",\"France\",\"Germany\",\"India\",\"Indonesia\",\"Italy\",\"Japan\",\"Mexico\",\"Russia\",\"Saudi Arabia\",\"South Africa\",\"South Korea\",\"Turkey\",\"United Kingdom\",\"United States\"],\"name\":\"\",\"z\":[609.529431125,5071.5628645,22853.3364275,13684.7822,350.1568687,4373.51103875,6842.02569975,16817.787795,189.811961375,0.42881462400000003,2686.313893,263.81623387499997,2224.99112325,44.3079881225,2328.1938105,732.035286575,2.5977313515000002,196.74156349999998,8832.516873,3737.5],\"type\":\"choropleth\"}],\"name\":\"53\"}]);\n",
       "                        }).then(function(){\n",
       "                            \n",
       "var gd = document.getElementById('1a412610-37b0-4acc-9a80-34ef2fe2afa0');\n",
       "var x = new MutationObserver(function (mutations, observer) {{\n",
       "        var display = window.getComputedStyle(gd).display;\n",
       "        if (!display || display === 'none') {{\n",
       "            console.log([gd, 'removed!']);\n",
       "            Plotly.purge(gd);\n",
       "            observer.disconnect();\n",
       "        }}\n",
       "}});\n",
       "\n",
       "// Listen for the removal of the full notebook cells\n",
       "var notebookContainer = gd.closest('#notebook-container');\n",
       "if (notebookContainer) {{\n",
       "    x.observe(notebookContainer, {childList: true});\n",
       "}}\n",
       "\n",
       "// Listen for the clearing of the current output cell\n",
       "var outputEl = gd.closest('.output');\n",
       "if (outputEl) {{\n",
       "    x.observe(outputEl, {childList: true});\n",
       "}}\n",
       "\n",
       "                        })                };                });            </script>        </div>"
      ]
     },
     "metadata": {},
     "output_type": "display_data"
    }
   ],
   "source": [
    "fig = px.choropleth(index_2020_week, locations='Country',locationmode = \"country names\", color=\"USD\",range_color=(0, 15000), color_continuous_scale=\"YlGnBu\", animation_frame=\"week\")\n",
    "fig.update_layout(margin={\"r\":0,\"t\":0,\"l\":0,\"b\":0})\n",
    "fig.show()"
   ]
  },
  {
   "cell_type": "markdown",
   "id": "da8bc156",
   "metadata": {},
   "source": [
    "**Conclusion:** I guess it shows the volatilty in some of the G20 markets while others stayed somewhat steady. Turkey got destroyed "
   ]
  },
  {
   "cell_type": "markdown",
   "id": "14e973fe",
   "metadata": {},
   "source": [
    "##### Same Data but in Line Graph Form:"
   ]
  },
  {
   "cell_type": "code",
   "execution_count": 31,
   "id": "1c3aeece",
   "metadata": {
    "scrolled": false
   },
   "outputs": [
    {
     "data": {
      "text/plain": [
       "<AxesSubplot:xlabel='week', ylabel='USD'>"
      ]
     },
     "execution_count": 31,
     "metadata": {},
     "output_type": "execute_result"
    },
    {
     "data": {
      "image/png": "[encoded data removed]",
      "text/plain": [
       "<Figure size 2000x2000 with 1 Axes>"
      ]
     },
     "metadata": {},
     "output_type": "display_data"
    }
   ],
   "source": [
    "fig, ax = plt.subplots(figsize=(20, 20))\n",
    "sns.lineplot(x = index_2020_week[\"week\"], y= index_2020_week[\"USD\"], hue = index_2020_week[\"Country\"], ci=None)"
   ]
  },
  {
   "cell_type": "code",
   "execution_count": 32,
   "id": "f0e8c34b",
   "metadata": {},
   "outputs": [
    {
     "data": {
      "text/html": [
       "<div>\n",
       "<style scoped>\n",
       "    .dataframe tbody tr th:only-of-type {\n",
       "        vertical-align: middle;\n",
       "    }\n",
       "\n",
       "    .dataframe tbody tr th {\n",
       "        vertical-align: top;\n",
       "    }\n",
       "\n",
       "    .dataframe thead th {\n",
       "        text-align: right;\n",
       "    }\n",
       "</style>\n",
       "<table border=\"1\" class=\"dataframe\">\n",
       "  <thead>\n",
       "    <tr style=\"text-align: right;\">\n",
       "      <th></th>\n",
       "      <th>iso_code</th>\n",
       "      <th>continent</th>\n",
       "      <th>location</th>\n",
       "      <th>date</th>\n",
       "      <th>total_cases</th>\n",
       "      <th>new_cases</th>\n",
       "      <th>new_cases_smoothed</th>\n",
       "      <th>total_deaths</th>\n",
       "      <th>new_deaths</th>\n",
       "      <th>new_deaths_smoothed</th>\n",
       "      <th>...</th>\n",
       "      <th>male_smokers</th>\n",
       "      <th>handwashing_facilities</th>\n",
       "      <th>hospital_beds_per_thousand</th>\n",
       "      <th>life_expectancy</th>\n",
       "      <th>human_development_index</th>\n",
       "      <th>population</th>\n",
       "      <th>excess_mortality_cumulative_absolute</th>\n",
       "      <th>excess_mortality_cumulative</th>\n",
       "      <th>excess_mortality</th>\n",
       "      <th>excess_mortality_cumulative_per_million</th>\n",
       "    </tr>\n",
       "  </thead>\n",
       "  <tbody>\n",
       "    <tr>\n",
       "      <th>0</th>\n",
       "      <td>ARG</td>\n",
       "      <td>South America</td>\n",
       "      <td>Argentina</td>\n",
       "      <td>2020-01-01 0:00</td>\n",
       "      <td>0</td>\n",
       "      <td>0</td>\n",
       "      <td>0.000</td>\n",
       "      <td>0</td>\n",
       "      <td>0</td>\n",
       "      <td>0.000</td>\n",
       "      <td>...</td>\n",
       "      <td>27.7</td>\n",
       "      <td>0.0</td>\n",
       "      <td>5.00</td>\n",
       "      <td>76.67</td>\n",
       "      <td>0.845</td>\n",
       "      <td>45276780</td>\n",
       "      <td>0.0</td>\n",
       "      <td>0.0</td>\n",
       "      <td>0.0</td>\n",
       "      <td>0.0</td>\n",
       "    </tr>\n",
       "    <tr>\n",
       "      <th>1</th>\n",
       "      <td>ARG</td>\n",
       "      <td>South America</td>\n",
       "      <td>Argentina</td>\n",
       "      <td>2020-01-02 0:00</td>\n",
       "      <td>0</td>\n",
       "      <td>0</td>\n",
       "      <td>0.000</td>\n",
       "      <td>0</td>\n",
       "      <td>0</td>\n",
       "      <td>0.000</td>\n",
       "      <td>...</td>\n",
       "      <td>27.7</td>\n",
       "      <td>0.0</td>\n",
       "      <td>5.00</td>\n",
       "      <td>76.67</td>\n",
       "      <td>0.845</td>\n",
       "      <td>45276780</td>\n",
       "      <td>0.0</td>\n",
       "      <td>0.0</td>\n",
       "      <td>0.0</td>\n",
       "      <td>0.0</td>\n",
       "    </tr>\n",
       "    <tr>\n",
       "      <th>2</th>\n",
       "      <td>ARG</td>\n",
       "      <td>South America</td>\n",
       "      <td>Argentina</td>\n",
       "      <td>2020-01-03 0:00</td>\n",
       "      <td>0</td>\n",
       "      <td>0</td>\n",
       "      <td>0.000</td>\n",
       "      <td>0</td>\n",
       "      <td>0</td>\n",
       "      <td>0.000</td>\n",
       "      <td>...</td>\n",
       "      <td>27.7</td>\n",
       "      <td>0.0</td>\n",
       "      <td>5.00</td>\n",
       "      <td>76.67</td>\n",
       "      <td>0.845</td>\n",
       "      <td>45276780</td>\n",
       "      <td>0.0</td>\n",
       "      <td>0.0</td>\n",
       "      <td>0.0</td>\n",
       "      <td>0.0</td>\n",
       "    </tr>\n",
       "    <tr>\n",
       "      <th>3</th>\n",
       "      <td>ARG</td>\n",
       "      <td>South America</td>\n",
       "      <td>Argentina</td>\n",
       "      <td>2020-01-04 0:00</td>\n",
       "      <td>0</td>\n",
       "      <td>0</td>\n",
       "      <td>0.000</td>\n",
       "      <td>0</td>\n",
       "      <td>0</td>\n",
       "      <td>0.000</td>\n",
       "      <td>...</td>\n",
       "      <td>27.7</td>\n",
       "      <td>0.0</td>\n",
       "      <td>5.00</td>\n",
       "      <td>76.67</td>\n",
       "      <td>0.845</td>\n",
       "      <td>45276780</td>\n",
       "      <td>0.0</td>\n",
       "      <td>0.0</td>\n",
       "      <td>0.0</td>\n",
       "      <td>0.0</td>\n",
       "    </tr>\n",
       "    <tr>\n",
       "      <th>4</th>\n",
       "      <td>ARG</td>\n",
       "      <td>South America</td>\n",
       "      <td>Argentina</td>\n",
       "      <td>2020-01-05 0:00</td>\n",
       "      <td>0</td>\n",
       "      <td>0</td>\n",
       "      <td>0.000</td>\n",
       "      <td>0</td>\n",
       "      <td>0</td>\n",
       "      <td>0.000</td>\n",
       "      <td>...</td>\n",
       "      <td>27.7</td>\n",
       "      <td>0.0</td>\n",
       "      <td>5.00</td>\n",
       "      <td>76.67</td>\n",
       "      <td>0.845</td>\n",
       "      <td>45276780</td>\n",
       "      <td>0.0</td>\n",
       "      <td>0.0</td>\n",
       "      <td>0.0</td>\n",
       "      <td>0.0</td>\n",
       "    </tr>\n",
       "    <tr>\n",
       "      <th>...</th>\n",
       "      <td>...</td>\n",
       "      <td>...</td>\n",
       "      <td>...</td>\n",
       "      <td>...</td>\n",
       "      <td>...</td>\n",
       "      <td>...</td>\n",
       "      <td>...</td>\n",
       "      <td>...</td>\n",
       "      <td>...</td>\n",
       "      <td>...</td>\n",
       "      <td>...</td>\n",
       "      <td>...</td>\n",
       "      <td>...</td>\n",
       "      <td>...</td>\n",
       "      <td>...</td>\n",
       "      <td>...</td>\n",
       "      <td>...</td>\n",
       "      <td>...</td>\n",
       "      <td>...</td>\n",
       "      <td>...</td>\n",
       "      <td>...</td>\n",
       "    </tr>\n",
       "    <tr>\n",
       "      <th>19990</th>\n",
       "      <td>USA</td>\n",
       "      <td>North America</td>\n",
       "      <td>United States</td>\n",
       "      <td>2022-10-22 0:00</td>\n",
       "      <td>97195886</td>\n",
       "      <td>5316</td>\n",
       "      <td>37034.429</td>\n",
       "      <td>1067742</td>\n",
       "      <td>12</td>\n",
       "      <td>375.857</td>\n",
       "      <td>...</td>\n",
       "      <td>24.6</td>\n",
       "      <td>0.0</td>\n",
       "      <td>2.77</td>\n",
       "      <td>78.86</td>\n",
       "      <td>0.926</td>\n",
       "      <td>336997624</td>\n",
       "      <td>0.0</td>\n",
       "      <td>0.0</td>\n",
       "      <td>0.0</td>\n",
       "      <td>0.0</td>\n",
       "    </tr>\n",
       "    <tr>\n",
       "      <th>19991</th>\n",
       "      <td>USA</td>\n",
       "      <td>North America</td>\n",
       "      <td>United States</td>\n",
       "      <td>2022-10-23 0:00</td>\n",
       "      <td>97203986</td>\n",
       "      <td>8100</td>\n",
       "      <td>37241.571</td>\n",
       "      <td>1067743</td>\n",
       "      <td>1</td>\n",
       "      <td>375.429</td>\n",
       "      <td>...</td>\n",
       "      <td>24.6</td>\n",
       "      <td>0.0</td>\n",
       "      <td>2.77</td>\n",
       "      <td>78.86</td>\n",
       "      <td>0.926</td>\n",
       "      <td>336997624</td>\n",
       "      <td>0.0</td>\n",
       "      <td>0.0</td>\n",
       "      <td>0.0</td>\n",
       "      <td>0.0</td>\n",
       "    </tr>\n",
       "    <tr>\n",
       "      <th>19992</th>\n",
       "      <td>USA</td>\n",
       "      <td>North America</td>\n",
       "      <td>United States</td>\n",
       "      <td>2022-10-24 0:00</td>\n",
       "      <td>97244825</td>\n",
       "      <td>40839</td>\n",
       "      <td>37543.857</td>\n",
       "      <td>1067939</td>\n",
       "      <td>196</td>\n",
       "      <td>357.571</td>\n",
       "      <td>...</td>\n",
       "      <td>24.6</td>\n",
       "      <td>0.0</td>\n",
       "      <td>2.77</td>\n",
       "      <td>78.86</td>\n",
       "      <td>0.926</td>\n",
       "      <td>336997624</td>\n",
       "      <td>0.0</td>\n",
       "      <td>0.0</td>\n",
       "      <td>0.0</td>\n",
       "      <td>0.0</td>\n",
       "    </tr>\n",
       "    <tr>\n",
       "      <th>19993</th>\n",
       "      <td>USA</td>\n",
       "      <td>North America</td>\n",
       "      <td>United States</td>\n",
       "      <td>2022-10-25 0:00</td>\n",
       "      <td>97273529</td>\n",
       "      <td>28704</td>\n",
       "      <td>35437.857</td>\n",
       "      <td>1068354</td>\n",
       "      <td>415</td>\n",
       "      <td>356.143</td>\n",
       "      <td>...</td>\n",
       "      <td>24.6</td>\n",
       "      <td>0.0</td>\n",
       "      <td>2.77</td>\n",
       "      <td>78.86</td>\n",
       "      <td>0.926</td>\n",
       "      <td>336997624</td>\n",
       "      <td>0.0</td>\n",
       "      <td>0.0</td>\n",
       "      <td>0.0</td>\n",
       "      <td>0.0</td>\n",
       "    </tr>\n",
       "    <tr>\n",
       "      <th>19994</th>\n",
       "      <td>USA</td>\n",
       "      <td>North America</td>\n",
       "      <td>United States</td>\n",
       "      <td>2022-10-26 0:00</td>\n",
       "      <td>97343426</td>\n",
       "      <td>69897</td>\n",
       "      <td>36667.143</td>\n",
       "      <td>1069449</td>\n",
       "      <td>1095</td>\n",
       "      <td>406.000</td>\n",
       "      <td>...</td>\n",
       "      <td>24.6</td>\n",
       "      <td>0.0</td>\n",
       "      <td>2.77</td>\n",
       "      <td>78.86</td>\n",
       "      <td>0.926</td>\n",
       "      <td>336997624</td>\n",
       "      <td>0.0</td>\n",
       "      <td>0.0</td>\n",
       "      <td>0.0</td>\n",
       "      <td>0.0</td>\n",
       "    </tr>\n",
       "  </tbody>\n",
       "</table>\n",
       "<p>19995 rows × 67 columns</p>\n",
       "</div>"
      ],
      "text/plain": [
       "      iso_code      continent       location             date  total_cases  \\\n",
       "0          ARG  South America      Argentina  2020-01-01 0:00            0   \n",
       "1          ARG  South America      Argentina  2020-01-02 0:00            0   \n",
       "2          ARG  South America      Argentina  2020-01-03 0:00            0   \n",
       "3          ARG  South America      Argentina  2020-01-04 0:00            0   \n",
       "4          ARG  South America      Argentina  2020-01-05 0:00            0   \n",
       "...        ...            ...            ...              ...          ...   \n",
       "19990      USA  North America  United States  2022-10-22 0:00     97195886   \n",
       "19991      USA  North America  United States  2022-10-23 0:00     97203986   \n",
       "19992      USA  North America  United States  2022-10-24 0:00     97244825   \n",
       "19993      USA  North America  United States  2022-10-25 0:00     97273529   \n",
       "19994      USA  North America  United States  2022-10-26 0:00     97343426   \n",
       "\n",
       "       new_cases  new_cases_smoothed  total_deaths  new_deaths  \\\n",
       "0              0               0.000             0           0   \n",
       "1              0               0.000             0           0   \n",
       "2              0               0.000             0           0   \n",
       "3              0               0.000             0           0   \n",
       "4              0               0.000             0           0   \n",
       "...          ...                 ...           ...         ...   \n",
       "19990       5316           37034.429       1067742          12   \n",
       "19991       8100           37241.571       1067743           1   \n",
       "19992      40839           37543.857       1067939         196   \n",
       "19993      28704           35437.857       1068354         415   \n",
       "19994      69897           36667.143       1069449        1095   \n",
       "\n",
       "       new_deaths_smoothed  ...  male_smokers  handwashing_facilities  \\\n",
       "0                    0.000  ...          27.7                     0.0   \n",
       "1                    0.000  ...          27.7                     0.0   \n",
       "2                    0.000  ...          27.7                     0.0   \n",
       "3                    0.000  ...          27.7                     0.0   \n",
       "4                    0.000  ...          27.7                     0.0   \n",
       "...                    ...  ...           ...                     ...   \n",
       "19990              375.857  ...          24.6                     0.0   \n",
       "19991              375.429  ...          24.6                     0.0   \n",
       "19992              357.571  ...          24.6                     0.0   \n",
       "19993              356.143  ...          24.6                     0.0   \n",
       "19994              406.000  ...          24.6                     0.0   \n",
       "\n",
       "       hospital_beds_per_thousand  life_expectancy  human_development_index  \\\n",
       "0                            5.00            76.67                    0.845   \n",
       "1                            5.00            76.67                    0.845   \n",
       "2                            5.00            76.67                    0.845   \n",
       "3                            5.00            76.67                    0.845   \n",
       "4                            5.00            76.67                    0.845   \n",
       "...                           ...              ...                      ...   \n",
       "19990                        2.77            78.86                    0.926   \n",
       "19991                        2.77            78.86                    0.926   \n",
       "19992                        2.77            78.86                    0.926   \n",
       "19993                        2.77            78.86                    0.926   \n",
       "19994                        2.77            78.86                    0.926   \n",
       "\n",
       "       population  excess_mortality_cumulative_absolute  \\\n",
       "0        45276780                                   0.0   \n",
       "1        45276780                                   0.0   \n",
       "2        45276780                                   0.0   \n",
       "3        45276780                                   0.0   \n",
       "4        45276780                                   0.0   \n",
       "...           ...                                   ...   \n",
       "19990   336997624                                   0.0   \n",
       "19991   336997624                                   0.0   \n",
       "19992   336997624                                   0.0   \n",
       "19993   336997624                                   0.0   \n",
       "19994   336997624                                   0.0   \n",
       "\n",
       "       excess_mortality_cumulative  excess_mortality  \\\n",
       "0                              0.0               0.0   \n",
       "1                              0.0               0.0   \n",
       "2                              0.0               0.0   \n",
       "3                              0.0               0.0   \n",
       "4                              0.0               0.0   \n",
       "...                            ...               ...   \n",
       "19990                          0.0               0.0   \n",
       "19991                          0.0               0.0   \n",
       "19992                          0.0               0.0   \n",
       "19993                          0.0               0.0   \n",
       "19994                          0.0               0.0   \n",
       "\n",
       "       excess_mortality_cumulative_per_million  \n",
       "0                                          0.0  \n",
       "1                                          0.0  \n",
       "2                                          0.0  \n",
       "3                                          0.0  \n",
       "4                                          0.0  \n",
       "...                                        ...  \n",
       "19990                                      0.0  \n",
       "19991                                      0.0  \n",
       "19992                                      0.0  \n",
       "19993                                      0.0  \n",
       "19994                                      0.0  \n",
       "\n",
       "[19995 rows x 67 columns]"
      ]
     },
     "metadata": {},
     "output_type": "display_data"
    },
    {
     "data": {
      "text/plain": [
       "array(['date', 'Country', 'USD'], dtype=object)"
      ]
     },
     "execution_count": 32,
     "metadata": {},
     "output_type": "execute_result"
    }
   ],
   "source": [
    "display(g20_covid)\n",
    "g20_index_data.columns.values"
   ]
  },
  {
   "cell_type": "code",
   "execution_count": 33,
   "id": "d18385fd",
   "metadata": {},
   "outputs": [
    {
     "name": "stderr",
     "output_type": "stream",
     "text": [
      "C:\\Users\\kanen\\AppData\\Local\\Temp\\ipykernel_13924\\893411756.py:3: SettingWithCopyWarning:\n",
      "\n",
      "\n",
      "A value is trying to be set on a copy of a slice from a DataFrame.\n",
      "Try using .loc[row_indexer,col_indexer] = value instead\n",
      "\n",
      "See the caveats in the documentation: https://pandas.pydata.org/pandas-docs/stable/user_guide/indexing.html#returning-a-view-versus-a-copy\n",
      "\n",
      "C:\\Users\\kanen\\AppData\\Local\\Temp\\ipykernel_13924\\893411756.py:4: SettingWithCopyWarning:\n",
      "\n",
      "\n",
      "A value is trying to be set on a copy of a slice from a DataFrame.\n",
      "Try using .loc[row_indexer,col_indexer] = value instead\n",
      "\n",
      "See the caveats in the documentation: https://pandas.pydata.org/pandas-docs/stable/user_guide/indexing.html#returning-a-view-versus-a-copy\n",
      "\n"
     ]
    }
   ],
   "source": [
    "g20_covid_subset = g20_covid[[\"date\",\"location\", \"new_cases\", \"new_deaths\", \"new_tests\", \"new_vaccinations\"]]\n",
    "g20_index_subset = g20_index_data[[\"date\", \"USD\"]]\n",
    "g20_covid_subset['date'] =  pd.to_datetime(g20_covid_subset['date'], infer_datetime_format=True)\n",
    "g20_index_subset['date'] =  pd.to_datetime(g20_index_subset['date'], infer_datetime_format=True)"
   ]
  },
  {
   "cell_type": "markdown",
   "id": "2c1ea5ee",
   "metadata": {},
   "source": [
    "##### Correlation Heatmap for all Countries "
   ]
  },
  {
   "cell_type": "code",
   "execution_count": 19,
   "id": "a1d88fec",
   "metadata": {},
   "outputs": [
    {
     "data": {
      "image/png": "[encoded data removed]",
      "text/plain": [
       "<Figure size 2000x1600 with 2 Axes>"
      ]
     },
     "metadata": {},
     "output_type": "display_data"
    }
   ],
   "source": [
    "g20_covid_index = g20_covid_subset.merge(g20_index_subset, on='date', how='left')\n",
    "f, ax1 = plt.subplots(figsize=(20, 16))\n",
    "ax = sns.heatmap(g20_covid_index.iloc[:, 1:].corr(), annot=True, cmap=\"YlGnBu\")"
   ]
  },
  {
   "cell_type": "code",
   "execution_count": 43,
   "id": "ee6c3c7d",
   "metadata": {},
   "outputs": [
    {
     "data": {
      "text/html": [
       "<div>\n",
       "<style scoped>\n",
       "    .dataframe tbody tr th:only-of-type {\n",
       "        vertical-align: middle;\n",
       "    }\n",
       "\n",
       "    .dataframe tbody tr th {\n",
       "        vertical-align: top;\n",
       "    }\n",
       "\n",
       "    .dataframe thead th {\n",
       "        text-align: right;\n",
       "    }\n",
       "</style>\n",
       "<table border=\"1\" class=\"dataframe\">\n",
       "  <thead>\n",
       "    <tr style=\"text-align: right;\">\n",
       "      <th></th>\n",
       "      <th>date</th>\n",
       "      <th>Country</th>\n",
       "      <th>USD</th>\n",
       "    </tr>\n",
       "  </thead>\n",
       "  <tbody>\n",
       "    <tr>\n",
       "      <th>4854</th>\n",
       "      <td>2017-01-02</td>\n",
       "      <td>Canada</td>\n",
       "      <td>20933.88099</td>\n",
       "    </tr>\n",
       "    <tr>\n",
       "      <th>4855</th>\n",
       "      <td>2017-01-03</td>\n",
       "      <td>Canada</td>\n",
       "      <td>11459.37179</td>\n",
       "    </tr>\n",
       "    <tr>\n",
       "      <th>4856</th>\n",
       "      <td>2017-01-04</td>\n",
       "      <td>Canada</td>\n",
       "      <td>11561.04248</td>\n",
       "    </tr>\n",
       "    <tr>\n",
       "      <th>4857</th>\n",
       "      <td>2017-01-05</td>\n",
       "      <td>Canada</td>\n",
       "      <td>11720.43011</td>\n",
       "    </tr>\n",
       "    <tr>\n",
       "      <th>4858</th>\n",
       "      <td>2017-01-06</td>\n",
       "      <td>Canada</td>\n",
       "      <td>11713.30521</td>\n",
       "    </tr>\n",
       "    <tr>\n",
       "      <th>...</th>\n",
       "      <td>...</td>\n",
       "      <td>...</td>\n",
       "      <td>...</td>\n",
       "    </tr>\n",
       "    <tr>\n",
       "      <th>6381</th>\n",
       "      <td>2022-11-09</td>\n",
       "      <td>Canada</td>\n",
       "      <td>14419.24952</td>\n",
       "    </tr>\n",
       "    <tr>\n",
       "      <th>6382</th>\n",
       "      <td>2022-11-10</td>\n",
       "      <td>Canada</td>\n",
       "      <td>14778.39796</td>\n",
       "    </tr>\n",
       "    <tr>\n",
       "      <th>6383</th>\n",
       "      <td>2022-11-11</td>\n",
       "      <td>Canada</td>\n",
       "      <td>15086.07434</td>\n",
       "    </tr>\n",
       "    <tr>\n",
       "      <th>6384</th>\n",
       "      <td>2022-11-14</td>\n",
       "      <td>Canada</td>\n",
       "      <td>15086.07434</td>\n",
       "    </tr>\n",
       "    <tr>\n",
       "      <th>6385</th>\n",
       "      <td>2022-11-15</td>\n",
       "      <td>Canada</td>\n",
       "      <td>15086.07434</td>\n",
       "    </tr>\n",
       "  </tbody>\n",
       "</table>\n",
       "<p>1532 rows × 3 columns</p>\n",
       "</div>"
      ],
      "text/plain": [
       "           date Country          USD\n",
       "4854 2017-01-02  Canada  20933.88099\n",
       "4855 2017-01-03  Canada  11459.37179\n",
       "4856 2017-01-04  Canada  11561.04248\n",
       "4857 2017-01-05  Canada  11720.43011\n",
       "4858 2017-01-06  Canada  11713.30521\n",
       "...         ...     ...          ...\n",
       "6381 2022-11-09  Canada  14419.24952\n",
       "6382 2022-11-10  Canada  14778.39796\n",
       "6383 2022-11-11  Canada  15086.07434\n",
       "6384 2022-11-14  Canada  15086.07434\n",
       "6385 2022-11-15  Canada  15086.07434\n",
       "\n",
       "[1532 rows x 3 columns]"
      ]
     },
     "metadata": {},
     "output_type": "display_data"
    }
   ],
   "source": [
    "g20_covid_canada = g20_covid_subset.loc[g20_covid_subset['location'] == \"Canada\"]\n",
    "g20_index_canada = g20_index_data.loc[g20_index_data['Country'] == \"Canada\"]\n",
    "g20_covid_canada['date'] =  pd.to_datetime(g20_covid_canada['date'], infer_datetime_format=True)\n",
    "g20_index_canada['date'] =  pd.to_datetime(g20_index_canada['date'], infer_datetime_format=True)\n"
   ]
  },
  {
   "cell_type": "markdown",
   "id": "dc1fe2ce",
   "metadata": {},
   "source": [
    "##### Correlation Heatmap for all Just Canada"
   ]
  },
  {
   "cell_type": "code",
   "execution_count": 46,
   "id": "e9edc288",
   "metadata": {},
   "outputs": [
    {
     "data": {
      "image/png": "[encoded data removed]",
      "text/plain": [
       "<Figure size 2000x1600 with 2 Axes>"
      ]
     },
     "metadata": {},
     "output_type": "display_data"
    }
   ],
   "source": [
    "g20_covid_index_canada = g20_covid_canada.merge(g20_index_canada, on='date', how='left')\n",
    "g20_covid_index_canada = g20_covid_index_canada[[\"date\", \"new_cases\", \"new_deaths\", \"new_tests\", \"new_vaccinations\", \"USD\"]]\n",
    "f, ax1 = plt.subplots(figsize=(20, 16))\n",
    "ax = sns.heatmap(g20_covid_index_canada.iloc[:, 1:].corr(), annot=True, cmap=\"YlGnBu\")"
   ]
  },
  {
   "cell_type": "code",
   "execution_count": null,
   "id": "bad858bd",
   "metadata": {},
   "outputs": [],
   "source": []
  }
 ],
 "metadata": {
  "kernelspec": {
   "display_name": "Python 3 (ipykernel)",
   "language": "python",
   "name": "python3"
  },
  "language_info": {
   "codemirror_mode": {
    "name": "ipython",
    "version": 3
   },
   "file_extension": ".py",
   "mimetype": "text/x-python",
   "name": "python",
   "nbconvert_exporter": "python",
   "pygments_lexer": "ipython3",
   "version": "3.9.13"
  }
 },
 "nbformat": 4,
 "nbformat_minor": 5
}
