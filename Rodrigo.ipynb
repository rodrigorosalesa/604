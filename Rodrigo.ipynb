{
 "cells": [
  {
   "cell_type": "code",
   "execution_count": 93,
   "id": "a7db3f47",
   "metadata": {},
   "outputs": [],
   "source": [
    "import pandas as pd\n",
    "\n",
    "# Reading csv as dataframe\n",
    "g20_index_data = pd.read_csv(\"Datasets/Clean/UNION.csv\")\n",
    "g20_covid = pd.read_csv(\"Datasets/Clean/g20_covid.csv\")\n",
    "\n",
    "# g20_index_data.head()\n",
    "# g20_covid.head()"
   ]
  },
  {
   "cell_type": "code",
   "execution_count": 94,
   "id": "61d72500",
   "metadata": {},
   "outputs": [
    {
     "data": {
      "text/plain": [
       "Index(['iso_code', 'continent', 'location', 'date', 'total_cases', 'new_cases',\n",
       "       'new_cases_smoothed', 'total_deaths', 'new_deaths',\n",
       "       'new_deaths_smoothed', 'total_cases_per_million',\n",
       "       'new_cases_per_million', 'new_cases_smoothed_per_million',\n",
       "       'total_deaths_per_million', 'new_deaths_per_million',\n",
       "       'new_deaths_smoothed_per_million', 'reproduction_rate', 'icu_patients',\n",
       "       'icu_patients_per_million', 'hosp_patients',\n",
       "       'hosp_patients_per_million', 'weekly_icu_admissions',\n",
       "       'weekly_icu_admissions_per_million', 'weekly_hosp_admissions',\n",
       "       'weekly_hosp_admissions_per_million', 'total_tests', 'new_tests',\n",
       "       'total_tests_per_thousand', 'new_tests_per_thousand',\n",
       "       'new_tests_smoothed', 'new_tests_smoothed_per_thousand',\n",
       "       'positive_rate', 'tests_per_case', 'tests_units', 'total_vaccinations',\n",
       "       'people_vaccinated', 'people_fully_vaccinated', 'total_boosters',\n",
       "       'new_vaccinations', 'new_vaccinations_smoothed',\n",
       "       'total_vaccinations_per_hundred', 'people_vaccinated_per_hundred',\n",
       "       'people_fully_vaccinated_per_hundred', 'total_boosters_per_hundred',\n",
       "       'new_vaccinations_smoothed_per_million',\n",
       "       'new_people_vaccinated_smoothed',\n",
       "       'new_people_vaccinated_smoothed_per_hundred', 'stringency_index',\n",
       "       'population_density', 'median_age', 'aged_65_older', 'aged_70_older',\n",
       "       'gdp_per_capita', 'extreme_poverty', 'cardiovasc_death_rate',\n",
       "       'diabetes_prevalence', 'female_smokers', 'male_smokers',\n",
       "       'handwashing_facilities', 'hospital_beds_per_thousand',\n",
       "       'life_expectancy', 'human_development_index', 'population',\n",
       "       'excess_mortality_cumulative_absolute', 'excess_mortality_cumulative',\n",
       "       'excess_mortality', 'excess_mortality_cumulative_per_million'],\n",
       "      dtype='object')"
      ]
     },
     "execution_count": 94,
     "metadata": {},
     "output_type": "execute_result"
    }
   ],
   "source": [
    "g20_covid.columns"
   ]
  },
  {
   "cell_type": "code",
   "execution_count": 95,
   "id": "ffc9a2f1",
   "metadata": {},
   "outputs": [
    {
     "name": "stdout",
     "output_type": "stream",
     "text": [
      "<class 'pandas.core.frame.DataFrame'>\n",
      "RangeIndex: 30847 entries, 0 to 30846\n",
      "Data columns (total 3 columns):\n",
      " #   Column   Non-Null Count  Dtype  \n",
      "---  ------   --------------  -----  \n",
      " 0   date     30847 non-null  object \n",
      " 1   Country  30847 non-null  object \n",
      " 2   USD      30847 non-null  float64\n",
      "dtypes: float64(1), object(2)\n",
      "memory usage: 723.1+ KB\n"
     ]
    }
   ],
   "source": [
    "g20_index_data.info()"
   ]
  },
  {
   "cell_type": "code",
   "execution_count": 96,
   "id": "2a2718bb",
   "metadata": {},
   "outputs": [],
   "source": [
    "# Cleaning Dataset\n",
    "\n",
    "# Cleaning the date column to have only dates and not timestamps\n",
    "g20_covid['date'] = pd.to_datetime(g20_covid['date'], format=\"%Y/%m/%d\")\n",
    "g20_index_data['date'] = pd.to_datetime(g20_index_data['date'], format=\"%Y/%m/%d\")\n",
    "\n",
    "# Replacing the missing values of the indexes with the last seen value\n",
    "g20_index_data['USD'] = g20_index_data['USD'].replace(0, None)\n",
    "g20_index_data.ffill(inplace=True)\n",
    "\n",
    "# As we only have COVID data from february of 2020 we are going to cut g20_indexes to start the data from february of 2018\n",
    "g20_index_data = g20_index_data[g20_index_data['date'] >= pd.to_datetime('2018-02-01', format=\"%Y/%m/%d\")]\n",
    "\n",
    "# Feature Engineering\n",
    "# Creating a difference column for Index Data\n",
    "# g20_index_data['difference'] = g20_index_data['USD'].diff()\n",
    "\n",
    "# Creating a percentage of change for Index Data\n",
    "# g20_index_data['pct_change'] = g20_index_data['USD'].pct_change()\n",
    "\n",
    "# Creating a specific column from each part of the Date column\n",
    "g20_covid['year'] = g20_covid['date'].dt.year\n",
    "g20_covid['month'] = g20_covid['date'].dt.month\n",
    "g20_covid['day'] = g20_covid['date'].dt.day\n",
    "g20_covid['year_month'] = g20_covid['date'].dt.to_period('M')\n",
    "g20_index_data['year'] = g20_index_data['date'].dt.year\n",
    "g20_index_data['month'] = g20_index_data['date'].dt.month\n",
    "g20_index_data['day'] = g20_index_data['date'].dt.day\n",
    "g20_index_data['year_month'] = g20_index_data['date'].dt.to_period('M')\n",
    "\n",
    "# Creating a return and pct_change column\n",
    "g20_index_data = g20_index_data.sort_values(by=['date', 'Country'])\n",
    "\n",
    "g20_index_data['return'] = 1\n",
    "g20_index_data['pct_change'] = 1\n",
    "\n",
    "for country in list(g20_index_data['Country'].unique()):\n",
    "    g20_index_data.loc[g20_index_data['Country'] == country, 'return'] = g20_index_data.loc[g20_index_data['Country'] == country, 'USD'].diff()\n",
    "    g20_index_data.loc[g20_index_data['Country'] == country, 'pct_change'] = g20_index_data.loc[g20_index_data['Country'] == country, 'USD'].pct_change()\n"
   ]
  },
  {
   "cell_type": "markdown",
   "id": "43bf0953",
   "metadata": {},
   "source": [
    "1. How did COVID-19 impact the performance of the financial markets in G20 countries? \n",
    "    - What is the relationship between the prevalence and severity of COVID-19 (i.e., new COVID-19 cases, hospitalizations, ICU admissions, and deaths) in a country and the performance of that country’s strongest stock exchange index?"
   ]
  },
  {
   "cell_type": "code",
   "execution_count": null,
   "id": "90d2774e",
   "metadata": {},
   "outputs": [],
   "source": []
  }
 ],
 "metadata": {
  "kernelspec": {
   "display_name": "Python 3.10.7 ('.venv': venv)",
   "language": "python",
   "name": "python3"
  },
  "language_info": {
   "codemirror_mode": {
    "name": "ipython",
    "version": 3
   },
   "file_extension": ".py",
   "mimetype": "text/x-python",
   "name": "python",
   "nbconvert_exporter": "python",
   "pygments_lexer": "ipython3",
   "version": "3.10.7"
  },
  "vscode": {
   "interpreter": {
    "hash": "eca66d6ccf5891bb467b958118890f355f44c126d79e6b107a875d30940f0105"
   }
  }
 },
 "nbformat": 4,
 "nbformat_minor": 5
}
