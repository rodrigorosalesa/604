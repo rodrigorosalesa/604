{
 "cells": [
  {
   "cell_type": "code",
   "execution_count": null,
   "id": "a7db3f47",
   "metadata": {},
   "outputs": [
    {
     "ename": "",
     "evalue": "",
     "output_type": "error",
     "traceback": [
      "\u001b[1;31mLa ejecución de celdas con 'Python 3.10.7 ('venv': venv)' requieren el paquete ipykernel.\n",
      "\u001b[1;31mEjecute el siguiente comando para instalar 'ipykernel' en el entorno de Python. comando \n",
      "\u001b[1;31m: 'c:/Users/rodri/OneDrive/Documentos/Git/604/venv/Scripts/python.exe -m pip install ipykernel -U --force-reinstall'"
     ]
    }
   ],
   "source": [
    "import pandas as pd\n",
    "\n",
    "# Reading csv as dataframe\n",
    "g20_index_data = pd.read_csv(\"UNION.csv\")\n",
    "g20_covid = pd.read_csv(\"g20_covid.csv\")\n",
    "\n",
    "# g20_index_data.head()\n",
    "# g20_covid.head()"
   ]
  },
  {
   "cell_type": "code",
   "execution_count": null,
   "id": "61d72500",
   "metadata": {},
   "outputs": [],
   "source": [
    "g20_covid.info()"
   ]
  },
  {
   "cell_type": "code",
   "execution_count": null,
   "id": "2a2718bb",
   "metadata": {},
   "outputs": [],
   "source": [
    "# Cleaning Dataset\n",
    "g20_index_data['USD'] = g20_index_data['USD'].replace(0, None)\n",
    "g20_index_data.ffill(inplace=True)\n",
    "\n",
    "# As we only have COVID data from "
   ]
  }
 ],
 "metadata": {
  "kernelspec": {
   "display_name": "Python 3.10.7 ('venv': venv)",
   "language": "python",
   "name": "python3"
  },
  "language_info": {
   "codemirror_mode": {
    "name": "ipython",
    "version": 3
   },
   "file_extension": ".py",
   "mimetype": "text/x-python",
   "name": "python",
   "nbconvert_exporter": "python",
   "pygments_lexer": "ipython3",
   "version": "3.10.7"
  },
  "vscode": {
   "interpreter": {
    "hash": "03c9b0e33e9538aa328c99734ea5630d0f3f6eafded1eef380edd9d243bf746f"
   }
  }
 },
 "nbformat": 4,
 "nbformat_minor": 5
}
