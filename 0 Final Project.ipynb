{
 "cells": [
  {
   "cell_type": "code",
   "execution_count": 2,
   "id": "2738e053",
   "metadata": {},
   "outputs": [],
   "source": [
    "import numpy as np # linear algebra\n",
    "import pandas as pd # data processing\n",
    "import matplotlib.pyplot as plt # visualizations\n",
    "import seaborn as sns # visualizations\n",
    "import math # use math operators\n",
    "\n",
    "# Control the general style of the plots\n",
    "sns.set_style('whitegrid')"
   ]
  },
  {
   "cell_type": "code",
   "execution_count": null,
   "id": "adfcf073",
   "metadata": {},
   "outputs": [],
   "source": [
    "# Schema: final_project.\n",
    "\n",
    "# Table names:\n",
    "# currency_country\n",
    "# index_country\n",
    "# covid_data\n",
    "\n",
    "# g20_covid_data\n",
    "# g20_currency\n",
    "# g20_index\n",
    "# g20_index_usd "
   ]
  }
 ],
 "metadata": {
  "kernelspec": {
   "display_name": "Python 3.10.7 64-bit",
   "language": "python",
   "name": "python3"
  },
  "language_info": {
   "codemirror_mode": {
    "name": "ipython",
    "version": 3
   },
   "file_extension": ".py",
   "mimetype": "text/x-python",
   "name": "python",
   "nbconvert_exporter": "python",
   "pygments_lexer": "ipython3",
   "version": "3.10.7"
  },
  "vscode": {
   "interpreter": {
    "hash": "6e3977c52f5249dbc2a33b897faad1e0916758085298811edbd14ed6ad707d81"
   }
  }
 },
 "nbformat": 4,
 "nbformat_minor": 5
}
